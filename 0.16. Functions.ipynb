{
 "cells": [
  {
   "cell_type": "markdown",
   "id": "7ce43d1c-0646-4eaf-85ab-543c5dc02b3f",
   "metadata": {},
   "source": [
    "# **Functions**"
   ]
  },
  {
   "cell_type": "markdown",
   "id": "b5f5f469-c165-42e5-a1a8-28dee2cb8147",
   "metadata": {},
   "source": [
    "- Function is a group of related statements that perform a specific task.\n",
    "- A function is a set of statements that take inputs, do some specific computation and produces output."
   ]
  },
  {
   "cell_type": "markdown",
   "id": "426a23f2-427c-484f-b62c-751cecd938d0",
   "metadata": {},
   "source": [
    "- It avoids repetition and makes code reusable."
   ]
  },
  {
   "cell_type": "markdown",
   "id": "d9d4757b-ddd3-4f0d-aec5-8e83d4eecb61",
   "metadata": {},
   "source": [
    "- If we use functions writeen by others in the form of library. it can temed as  library functions. "
   ]
  },
  {
   "cell_type": "markdown",
   "id": "a10859f9-027b-4c1a-80e0-af7f8d7b5b95",
   "metadata": {},
   "source": [
    "# Types Of Functions "
   ]
  },
  {
   "cell_type": "markdown",
   "id": "2cd47879-aabc-4460-a6c8-30eb231e540b",
   "metadata": {},
   "source": [
    "1. inBuilt Function\n",
    "2. User-defined functions"
   ]
  },
  {
   "cell_type": "markdown",
   "id": "7044c2ad-540a-4bdf-9df0-de06115520ba",
   "metadata": {},
   "source": [
    "# Inbuilt Functions"
   ]
  },
  {
   "cell_type": "code",
   "execution_count": 5,
   "id": "f5691d18-7708-4bbc-b122-bc7ad0c3c134",
   "metadata": {},
   "outputs": [
    {
     "name": "stdout",
     "output_type": "stream",
     "text": [
      "10\n"
     ]
    }
   ],
   "source": [
    "print(10)"
   ]
  },
  {
   "cell_type": "code",
   "execution_count": 7,
   "id": "f19ceb28-067d-44ee-a41d-f29ce2678282",
   "metadata": {},
   "outputs": [
    {
     "data": {
      "text/plain": [
       "2"
      ]
     },
     "execution_count": 7,
     "metadata": {},
     "output_type": "execute_result"
    }
   ],
   "source": [
    "abs(-2)                      # returns absolute value"
   ]
  },
  {
   "cell_type": "code",
   "execution_count": 21,
   "id": "225e0775-6ca0-4f13-9a38-31dbbdc0b173",
   "metadata": {},
   "outputs": [
    {
     "data": {
      "text/plain": [
       "9"
      ]
     },
     "execution_count": 21,
     "metadata": {},
     "output_type": "execute_result"
    }
   ],
   "source": [
    "abs(-9)"
   ]
  },
  {
   "cell_type": "markdown",
   "id": "471d2fd3-cf72-4d7a-a141-5ed76234b878",
   "metadata": {},
   "source": [
    "# User-defined Functions"
   ]
  },
  {
   "cell_type": "markdown",
   "id": "cc87f3a0-d202-4d69-a4c2-1c27bbf839f0",
   "metadata": {},
   "source": [
    "- Functions that we define ourselves to do certain specific task are user-defined functions "
   ]
  },
  {
   "cell_type": "markdown",
   "id": "6df26f93-8dbe-4c41-acc7-964e512506de",
   "metadata": {},
   "source": [
    "- User-defined functions help to decompose a large program into small segments which makes program easy to understand.maintain and debug"
   ]
  },
  {
   "cell_type": "markdown",
   "id": "1c5461d2-9f44-44b5-be20-6f595ca5c99f",
   "metadata": {},
   "source": [
    "- If repeated code occurs in a program. Function can be used to include those codes and execute when needed by calling that function"
   ]
  },
  {
   "cell_type": "markdown",
   "id": "946b87fd-ab0d-4d59-96d6-fc709ec61b12",
   "metadata": {},
   "source": [
    "- Programmars working on large project can divide the worklod by making different functions."
   ]
  },
  {
   "cell_type": "markdown",
   "id": "96624049-9219-4275-acd3-109cd2753c99",
   "metadata": {},
   "source": [
    "# Syntax:"
   ]
  },
  {
   "cell_type": "markdown",
   "id": "4efc0df8-87dd-4706-9830-7dfbeb231018",
   "metadata": {},
   "source": [
    "def function_name(parameters):\n",
    "    \"\"\"\n",
    "    Doc string\n",
    "    \"\"\"\n",
    "    function body (statements):\n",
    "\n",
    "    return [expression]\n",
    "1. keyword \"del\" marks the start of function header\n",
    "2. Parameters (arguments) through which we pass values to a function. these are optional\n",
    "3. A colon(:) to mark the end of function header\n",
    "4. Doc string describe what the function does. This is optional\n",
    "5. \"return\" statement to return a value from the function. this is optional "
   ]
  },
  {
   "cell_type": "markdown",
   "id": "0e2d4536-9979-4acc-ab85-993b6794a828",
   "metadata": {},
   "source": [
    "# return"
   ]
  },
  {
   "cell_type": "markdown",
   "id": "5df82ddc-d3a2-4edf-8e3d-df05a12d6c9e",
   "metadata": {},
   "source": [
    "- The return statement is used to exit a function and go back to the place from where it was called.\n",
    "- return statement can contain an expression which gets evaluated and the value is returned.\n",
    "- if there is no expreesion in the statement or the return statement itself is not pesent inside a function, then the function will return none object."
   ]
  },
  {
   "cell_type": "code",
   "execution_count": 1,
   "id": "bdcdd847-9146-4a91-9150-a918fbb315ce",
   "metadata": {},
   "outputs": [],
   "source": [
    "# definding a function with doc string\n",
    "\n",
    "def square_this(x):\n",
    "    '''\n",
    "    this functional will return the square of the given number\n",
    "    '''\n",
    "    return x**2"
   ]
  },
  {
   "cell_type": "code",
   "execution_count": 2,
   "id": "2c760199-930f-4818-90a7-6480e109c9c0",
   "metadata": {},
   "outputs": [
    {
     "data": {
      "text/plain": [
       "9"
      ]
     },
     "execution_count": 2,
     "metadata": {},
     "output_type": "execute_result"
    }
   ],
   "source": [
    "# call the function\n",
    "square_this(3)"
   ]
  },
  {
   "cell_type": "code",
   "execution_count": 3,
   "id": "f55f9605-b937-4168-935d-1b63645dd7af",
   "metadata": {},
   "outputs": [
    {
     "data": {
      "text/plain": [
       "576"
      ]
     },
     "execution_count": 3,
     "metadata": {},
     "output_type": "execute_result"
    }
   ],
   "source": [
    "square_this(24)"
   ]
  },
  {
   "cell_type": "code",
   "execution_count": 22,
   "id": "ec080237-59e5-4013-8244-75fcb91d738e",
   "metadata": {},
   "outputs": [
    {
     "data": {
      "text/plain": [
       "1"
      ]
     },
     "execution_count": 22,
     "metadata": {},
     "output_type": "execute_result"
    }
   ],
   "source": [
    "square_this(1)"
   ]
  },
  {
   "cell_type": "code",
   "execution_count": 23,
   "id": "e7d9eda1-dc57-48be-afef-2064021cbe4d",
   "metadata": {},
   "outputs": [
    {
     "data": {
      "text/plain": [
       "64"
      ]
     },
     "execution_count": 23,
     "metadata": {},
     "output_type": "execute_result"
    }
   ],
   "source": [
    "square_this(8)"
   ]
  },
  {
   "cell_type": "code",
   "execution_count": 27,
   "id": "f4910ca0-0800-4fca-8eb3-9b95e43287ad",
   "metadata": {},
   "outputs": [
    {
     "name": "stdout",
     "output_type": "stream",
     "text": [
      "nag\n"
     ]
    }
   ],
   "source": [
    "# Defining a function with 1 argument\n",
    "def print_this(x):\n",
    "    print(x)\n",
    "#callig a function with 1 argument\n",
    "print_this(\"nag\")"
   ]
  },
  {
   "cell_type": "code",
   "execution_count": 28,
   "id": "4d673df4-92fa-4b33-a962-5bfea8d934a5",
   "metadata": {},
   "outputs": [
    {
     "name": "stdout",
     "output_type": "stream",
     "text": [
      "11043\n"
     ]
    }
   ],
   "source": [
    "# Defining a function with 2 argument\n",
    "def add(a,b):\n",
    "    c=a+b\n",
    "    print(c)\n",
    "#callig a function with 2 argument\n",
    "add(1448,9595)"
   ]
  },
  {
   "cell_type": "code",
   "execution_count": 6,
   "id": "6cc8d456-26e0-4215-94a3-4f4a693d340a",
   "metadata": {},
   "outputs": [
    {
     "name": "stdout",
     "output_type": "stream",
     "text": [
      "54\n"
     ]
    }
   ],
   "source": [
    "# Defining a function with 2 argument\n",
    "def add(a,b):\n",
    "    c=a+b\n",
    "    print(c)\n",
    "#callig a function with 2 argument\n",
    "add(35,19)"
   ]
  },
  {
   "cell_type": "code",
   "execution_count": 30,
   "id": "8b847228-ed29-40d0-854f-34a3642b9e95",
   "metadata": {},
   "outputs": [
    {
     "name": "stdout",
     "output_type": "stream",
     "text": [
      "6020\n"
     ]
    }
   ],
   "source": [
    "def add(a,b):\n",
    "    d=a+b\n",
    "    print(d)\n",
    "add(142,5878)"
   ]
  },
  {
   "cell_type": "code",
   "execution_count": 32,
   "id": "22fd9290-0e8d-41c8-bd88-7058516d051f",
   "metadata": {},
   "outputs": [
    {
     "name": "stdout",
     "output_type": "stream",
     "text": [
      "798\n"
     ]
    }
   ],
   "source": [
    "def sub(a,b):\n",
    "    d=a-b\n",
    "    print(d)\n",
    "sub(3254,2456)"
   ]
  },
  {
   "cell_type": "code",
   "execution_count": 37,
   "id": "6d52171e-0477-4059-9a35-626edae05fdf",
   "metadata": {},
   "outputs": [
    {
     "name": "stdout",
     "output_type": "stream",
     "text": [
      "4.0\n"
     ]
    }
   ],
   "source": [
    "def div(a,n):\n",
    "    g=a/n\n",
    "    print(g)\n",
    "div(20,5)"
   ]
  },
  {
   "cell_type": "code",
   "execution_count": 38,
   "id": "af4e0215-acb2-4c57-909e-7776330ffdd7",
   "metadata": {},
   "outputs": [
    {
     "name": "stdout",
     "output_type": "stream",
     "text": [
      "100\n"
     ]
    }
   ],
   "source": [
    "def mul(n,a):\n",
    "    j=n*a\n",
    "    print(j)\n",
    "mul(2,50)"
   ]
  },
  {
   "cell_type": "code",
   "execution_count": 7,
   "id": "01bc2c32-288f-4a19-bedd-67fcf9abd788",
   "metadata": {},
   "outputs": [
    {
     "name": "stdout",
     "output_type": "stream",
     "text": [
      "this is text\n"
     ]
    }
   ],
   "source": [
    "# Defining a function with no argument\n",
    "\n",
    "def print_text():\n",
    "    print('this is text')\n",
    "\n",
    "#callig a function with no argument\n",
    "print_text()"
   ]
  },
  {
   "cell_type": "code",
   "execution_count": 41,
   "id": "923adbc6-86e2-4200-92d7-a32338d11ad2",
   "metadata": {},
   "outputs": [
    {
     "name": "stdout",
     "output_type": "stream",
     "text": [
      "Arjun surya ajay\n"
     ]
    }
   ],
   "source": [
    "def print_what_you_want():\n",
    "    print('Arjun surya ajay')\n",
    "print_what_you_want()"
   ]
  },
  {
   "cell_type": "code",
   "execution_count": 42,
   "id": "c81c2360-f85c-4c81-b7be-25571d7739f5",
   "metadata": {},
   "outputs": [
    {
     "name": "stdout",
     "output_type": "stream",
     "text": [
      "Arjun surya ajay\n"
     ]
    }
   ],
   "source": [
    "def print_what_you_want():\n",
    "    print('Arjun', 'surya' ,'ajay')\n",
    "print_what_you_want()"
   ]
  },
  {
   "cell_type": "code",
   "execution_count": 39,
   "id": "016f4bcd-31a5-45af-88f5-c3fa9fbb27dd",
   "metadata": {},
   "outputs": [
    {
     "name": "stdout",
     "output_type": "stream",
     "text": [
      "Arjun\n"
     ]
    }
   ],
   "source": [
    "def print_yours():\n",
    "    print('Arjun')\n",
    "print_yours()"
   ]
  },
  {
   "cell_type": "code",
   "execution_count": 11,
   "id": "1923a7ef-26a1-49f1-ab43-16de568be7d2",
   "metadata": {},
   "outputs": [
    {
     "name": "stdout",
     "output_type": "stream",
     "text": [
      "5 22222\n"
     ]
    }
   ],
   "source": [
    "# Defining a function with returns two values\n",
    "def min_max(num):\n",
    "    a=min(num)\n",
    "    b=max(num)\n",
    "    return a,b\n",
    "\n",
    "#call the function\n",
    "a,b = min_max([11111,22222,5])\n",
    "print(a,b)"
   ]
  },
  {
   "cell_type": "code",
   "execution_count": 44,
   "id": "abd0f81d-cc43-46fe-91d5-d90de396320e",
   "metadata": {},
   "outputs": [
    {
     "name": "stdout",
     "output_type": "stream",
     "text": [
      "555 541548\n"
     ]
    }
   ],
   "source": [
    "def min_max(num):\n",
    "    a=min(num)\n",
    "    b=max(num)\n",
    "    return a,b\n",
    "\n",
    "a,b = min_max ([3232,555,1545,484845,541548,15484,458855])\n",
    "print(a,b)"
   ]
  },
  {
   "cell_type": "code",
   "execution_count": 45,
   "id": "6be385d8-e48e-47ad-820a-6ebcb8cd9806",
   "metadata": {},
   "outputs": [
    {
     "name": "stdout",
     "output_type": "stream",
     "text": [
      "48 5545\n"
     ]
    }
   ],
   "source": [
    "def min_max(num):\n",
    "    a=min(num)\n",
    "    n=max(num)\n",
    "    return a,n\n",
    "\n",
    "a,n =min_max([121,445,48,5461,5545,415])\n",
    "print(a,n)"
   ]
  },
  {
   "cell_type": "markdown",
   "id": "2de65443-dd20-4cbe-bfdd-6d7863cd2fc1",
   "metadata": {},
   "source": [
    "# Different types of Arguments"
   ]
  },
  {
   "cell_type": "markdown",
   "id": "ad41e473-deb2-4d98-97ce-3d85dc470fde",
   "metadata": {},
   "source": [
    "- Function with No Arguments"
   ]
  },
  {
   "cell_type": "code",
   "execution_count": 13,
   "id": "c0a031b1-8814-4cb0-b920-43cadae3b95b",
   "metadata": {},
   "outputs": [
    {
     "name": "stdout",
     "output_type": "stream",
     "text": [
      "hello surya good morning\n"
     ]
    }
   ],
   "source": [
    "# Defining a function\n",
    "\n",
    "def greet():\n",
    "    print('hello','surya','good morning')\n",
    "\n",
    "# Call a function\n",
    "greet()"
   ]
  },
  {
   "cell_type": "code",
   "execution_count": 46,
   "id": "e1c1ed3f-e7a7-4432-a186-59e5a59e1dcc",
   "metadata": {},
   "outputs": [
    {
     "name": "stdout",
     "output_type": "stream",
     "text": [
      "hello\n"
     ]
    }
   ],
   "source": [
    "def greet():\n",
    "    print(\"hello\")\n",
    "\n",
    "greet()"
   ]
  },
  {
   "cell_type": "code",
   "execution_count": 48,
   "id": "e93a630c-d391-44dd-9945-61f0e08edfdf",
   "metadata": {},
   "outputs": [
    {
     "name": "stdout",
     "output_type": "stream",
     "text": [
      "hello boss\n"
     ]
    }
   ],
   "source": [
    "def greet():\n",
    "    print(\"hello\",'boss')\n",
    "\n",
    "greet()"
   ]
  },
  {
   "cell_type": "markdown",
   "id": "36fdb5e3-c660-46f2-8845-abb11c70c674",
   "metadata": {},
   "source": [
    "1. **Positional Arguments**\n",
    "- the number of arguments while defining a function & calling a function should be same. Otherwise, it throws error\n",
    "- order is preserved\n",
    "- its executes in the same order"
   ]
  },
  {
   "cell_type": "code",
   "execution_count": 15,
   "id": "1bc99256-6387-4248-ad5a-836b7f4fff2a",
   "metadata": {},
   "outputs": [
    {
     "name": "stdout",
     "output_type": "stream",
     "text": [
      "Hello srk good morning\n",
      "Hello morning srk\n",
      "Hello 1 2\n"
     ]
    }
   ],
   "source": [
    "# Defining a function \n",
    "def greet(name,msg):\n",
    "    print(\"Hello\",name,msg)\n",
    "# Call the function\n",
    "greet(\"srk\",\"Good morning\")\n",
    "greet(\"morning\",\"srk\")\n",
    "greet(1,2)"
   ]
  },
  {
   "cell_type": "code",
   "execution_count": 55,
   "id": "bade19fa-d347-4846-8068-8f4248e74ba8",
   "metadata": {},
   "outputs": [
    {
     "name": "stdout",
     "output_type": "stream",
     "text": [
      "hello Arjun Good Morning\n",
      "hello Morning Arjun\n",
      "hello 11 22\n"
     ]
    }
   ],
   "source": [
    "def greet(name,msg):\n",
    "    print(\"hello\",name,msg)\n",
    "greet('Arjun','Good Morning')\n",
    "greet('Morning','Arjun')\n",
    "greet(11,22)"
   ]
  },
  {
   "cell_type": "code",
   "execution_count": 57,
   "id": "c67794df-379f-4f9b-a68b-e9030e1fbbbb",
   "metadata": {},
   "outputs": [
    {
     "name": "stdout",
     "output_type": "stream",
     "text": [
      "Hello Naga Good Morning\n",
      "Hello Good Morning Naga\n",
      "Hello 14 16\n"
     ]
    }
   ],
   "source": [
    "def greet(name,msg):\n",
    "    print('Hello',name,msg)\n",
    "\n",
    "greet('Naga','Good Morning')\n",
    "greet('Good Morning','Naga')\n",
    "greet(14,16)"
   ]
  },
  {
   "cell_type": "code",
   "execution_count": 18,
   "id": "7c0ff300-2907-42c6-a9ce-fc0ca38b4fe6",
   "metadata": {},
   "outputs": [
    {
     "ename": "TypeError",
     "evalue": "greet() missing 1 required positional argument: 'msg'",
     "output_type": "error",
     "traceback": [
      "\u001b[1;31m---------------------------------------------------------------------------\u001b[0m",
      "\u001b[1;31mTypeError\u001b[0m                                 Traceback (most recent call last)",
      "Cell \u001b[1;32mIn[18], line 2\u001b[0m\n\u001b[0;32m      1\u001b[0m \u001b[38;5;66;03m# Suppose if we pass one argument\u001b[39;00m\n\u001b[1;32m----> 2\u001b[0m greet(\u001b[38;5;124m\"\u001b[39m\u001b[38;5;124mmorning\u001b[39m\u001b[38;5;124m\"\u001b[39m)\n",
      "\u001b[1;31mTypeError\u001b[0m: greet() missing 1 required positional argument: 'msg'"
     ]
    }
   ],
   "source": [
    "# Suppose if we pass one argument\n",
    "greet(\"morning\")               #will get an error"
   ]
  },
  {
   "cell_type": "markdown",
   "id": "b506bf47-87b5-424d-8ffc-beed9bbe99de",
   "metadata": {},
   "source": [
    "2. **Default Arguments**"
   ]
  },
  {
   "cell_type": "markdown",
   "id": "568788f9-2939-4cb9-ba39-70af8d706c5e",
   "metadata": {},
   "source": [
    "1. While creating a function, we are assigning a default value to an arguments by using the assignment operater(=).\n",
    "-  If you dont assign the value for default arguments, it will automatically selesct the default value\n",
    "-  If you assign the value for default argument, it will consider that value which you have assigned"
   ]
  },
  {
   "cell_type": "code",
   "execution_count": 1,
   "id": "7cb89c23-8406-4a63-915f-13232060a30d",
   "metadata": {},
   "outputs": [
    {
     "name": "stdout",
     "output_type": "stream",
     "text": [
      "Hello srk good night\n",
      "Hello srk Good Morning\n"
     ]
    }
   ],
   "source": [
    "#defining a function\n",
    "def greet_1(name,msg=\"Good Morning\"):\n",
    "    print(\"Hello\",name,msg)\n",
    "\n",
    "#call the function \n",
    "greet_1(\"srk\",\"good night\")\n",
    "greet_1(\"srk\")\n"
   ]
  },
  {
   "cell_type": "code",
   "execution_count": 58,
   "id": "a13b1c0f-c61e-40bb-8ba4-e436b53c2d1b",
   "metadata": {},
   "outputs": [
    {
     "name": "stdout",
     "output_type": "stream",
     "text": [
      "Hello Arjun Good afternoon\n",
      "Hello Arjun Good Morning\n"
     ]
    }
   ],
   "source": [
    "def greet_1(name,msg='Good Morning'):\n",
    "    print('Hello',name,msg)\n",
    "greet_1('Arjun','Good afternoon')\n",
    "greet_1('Arjun')"
   ]
  },
  {
   "cell_type": "markdown",
   "id": "4a7f3608-d91b-43df-9355-1c608949bc32",
   "metadata": {},
   "source": [
    "3. **keyword Arguments**"
   ]
  },
  {
   "cell_type": "code",
   "execution_count": 5,
   "id": "c750bbdb-d7e8-4e31-b878-36df0ba17c11",
   "metadata": {},
   "outputs": [
    {
     "name": "stdout",
     "output_type": "stream",
     "text": [
      "Hello 1\n",
      "Hello 2\n",
      "Hello 3\n",
      "Hello 100\n"
     ]
    }
   ],
   "source": [
    "#defing a function\n",
    "def greet(*n):\n",
    "    for i in n:\n",
    "        print(\"Hello\",i)\n",
    "\n",
    "#call the function\n",
    "greet(1,2,3,100)"
   ]
  },
  {
   "cell_type": "code",
   "execution_count": 66,
   "id": "02f0fd4a-deee-498a-9f28-bb17f9f38d5e",
   "metadata": {},
   "outputs": [
    {
     "name": "stdout",
     "output_type": "stream",
     "text": [
      "Hi 1\n",
      "Hi 100\n",
      "Hi 1\n"
     ]
    }
   ],
   "source": [
    "def greet(*n):\n",
    "    for i in n:\n",
    "        print('Hi',i)\n",
    "\n",
    "greet(1,100,1)"
   ]
  },
  {
   "cell_type": "markdown",
   "id": "8d1c92aa-1f24-4b3c-8e88-1f156cad1625",
   "metadata": {},
   "source": [
    "**Recussive Function or Recursion**\n",
    "- a function can call other functions it is even possible for the function to call itself. These type of construct are termed as recursive functions."
   ]
  },
  {
   "cell_type": "code",
   "execution_count": 7,
   "id": "c338f898-e72d-4dfe-9d5c-1bf870b54fd6",
   "metadata": {},
   "outputs": [
    {
     "data": {
      "text/plain": [
       "120"
      ]
     },
     "execution_count": 7,
     "metadata": {},
     "output_type": "execute_result"
    }
   ],
   "source": [
    "def factorial(x):\n",
    "    if type(x)==int:\n",
    "        if x==0:\n",
    "            return 1\n",
    "        elif x>0:\n",
    "            return x*factorial(x-1)\n",
    "    else:\n",
    "        print(\"value error\")\n",
    "#cal the function\n",
    "factorial(5)"
   ]
  },
  {
   "cell_type": "code",
   "execution_count": null,
   "id": "caf7eadf-98f9-4852-a947-3c654c61883b",
   "metadata": {},
   "outputs": [],
   "source": []
  },
  {
   "cell_type": "markdown",
   "id": "eb6f6bda-4c28-44ff-9725-83f0b925c72d",
   "metadata": {},
   "source": [
    "**Anonymous (Lambda) functions**\n",
    "- Primary used to temporarily define a function for use by another function"
   ]
  },
  {
   "cell_type": "code",
   "execution_count": 11,
   "id": "7430e8c1-8b2e-40e5-b196-83acbbd41f08",
   "metadata": {},
   "outputs": [],
   "source": [
    "# defining a function the \"usual\" way\n",
    "def squred(x):\n",
    "    return x**2"
   ]
  },
  {
   "cell_type": "code",
   "execution_count": 14,
   "id": "57af252f-522c-4d64-9a35-2e0d3618bd62",
   "metadata": {},
   "outputs": [],
   "source": [
    "#define an identical function using lambda\n",
    "squared = lambda x: x**2"
   ]
  },
  {
   "cell_type": "code",
   "execution_count": 17,
   "id": "16dfd5e8-490c-4969-ae75-eee2ecdf5a47",
   "metadata": {},
   "outputs": [
    {
     "data": {
      "text/plain": [
       "4"
      ]
     },
     "execution_count": 17,
     "metadata": {},
     "output_type": "execute_result"
    }
   ],
   "source": [
    "squared(2)"
   ]
  },
  {
   "cell_type": "code",
   "execution_count": 20,
   "id": "aba67600-84e9-4179-8366-6b9999c088b2",
   "metadata": {},
   "outputs": [
    {
     "data": {
      "text/plain": [
       "81"
      ]
     },
     "execution_count": 20,
     "metadata": {},
     "output_type": "execute_result"
    }
   ],
   "source": [
    "def square_this(x):\n",
    "    '''\n",
    "    this functional will return the square of the given number\n",
    "    '''\n",
    "    return x**2\n",
    "\n",
    "square_this(9)"
   ]
  },
  {
   "cell_type": "code",
   "execution_count": 95,
   "id": "eceeada6-0b40-4aa2-a21e-477a877e6eb5",
   "metadata": {},
   "outputs": [
    {
     "data": {
      "text/plain": [
       "25"
      ]
     },
     "execution_count": 95,
     "metadata": {},
     "output_type": "execute_result"
    }
   ],
   "source": [
    "def squared(x):\n",
    "    return x**2\n",
    "\n",
    "squared =lambda x:x**2\n",
    "squared(5)"
   ]
  },
  {
   "cell_type": "code",
   "execution_count": null,
   "id": "8e97cf6e-8395-44b4-afb9-7fdc98026565",
   "metadata": {},
   "outputs": [],
   "source": []
  }
 ],
 "metadata": {
  "kernelspec": {
   "display_name": "Python 3 (ipykernel)",
   "language": "python",
   "name": "python3"
  },
  "language_info": {
   "codemirror_mode": {
    "name": "ipython",
    "version": 3
   },
   "file_extension": ".py",
   "mimetype": "text/x-python",
   "name": "python",
   "nbconvert_exporter": "python",
   "pygments_lexer": "ipython3",
   "version": "3.12.4"
  }
 },
 "nbformat": 4,
 "nbformat_minor": 5
}
