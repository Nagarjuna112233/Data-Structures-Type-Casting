{
 "cells": [
  {
   "cell_type": "markdown",
   "id": "af6c90e4-73a8-4021-b0f1-cd6bb6f912ea",
   "metadata": {},
   "source": [
    "**single line comment**"
   ]
  },
  {
   "cell_type": "code",
   "execution_count": 1,
   "id": "e1dea803-fd0f-41c0-b7df-c79a9242226c",
   "metadata": {},
   "outputs": [
    {
     "name": "stdout",
     "output_type": "stream",
     "text": [
      "hello world!\n"
     ]
    }
   ],
   "source": [
    "# single line comment\n",
    "print(\"hello world!\")"
   ]
  },
  {
   "cell_type": "markdown",
   "id": "fb21df0f-056c-4226-a3b7-c1e95afacd26",
   "metadata": {},
   "source": [
    "**multi line comment**"
   ]
  },
  {
   "cell_type": "code",
   "execution_count": 2,
   "id": "232f9987-1b5c-4724-b669-75cb13f0990b",
   "metadata": {},
   "outputs": [
    {
     "name": "stdout",
     "output_type": "stream",
     "text": [
      "hello world!\n"
     ]
    }
   ],
   "source": [
    "'''\n",
    "1st line\n",
    "2nd line\n",
    "3rd line\n",
    "'''\n",
    "\n",
    "print(\"hello world!\")"
   ]
  },
  {
   "cell_type": "markdown",
   "id": "0a0cf2ac-b5ef-4bd7-ab12-84cf923d9121",
   "metadata": {},
   "source": [
    "# Variables"
   ]
  },
  {
   "cell_type": "code",
   "execution_count": 3,
   "id": "6e0f0ccb-1bea-465b-a7da-477fa33c826b",
   "metadata": {},
   "outputs": [
    {
     "name": "stdout",
     "output_type": "stream",
     "text": [
      "9\n"
     ]
    }
   ],
   "source": [
    "a = 9\n",
    "print(a)"
   ]
  },
  {
   "cell_type": "code",
   "execution_count": 4,
   "id": "1bc35768-485d-4e11-8e23-20a8c0b8abcd",
   "metadata": {},
   "outputs": [
    {
     "name": "stdout",
     "output_type": "stream",
     "text": [
      "2.0\n"
     ]
    }
   ],
   "source": [
    "A = 2.0\n",
    "print(A)"
   ]
  },
  {
   "cell_type": "code",
   "execution_count": 6,
   "id": "c714de47-ac48-4019-b369-ac4d2b9cefcf",
   "metadata": {},
   "outputs": [
    {
     "name": "stdout",
     "output_type": "stream",
     "text": [
      "NAG\n"
     ]
    }
   ],
   "source": [
    "Z = \"NAG\"\n",
    "print(Z)"
   ]
  },
  {
   "cell_type": "code",
   "execution_count": 7,
   "id": "75ad59bf-9907-4e78-9cc9-f6bb63da890b",
   "metadata": {},
   "outputs": [
    {
     "ename": "SyntaxError",
     "evalue": "invalid decimal literal (4233643936.py, line 1)",
     "output_type": "error",
     "traceback": [
      "\u001b[1;36m  Cell \u001b[1;32mIn[7], line 1\u001b[1;36m\u001b[0m\n\u001b[1;33m    1a=50\u001b[0m\n\u001b[1;37m    ^\u001b[0m\n\u001b[1;31mSyntaxError\u001b[0m\u001b[1;31m:\u001b[0m invalid decimal literal\n"
     ]
    }
   ],
   "source": [
    "1a=50\n",
    "print(1a)"
   ]
  },
  {
   "cell_type": "code",
   "execution_count": 8,
   "id": "c77394b9-0581-46b5-beea-91e2250be396",
   "metadata": {},
   "outputs": [
    {
     "ename": "SyntaxError",
     "evalue": "invalid syntax (2630263448.py, line 1)",
     "output_type": "error",
     "traceback": [
      "\u001b[1;36m  Cell \u001b[1;32mIn[8], line 1\u001b[1;36m\u001b[0m\n\u001b[1;33m    if = 5\u001b[0m\n\u001b[1;37m       ^\u001b[0m\n\u001b[1;31mSyntaxError\u001b[0m\u001b[1;31m:\u001b[0m invalid syntax\n"
     ]
    }
   ],
   "source": [
    "if = 5"
   ]
  },
  {
   "cell_type": "markdown",
   "id": "bf8a15a3-8df2-4910-8d7b-baf86a8823ac",
   "metadata": {},
   "source": [
    "**many values to multiple variables**"
   ]
  },
  {
   "cell_type": "markdown",
   "id": "85f8289b-f042-4f74-9aaf-73f287ab60aa",
   "metadata": {},
   "source": [
    "- and you can assign the same value to multiple variables in one line"
   ]
  },
  {
   "cell_type": "code",
   "execution_count": 9,
   "id": "d2fcaf6c-33c1-494a-9f9b-d053b9758bb7",
   "metadata": {},
   "outputs": [
    {
     "name": "stdout",
     "output_type": "stream",
     "text": [
      "30 30 30\n"
     ]
    }
   ],
   "source": [
    "a = b = c =30\n",
    "print(a,b,c)"
   ]
  },
  {
   "cell_type": "markdown",
   "id": "861cfef4-1ba0-4ac1-8227-5d7e098f3d3e",
   "metadata": {},
   "source": [
    "- **id** --to check the address of the value or a variable"
   ]
  },
  {
   "cell_type": "code",
   "execution_count": 10,
   "id": "66a1cb73-4087-482d-af13-17bdc22b1fa3",
   "metadata": {},
   "outputs": [
    {
     "data": {
      "text/plain": [
       "140725454258136"
      ]
     },
     "execution_count": 10,
     "metadata": {},
     "output_type": "execute_result"
    }
   ],
   "source": [
    "a = 50\n",
    "id(a)"
   ]
  },
  {
   "cell_type": "markdown",
   "id": "1382ab49-b382-4000-a1b9-3623f53e5e03",
   "metadata": {},
   "source": [
    "**in python, the latest value will stored in a variable**"
   ]
  },
  {
   "cell_type": "code",
   "execution_count": 11,
   "id": "6f630999-76ea-4b8f-8c1c-eb373ea9647a",
   "metadata": {},
   "outputs": [
    {
     "name": "stdout",
     "output_type": "stream",
     "text": [
      "20\n"
     ]
    }
   ],
   "source": [
    "a = 20\n",
    "print(a)"
   ]
  },
  {
   "cell_type": "code",
   "execution_count": 12,
   "id": "1ed87799-fd37-4d7c-a604-e88972ee0812",
   "metadata": {},
   "outputs": [
    {
     "name": "stdout",
     "output_type": "stream",
     "text": [
      "Arjun\n"
     ]
    }
   ],
   "source": [
    "a = \"Arjun\"\n",
    "print(a)"
   ]
  },
  {
   "cell_type": "markdown",
   "id": "4a7dce9f-3c68-4806-98c1-11d12da09507",
   "metadata": {},
   "source": [
    "# deleting variabe"
   ]
  },
  {
   "cell_type": "markdown",
   "id": "d239112a-cdc5-48f8-b1ea-a07e3beb06f8",
   "metadata": {},
   "source": [
    "- syntax to delete single variable \n",
    "- **del variable_name**"
   ]
  },
  {
   "cell_type": "code",
   "execution_count": 13,
   "id": "8e9f3b47-846c-4218-97d2-5a16e7bda273",
   "metadata": {},
   "outputs": [],
   "source": [
    "a,b = 10,30\n",
    "del a"
   ]
  },
  {
   "cell_type": "markdown",
   "id": "038a6b90-d3b8-49c9-b48f-e8a74c4317a7",
   "metadata": {},
   "source": [
    "- syntax to delete multiple variables at a time\n",
    "- **del variable1, variable2,.....variable n** "
   ]
  },
  {
   "cell_type": "code",
   "execution_count": 14,
   "id": "b9bde7ec-aaf3-4bbb-b7c3-56707f4f4b0f",
   "metadata": {},
   "outputs": [],
   "source": [
    "a,b,c =10,20,30\n",
    "del a,b"
   ]
  },
  {
   "cell_type": "code",
   "execution_count": null,
   "id": "4760b6f5-58a3-444c-b58f-bd9221bbb441",
   "metadata": {},
   "outputs": [],
   "source": []
  }
 ],
 "metadata": {
  "kernelspec": {
   "display_name": "Python 3 (ipykernel)",
   "language": "python",
   "name": "python3"
  },
  "language_info": {
   "codemirror_mode": {
    "name": "ipython",
    "version": 3
   },
   "file_extension": ".py",
   "mimetype": "text/x-python",
   "name": "python",
   "nbconvert_exporter": "python",
   "pygments_lexer": "ipython3",
   "version": "3.12.4"
  }
 },
 "nbformat": 4,
 "nbformat_minor": 5
}
