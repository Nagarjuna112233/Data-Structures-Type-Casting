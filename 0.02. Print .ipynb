{
 "cells": [
  {
   "cell_type": "markdown",
   "id": "b6b87a1c-bacc-4b6c-b802-b5cdd4814230",
   "metadata": {},
   "source": [
    "# output in python \n",
    "to print a single value\n",
    "\n",
    "- **syntax** : print(value)"
   ]
  },
  {
   "cell_type": "code",
   "execution_count": 2,
   "id": "c95629d2-557b-4566-bbac-d44280fa0e1e",
   "metadata": {},
   "outputs": [
    {
     "name": "stdout",
     "output_type": "stream",
     "text": [
      "34\n"
     ]
    }
   ],
   "source": [
    "print(34)             # print numeric"
   ]
  },
  {
   "cell_type": "code",
   "execution_count": 5,
   "id": "f3c62e80-304b-40ec-81bd-e4800758dfbb",
   "metadata": {},
   "outputs": [
    {
     "name": "stdout",
     "output_type": "stream",
     "text": [
      "Arjun\n"
     ]
    }
   ],
   "source": [
    "print(\"Arjun\")         # print non numaric"
   ]
  },
  {
   "cell_type": "markdown",
   "id": "95ee8161-4018-4e05-8d94-54cebdf652d9",
   "metadata": {},
   "source": [
    "to print multiple values\n",
    "\n",
    "- **syntax** : print(value1,value2,....value n)"
   ]
  },
  {
   "cell_type": "code",
   "execution_count": 7,
   "id": "bb9a1e62-90d3-4c1d-8437-8598cea2c918",
   "metadata": {},
   "outputs": [
    {
     "name": "stdout",
     "output_type": "stream",
     "text": [
      "Arjun 22 vivek\n"
     ]
    }
   ],
   "source": [
    "print(\"Arjun\", 22,\"vivek\")        #default separator is space between the values"
   ]
  },
  {
   "cell_type": "markdown",
   "id": "0d1a18d1-f41f-402c-bc32-02cd03e9dca5",
   "metadata": {},
   "source": [
    "**to print a single variable**\n",
    "\n",
    "- **syntax**: print(variable) "
   ]
  },
  {
   "cell_type": "code",
   "execution_count": 8,
   "id": "68e1c1d0-54b0-45c2-9656-e3d8e48d9246",
   "metadata": {},
   "outputs": [
    {
     "name": "stdout",
     "output_type": "stream",
     "text": [
      "100\n"
     ]
    }
   ],
   "source": [
    "a =100\n",
    "print(a)"
   ]
  },
  {
   "cell_type": "markdown",
   "id": "25c024e7-e9e3-4b91-9295-9eb0f1301e57",
   "metadata": {},
   "source": [
    "**to multiple variables**\n",
    "\n",
    "- **syntax**: print(V1,V2,V3,V4,...Vn)"
   ]
  },
  {
   "cell_type": "code",
   "execution_count": 9,
   "id": "fb6b637b-d64b-48cf-b415-88a2bba268c0",
   "metadata": {},
   "outputs": [
    {
     "name": "stdout",
     "output_type": "stream",
     "text": [
      "20 30\n"
     ]
    }
   ],
   "source": [
    "a, b =20,30\n",
    "print(a,b)"
   ]
  },
  {
   "cell_type": "markdown",
   "id": "b1444ffe-68ab-474d-b815-92b69ee30aad",
   "metadata": {},
   "source": [
    "**to print combination of values & variables**"
   ]
  },
  {
   "cell_type": "code",
   "execution_count": 10,
   "id": "9252206a-8b6b-4ecc-9336-d0feca2891d9",
   "metadata": {},
   "outputs": [
    {
     "name": "stdout",
     "output_type": "stream",
     "text": [
      "the value of a is : 23\n"
     ]
    }
   ],
   "source": [
    "a = 23\n",
    "print(\"the value of a is :\",a)"
   ]
  },
  {
   "cell_type": "code",
   "execution_count": 12,
   "id": "2049d3cb-70fc-406a-a5fa-7f62785d172c",
   "metadata": {},
   "outputs": [
    {
     "name": "stdout",
     "output_type": "stream",
     "text": [
      "my name is: Arjun and my age is: 21\n"
     ]
    }
   ],
   "source": [
    "num = 21\n",
    "name = \"Arjun\"\n",
    "\n",
    "print(\"my name is:\",name,\"and my age is:\",num)"
   ]
  },
  {
   "cell_type": "markdown",
   "id": "8da990ae-29f9-44d1-a422-85bfe3f6f803",
   "metadata": {},
   "source": [
    ".format()"
   ]
  },
  {
   "cell_type": "code",
   "execution_count": 13,
   "id": "b1f08cbe-9562-49c2-ad9c-10719047532e",
   "metadata": {},
   "outputs": [
    {
     "name": "stdout",
     "output_type": "stream",
     "text": [
      "my num is: 21 and my name is: Arjun\n"
     ]
    }
   ],
   "source": [
    "num = 21\n",
    "name = \"Arjun\"\n",
    "\n",
    "print(\"my num is: {} and my name is: {}\".format(num,name))"
   ]
  },
  {
   "cell_type": "code",
   "execution_count": null,
   "id": "2c558ed0-833d-412f-b83b-c71d6d1440dd",
   "metadata": {},
   "outputs": [],
   "source": []
  }
 ],
 "metadata": {
  "kernelspec": {
   "display_name": "Python 3 (ipykernel)",
   "language": "python",
   "name": "python3"
  },
  "language_info": {
   "codemirror_mode": {
    "name": "ipython",
    "version": 3
   },
   "file_extension": ".py",
   "mimetype": "text/x-python",
   "name": "python",
   "nbconvert_exporter": "python",
   "pygments_lexer": "ipython3",
   "version": "3.12.4"
  }
 },
 "nbformat": 4,
 "nbformat_minor": 5
}
