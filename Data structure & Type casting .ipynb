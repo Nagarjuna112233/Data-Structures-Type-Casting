{
 "cells": [
  {
   "cell_type": "markdown",
   "id": "8dd90f5f-9b72-4e7e-9274-60766c617efc",
   "metadata": {},
   "source": [
    "# type casting from other data type to int"
   ]
  },
  {
   "cell_type": "code",
   "execution_count": 1,
   "id": "b1fb62b8-561d-4e4a-a7d7-3520d5fe456f",
   "metadata": {},
   "outputs": [
    {
     "data": {
      "text/plain": [
       "3"
      ]
     },
     "execution_count": 1,
     "metadata": {},
     "output_type": "execute_result"
    }
   ],
   "source": [
    "int(3.4)"
   ]
  },
  {
   "cell_type": "code",
   "execution_count": 2,
   "id": "634d2d3f-8163-490d-adb2-5353831fecad",
   "metadata": {},
   "outputs": [
    {
     "data": {
      "text/plain": [
       "1"
      ]
     },
     "execution_count": 2,
     "metadata": {},
     "output_type": "execute_result"
    }
   ],
   "source": [
    "int(True)"
   ]
  },
  {
   "cell_type": "code",
   "execution_count": 3,
   "id": "a08642be-a71a-4afe-be68-e37a405f1380",
   "metadata": {},
   "outputs": [
    {
     "data": {
      "text/plain": [
       "0"
      ]
     },
     "execution_count": 3,
     "metadata": {},
     "output_type": "execute_result"
    }
   ],
   "source": [
    "int(False)"
   ]
  },
  {
   "cell_type": "code",
   "execution_count": 4,
   "id": "da00618e-6571-4daf-a75a-621c9524ec7d",
   "metadata": {},
   "outputs": [
    {
     "data": {
      "text/plain": [
       "10"
      ]
     },
     "execution_count": 4,
     "metadata": {},
     "output_type": "execute_result"
    }
   ],
   "source": [
    "int('10')"
   ]
  },
  {
   "cell_type": "code",
   "execution_count": 5,
   "id": "32b93f25-29ff-4824-8318-1e03c612d272",
   "metadata": {},
   "outputs": [
    {
     "data": {
      "text/plain": [
       "45"
      ]
     },
     "execution_count": 5,
     "metadata": {},
     "output_type": "execute_result"
    }
   ],
   "source": [
    "int(45)"
   ]
  },
  {
   "cell_type": "code",
   "execution_count": 6,
   "id": "ccfcb8b8-d8c9-49e8-8b92-5e9cb90384c3",
   "metadata": {},
   "outputs": [
    {
     "data": {
      "text/plain": [
       "355"
      ]
     },
     "execution_count": 6,
     "metadata": {},
     "output_type": "execute_result"
    }
   ],
   "source": [
    "int('355')"
   ]
  },
  {
   "cell_type": "markdown",
   "id": "cb047f32-2b9d-4975-87d4-f39acb881df0",
   "metadata": {},
   "source": [
    "# Type casting from other Data type to float"
   ]
  },
  {
   "cell_type": "code",
   "execution_count": 7,
   "id": "7a33f863-06b7-4ed7-8830-b11ba283cad0",
   "metadata": {},
   "outputs": [
    {
     "data": {
      "text/plain": [
       "45.0"
      ]
     },
     "execution_count": 7,
     "metadata": {},
     "output_type": "execute_result"
    }
   ],
   "source": [
    "float(45)"
   ]
  },
  {
   "cell_type": "code",
   "execution_count": 8,
   "id": "0b5501b6-7a8a-461b-bf67-97d82c417d87",
   "metadata": {},
   "outputs": [
    {
     "data": {
      "text/plain": [
       "323.0"
      ]
     },
     "execution_count": 8,
     "metadata": {},
     "output_type": "execute_result"
    }
   ],
   "source": [
    "float(323)"
   ]
  },
  {
   "cell_type": "code",
   "execution_count": 9,
   "id": "92d42e9a-d23f-4798-87e7-0be0e3360662",
   "metadata": {},
   "outputs": [
    {
     "data": {
      "text/plain": [
       "1.0"
      ]
     },
     "execution_count": 9,
     "metadata": {},
     "output_type": "execute_result"
    }
   ],
   "source": [
    "float(True)"
   ]
  },
  {
   "cell_type": "code",
   "execution_count": 10,
   "id": "d5581720-91fb-4519-9eb8-f40e74255391",
   "metadata": {},
   "outputs": [
    {
     "data": {
      "text/plain": [
       "0.0"
      ]
     },
     "execution_count": 10,
     "metadata": {},
     "output_type": "execute_result"
    }
   ],
   "source": [
    "float(False)"
   ]
  },
  {
   "cell_type": "code",
   "execution_count": 11,
   "id": "33375e4a-3df2-48a4-9080-109199faeedc",
   "metadata": {},
   "outputs": [
    {
     "data": {
      "text/plain": [
       "10.0"
      ]
     },
     "execution_count": 11,
     "metadata": {},
     "output_type": "execute_result"
    }
   ],
   "source": [
    "float('10')"
   ]
  },
  {
   "cell_type": "code",
   "execution_count": 12,
   "id": "8f23aefb-5892-4892-96f9-6afeb13022cc",
   "metadata": {},
   "outputs": [
    {
     "data": {
      "text/plain": [
       "1212.0"
      ]
     },
     "execution_count": 12,
     "metadata": {},
     "output_type": "execute_result"
    }
   ],
   "source": [
    "float('1212')"
   ]
  },
  {
   "cell_type": "markdown",
   "id": "8f839d27-edb0-46ad-89a4-38d2d23d3b3d",
   "metadata": {},
   "source": [
    "# Type casting from other Data type to BOOl"
   ]
  },
  {
   "cell_type": "code",
   "execution_count": 13,
   "id": "16b5ea46-9456-4c79-8d7f-ff0065746585",
   "metadata": {},
   "outputs": [
    {
     "data": {
      "text/plain": [
       "True"
      ]
     },
     "execution_count": 13,
     "metadata": {},
     "output_type": "execute_result"
    }
   ],
   "source": [
    "bool(56)"
   ]
  },
  {
   "cell_type": "code",
   "execution_count": 14,
   "id": "964982b6-204e-49ec-82d7-8fb0c8bb384f",
   "metadata": {},
   "outputs": [
    {
     "data": {
      "text/plain": [
       "True"
      ]
     },
     "execution_count": 14,
     "metadata": {},
     "output_type": "execute_result"
    }
   ],
   "source": [
    "bool(34.3)"
   ]
  },
  {
   "cell_type": "code",
   "execution_count": 15,
   "id": "68c42399-c561-4ace-a5b5-d45154837ebd",
   "metadata": {},
   "outputs": [
    {
     "data": {
      "text/plain": [
       "True"
      ]
     },
     "execution_count": 15,
     "metadata": {},
     "output_type": "execute_result"
    }
   ],
   "source": [
    "bool('nag')"
   ]
  },
  {
   "cell_type": "code",
   "execution_count": 16,
   "id": "9e71ddc7-641c-4453-bcd7-9a6ea2a4f3b8",
   "metadata": {},
   "outputs": [
    {
     "data": {
      "text/plain": [
       "False"
      ]
     },
     "execution_count": 16,
     "metadata": {},
     "output_type": "execute_result"
    }
   ],
   "source": [
    "bool(0)"
   ]
  },
  {
   "cell_type": "code",
   "execution_count": 17,
   "id": "217e8edd-4ab1-4e37-aae8-9f1500f9e851",
   "metadata": {},
   "outputs": [
    {
     "data": {
      "text/plain": [
       "False"
      ]
     },
     "execution_count": 17,
     "metadata": {},
     "output_type": "execute_result"
    }
   ],
   "source": [
    "bool()"
   ]
  },
  {
   "cell_type": "code",
   "execution_count": 18,
   "id": "ad6e770a-0600-47f5-bcb6-ded31952e769",
   "metadata": {},
   "outputs": [
    {
     "data": {
      "text/plain": [
       "True"
      ]
     },
     "execution_count": 18,
     "metadata": {},
     "output_type": "execute_result"
    }
   ],
   "source": [
    "bool(1+2j)"
   ]
  },
  {
   "cell_type": "markdown",
   "id": "244ad258-7b13-487f-8a21-c4d85e73ff53",
   "metadata": {},
   "source": [
    "# Type casting from other Data type to STRING"
   ]
  },
  {
   "cell_type": "code",
   "execution_count": 19,
   "id": "33a13ca7-d374-4a21-aef6-8b31c4edf9c1",
   "metadata": {},
   "outputs": [
    {
     "data": {
      "text/plain": [
       "'12'"
      ]
     },
     "execution_count": 19,
     "metadata": {},
     "output_type": "execute_result"
    }
   ],
   "source": [
    "str(12)"
   ]
  },
  {
   "cell_type": "code",
   "execution_count": 20,
   "id": "835c8413-f6ca-4268-b16c-aa4cd7e7ecfc",
   "metadata": {},
   "outputs": [
    {
     "data": {
      "text/plain": [
       "'True'"
      ]
     },
     "execution_count": 20,
     "metadata": {},
     "output_type": "execute_result"
    }
   ],
   "source": [
    "str(True)"
   ]
  },
  {
   "cell_type": "code",
   "execution_count": 21,
   "id": "4f864e06-adee-4a13-897b-847d5cda5b1e",
   "metadata": {},
   "outputs": [
    {
     "data": {
      "text/plain": [
       "'23.23'"
      ]
     },
     "execution_count": 21,
     "metadata": {},
     "output_type": "execute_result"
    }
   ],
   "source": [
    "str(23.23)"
   ]
  },
  {
   "cell_type": "code",
   "execution_count": 22,
   "id": "e26c0058-a353-461a-b60d-3dc183b6de34",
   "metadata": {},
   "outputs": [
    {
     "data": {
      "text/plain": [
       "'False'"
      ]
     },
     "execution_count": 22,
     "metadata": {},
     "output_type": "execute_result"
    }
   ],
   "source": [
    "str(False)"
   ]
  },
  {
   "cell_type": "code",
   "execution_count": 23,
   "id": "8c394f85-6614-4480-907d-b61e5cd8b80f",
   "metadata": {},
   "outputs": [
    {
     "data": {
      "text/plain": [
       "'(1+2j)'"
      ]
     },
     "execution_count": 23,
     "metadata": {},
     "output_type": "execute_result"
    }
   ],
   "source": [
    "str(1+2j)"
   ]
  },
  {
   "cell_type": "markdown",
   "id": "56d2c04a-e61f-487f-a8b4-3029f3cdaeb5",
   "metadata": {},
   "source": [
    "# Type casting from other Data type to Complex"
   ]
  },
  {
   "cell_type": "code",
   "execution_count": 24,
   "id": "3e48b055-1d84-4649-bf4f-ee3c1ec52c58",
   "metadata": {},
   "outputs": [
    {
     "data": {
      "text/plain": [
       "(20+0j)"
      ]
     },
     "execution_count": 24,
     "metadata": {},
     "output_type": "execute_result"
    }
   ],
   "source": [
    "complex(20)"
   ]
  },
  {
   "cell_type": "code",
   "execution_count": 25,
   "id": "cec294e7-c747-4116-900f-b5f821b485d1",
   "metadata": {},
   "outputs": [
    {
     "data": {
      "text/plain": [
       "(20+44j)"
      ]
     },
     "execution_count": 25,
     "metadata": {},
     "output_type": "execute_result"
    }
   ],
   "source": [
    "complex(20,44)"
   ]
  },
  {
   "cell_type": "code",
   "execution_count": 26,
   "id": "f0eaf584-a097-4b24-8fd0-a14e05925413",
   "metadata": {},
   "outputs": [
    {
     "data": {
      "text/plain": [
       "(1+0j)"
      ]
     },
     "execution_count": 26,
     "metadata": {},
     "output_type": "execute_result"
    }
   ],
   "source": [
    "complex(True)"
   ]
  },
  {
   "cell_type": "code",
   "execution_count": 27,
   "id": "b658196e-0114-4349-a45b-de001cb2070d",
   "metadata": {},
   "outputs": [
    {
     "data": {
      "text/plain": [
       "0j"
      ]
     },
     "execution_count": 27,
     "metadata": {},
     "output_type": "execute_result"
    }
   ],
   "source": [
    "complex(False)"
   ]
  },
  {
   "cell_type": "code",
   "execution_count": 28,
   "id": "c047cd4b-97ba-4081-a9cb-63d761b7744e",
   "metadata": {},
   "outputs": [
    {
     "data": {
      "text/plain": [
       "(23+0j)"
      ]
     },
     "execution_count": 28,
     "metadata": {},
     "output_type": "execute_result"
    }
   ],
   "source": [
    "complex(23.0)"
   ]
  },
  {
   "cell_type": "code",
   "execution_count": 29,
   "id": "a2bbd00e-5c32-4c55-bfc4-51cc0ac1bda4",
   "metadata": {},
   "outputs": [
    {
     "data": {
      "text/plain": [
       "(23.3+34.3j)"
      ]
     },
     "execution_count": 29,
     "metadata": {},
     "output_type": "execute_result"
    }
   ],
   "source": [
    "complex(23.3,34.3)"
   ]
  },
  {
   "cell_type": "code",
   "execution_count": 30,
   "id": "d31d03bf-7c45-4d25-8124-55478c533285",
   "metadata": {},
   "outputs": [
    {
     "data": {
      "text/plain": [
       "(10+20j)"
      ]
     },
     "execution_count": 30,
     "metadata": {},
     "output_type": "execute_result"
    }
   ],
   "source": [
    "complex(10,20)"
   ]
  },
  {
   "cell_type": "code",
   "execution_count": 31,
   "id": "53a735f4-50ba-4a2e-93f4-b5331dd8c3eb",
   "metadata": {},
   "outputs": [
    {
     "data": {
      "text/plain": [
       "(1+3j)"
      ]
     },
     "execution_count": 31,
     "metadata": {},
     "output_type": "execute_result"
    }
   ],
   "source": [
    "complex(1,3)"
   ]
  },
  {
   "cell_type": "code",
   "execution_count": 32,
   "id": "af944ee0-0b4f-48ae-a096-a0913d444f93",
   "metadata": {},
   "outputs": [
    {
     "data": {
      "text/plain": [
       "(1+0j)"
      ]
     },
     "execution_count": 32,
     "metadata": {},
     "output_type": "execute_result"
    }
   ],
   "source": [
    "complex(True, False)"
   ]
  },
  {
   "cell_type": "code",
   "execution_count": 33,
   "id": "1a7af357-a456-4307-8f57-36019d3f6b30",
   "metadata": {},
   "outputs": [
    {
     "data": {
      "text/plain": [
       "(1+1j)"
      ]
     },
     "execution_count": 33,
     "metadata": {},
     "output_type": "execute_result"
    }
   ],
   "source": [
    "complex(True, True)"
   ]
  },
  {
   "cell_type": "code",
   "execution_count": 34,
   "id": "17c83a9c-d5e2-41a4-bedb-67a8d576e940",
   "metadata": {},
   "outputs": [
    {
     "data": {
      "text/plain": [
       "0j"
      ]
     },
     "execution_count": 34,
     "metadata": {},
     "output_type": "execute_result"
    }
   ],
   "source": [
    "complex(False, False)"
   ]
  },
  {
   "cell_type": "code",
   "execution_count": 35,
   "id": "a36f04e4-fff0-414f-8005-1bc741c56990",
   "metadata": {},
   "outputs": [
    {
     "data": {
      "text/plain": [
       "1j"
      ]
     },
     "execution_count": 35,
     "metadata": {},
     "output_type": "execute_result"
    }
   ],
   "source": [
    "complex(False, True)"
   ]
  },
  {
   "cell_type": "markdown",
   "id": "7ec924fa-0334-4552-bef5-52a794b6b7cd",
   "metadata": {},
   "source": [
    "# List -1   \n",
    "**List is mutable**"
   ]
  },
  {
   "cell_type": "code",
   "execution_count": 36,
   "id": "de858548-59b4-4f97-9c36-729a2a5b9236",
   "metadata": {},
   "outputs": [
    {
     "data": {
      "text/plain": [
       "[]"
      ]
     },
     "execution_count": 36,
     "metadata": {},
     "output_type": "execute_result"
    }
   ],
   "source": [
    "l =[]  #empty list\n",
    "l"
   ]
  },
  {
   "cell_type": "code",
   "execution_count": 37,
   "id": "47f343c5-f75a-41f1-903d-524e7e1746e2",
   "metadata": {},
   "outputs": [
    {
     "data": {
      "text/plain": [
       "[]"
      ]
     },
     "execution_count": 37,
     "metadata": {},
     "output_type": "execute_result"
    }
   ],
   "source": [
    "l1 = list() # empty list\n",
    "l1"
   ]
  },
  {
   "cell_type": "code",
   "execution_count": 38,
   "id": "573df8b0-c199-454a-83c1-bbd40c15bd4f",
   "metadata": {},
   "outputs": [
    {
     "data": {
      "text/plain": [
       "0"
      ]
     },
     "execution_count": 38,
     "metadata": {},
     "output_type": "execute_result"
    }
   ],
   "source": [
    "len(l1) "
   ]
  },
  {
   "cell_type": "code",
   "execution_count": 39,
   "id": "1ac4a118-8516-4d83-a831-545a6078f54f",
   "metadata": {},
   "outputs": [
    {
     "data": {
      "text/plain": [
       "[]"
      ]
     },
     "execution_count": 39,
     "metadata": {},
     "output_type": "execute_result"
    }
   ],
   "source": [
    "l"
   ]
  },
  {
   "cell_type": "code",
   "execution_count": 40,
   "id": "2c5f9fd6-544a-4cab-a8fb-fd721f0ad2ce",
   "metadata": {},
   "outputs": [],
   "source": [
    "l.append(10)\n",
    "l.append(20)\n",
    "l.append(30)"
   ]
  },
  {
   "cell_type": "code",
   "execution_count": 41,
   "id": "18f51d39-a367-40fe-a9de-1fda4a823a98",
   "metadata": {},
   "outputs": [
    {
     "data": {
      "text/plain": [
       "[10, 20, 30]"
      ]
     },
     "execution_count": 41,
     "metadata": {},
     "output_type": "execute_result"
    }
   ],
   "source": [
    "l"
   ]
  },
  {
   "cell_type": "code",
   "execution_count": 42,
   "id": "38678ac7-ce86-4101-98aa-d9d5e384c40e",
   "metadata": {},
   "outputs": [
    {
     "data": {
      "text/plain": [
       "[]"
      ]
     },
     "execution_count": 42,
     "metadata": {},
     "output_type": "execute_result"
    }
   ],
   "source": [
    "l1\n"
   ]
  },
  {
   "cell_type": "code",
   "execution_count": 43,
   "id": "61bcdc04-4ea0-427e-a4a0-e07fa9210747",
   "metadata": {},
   "outputs": [],
   "source": [
    "l1.append(10)\n",
    "l1.append(1.2)\n",
    "l1.append('nit')\n",
    "l1.append(True)\n",
    "l1.append(1+2)\n",
    "l1.append(10)"
   ]
  },
  {
   "cell_type": "code",
   "execution_count": 44,
   "id": "436de585-f95c-46d2-a5d8-0266826d5f89",
   "metadata": {},
   "outputs": [
    {
     "data": {
      "text/plain": [
       "[10, 1.2, 'nit', True, 3, 10]"
      ]
     },
     "execution_count": 44,
     "metadata": {},
     "output_type": "execute_result"
    }
   ],
   "source": [
    "l1"
   ]
  },
  {
   "cell_type": "code",
   "execution_count": 45,
   "id": "dea0f0dc-657a-41c4-acf0-a041f752609e",
   "metadata": {},
   "outputs": [],
   "source": [
    "l1.append(20)"
   ]
  },
  {
   "cell_type": "code",
   "execution_count": 46,
   "id": "1e0b1720-baaa-4f4d-b474-e337c93540af",
   "metadata": {},
   "outputs": [
    {
     "data": {
      "text/plain": [
       "[10, 1.2, 'nit', True, 3, 10, 20]"
      ]
     },
     "execution_count": 46,
     "metadata": {},
     "output_type": "execute_result"
    }
   ],
   "source": [
    "l1"
   ]
  },
  {
   "cell_type": "code",
   "execution_count": 47,
   "id": "c4741bf8-c50d-47c9-a7e5-a11e582f86a9",
   "metadata": {},
   "outputs": [
    {
     "name": "stdout",
     "output_type": "stream",
     "text": [
      "[10, 1.2, 'nit', True, 3, 10, 20]\n"
     ]
    }
   ],
   "source": [
    "print(l1)"
   ]
  },
  {
   "cell_type": "code",
   "execution_count": 48,
   "id": "599dfca2-b720-47fd-85e3-2975d747d3aa",
   "metadata": {},
   "outputs": [
    {
     "name": "stdout",
     "output_type": "stream",
     "text": [
      "[10, 20, 30]\n"
     ]
    }
   ],
   "source": [
    "print(l)"
   ]
  },
  {
   "cell_type": "code",
   "execution_count": 49,
   "id": "62b12601-7b7f-46b7-8e19-23e980ad4509",
   "metadata": {},
   "outputs": [
    {
     "name": "stdout",
     "output_type": "stream",
     "text": [
      "2252082496704\n",
      "2252082499648\n"
     ]
    }
   ],
   "source": [
    "print(id(l))\n",
    "print(id(l1))"
   ]
  },
  {
   "cell_type": "code",
   "execution_count": 50,
   "id": "7aa4d09a-c514-4922-8109-ad8ae136a545",
   "metadata": {},
   "outputs": [
    {
     "data": {
      "text/plain": [
       "[10, 20, 30, [10, 20, 30]]"
      ]
     },
     "execution_count": 50,
     "metadata": {},
     "output_type": "execute_result"
    }
   ],
   "source": [
    "l.append([10,20,30])\n",
    "l"
   ]
  },
  {
   "cell_type": "code",
   "execution_count": 51,
   "id": "4a5c4931-b845-42f7-ae8e-2205b1efa9fb",
   "metadata": {},
   "outputs": [
    {
     "data": {
      "text/plain": [
       "[10, 20, 30, [10, 20, 30]]"
      ]
     },
     "execution_count": 51,
     "metadata": {},
     "output_type": "execute_result"
    }
   ],
   "source": [
    "l\n"
   ]
  },
  {
   "cell_type": "code",
   "execution_count": 52,
   "id": "8bac0686-2e96-4766-96dd-d36c552aca69",
   "metadata": {},
   "outputs": [
    {
     "data": {
      "text/plain": [
       "[10, 1.2, 'nit', True, 3, 10, 20]"
      ]
     },
     "execution_count": 52,
     "metadata": {},
     "output_type": "execute_result"
    }
   ],
   "source": [
    "l1"
   ]
  },
  {
   "cell_type": "code",
   "execution_count": 53,
   "id": "a1b39f05-39ef-4094-be68-8e0b17826b72",
   "metadata": {},
   "outputs": [],
   "source": [
    "l2 = l1.copy()"
   ]
  },
  {
   "cell_type": "code",
   "execution_count": 54,
   "id": "55f01e83-f5a6-420c-b7c1-049c87fae080",
   "metadata": {},
   "outputs": [
    {
     "data": {
      "text/plain": [
       "[10, 1.2, 'nit', True, 3, 10, 20]"
      ]
     },
     "execution_count": 54,
     "metadata": {},
     "output_type": "execute_result"
    }
   ],
   "source": [
    "l2"
   ]
  },
  {
   "cell_type": "code",
   "execution_count": 55,
   "id": "cf6cb9e6-37e5-46e2-8748-5067f21ac73b",
   "metadata": {},
   "outputs": [
    {
     "data": {
      "text/plain": [
       "True"
      ]
     },
     "execution_count": 55,
     "metadata": {},
     "output_type": "execute_result"
    }
   ],
   "source": [
    "l1 ==l2"
   ]
  },
  {
   "cell_type": "code",
   "execution_count": 56,
   "id": "d8b96913-5c21-42d6-b858-d30a1c586b61",
   "metadata": {},
   "outputs": [
    {
     "data": {
      "text/plain": [
       "False"
      ]
     },
     "execution_count": 56,
     "metadata": {},
     "output_type": "execute_result"
    }
   ],
   "source": [
    "id(l1)==id(l2)"
   ]
  },
  {
   "cell_type": "code",
   "execution_count": 57,
   "id": "06e89803-a6ae-4cf5-ad11-e2f7067810c6",
   "metadata": {},
   "outputs": [],
   "source": [
    "l2.clear()"
   ]
  },
  {
   "cell_type": "code",
   "execution_count": 58,
   "id": "758a2b0c-b3b7-4db0-8e80-492d00e65c49",
   "metadata": {},
   "outputs": [
    {
     "data": {
      "text/plain": [
       "[]"
      ]
     },
     "execution_count": 58,
     "metadata": {},
     "output_type": "execute_result"
    }
   ],
   "source": [
    "l2"
   ]
  },
  {
   "cell_type": "code",
   "execution_count": 59,
   "id": "3b9d929c-ecb8-42ee-9f57-e48532d97b23",
   "metadata": {},
   "outputs": [],
   "source": [
    "del l2"
   ]
  },
  {
   "cell_type": "code",
   "execution_count": 60,
   "id": "17280425-ed49-41f2-8289-93b97a7b7922",
   "metadata": {},
   "outputs": [
    {
     "name": "stdout",
     "output_type": "stream",
     "text": [
      "[10, 1.2, 'nit', True, 3, 10, 20]\n"
     ]
    }
   ],
   "source": [
    "print(l1)"
   ]
  },
  {
   "cell_type": "code",
   "execution_count": 61,
   "id": "e0cd8f96-b2c4-4c91-ade9-889e24722ca1",
   "metadata": {},
   "outputs": [
    {
     "name": "stdout",
     "output_type": "stream",
     "text": [
      "[10, 20, 30, [10, 20, 30]]\n"
     ]
    }
   ],
   "source": [
    "print(l)"
   ]
  },
  {
   "cell_type": "code",
   "execution_count": 62,
   "id": "d8f91ceb-1092-4116-9b70-0ccb8e6f371c",
   "metadata": {},
   "outputs": [
    {
     "data": {
      "text/plain": [
       "[10, 1.2, 'nit', True, 3, 10, 20]"
      ]
     },
     "execution_count": 62,
     "metadata": {},
     "output_type": "execute_result"
    }
   ],
   "source": [
    "l1[:]"
   ]
  },
  {
   "cell_type": "code",
   "execution_count": 63,
   "id": "6fb1d34f-fd16-43b6-98fe-343aa66321c0",
   "metadata": {},
   "outputs": [
    {
     "data": {
      "text/plain": [
       "[10, 1.2, 'nit', True, 3, 10, 20]"
      ]
     },
     "execution_count": 63,
     "metadata": {},
     "output_type": "execute_result"
    }
   ],
   "source": [
    "l1[:7]"
   ]
  },
  {
   "cell_type": "code",
   "execution_count": 64,
   "id": "d8b40095-3dd8-4680-ac24-9891f9a95061",
   "metadata": {},
   "outputs": [
    {
     "data": {
      "text/plain": [
       "[10, 1.2, 'nit']"
      ]
     },
     "execution_count": 64,
     "metadata": {},
     "output_type": "execute_result"
    }
   ],
   "source": [
    "l1[0:3]"
   ]
  },
  {
   "cell_type": "code",
   "execution_count": 65,
   "id": "b3e5331a-fdbf-45e8-b1a3-a5e66ffdd856",
   "metadata": {},
   "outputs": [
    {
     "data": {
      "text/plain": [
       "[10, 1.2, 'nit', True, 3, 10, 20]"
      ]
     },
     "execution_count": 65,
     "metadata": {},
     "output_type": "execute_result"
    }
   ],
   "source": [
    "l1[::1]"
   ]
  },
  {
   "cell_type": "code",
   "execution_count": 66,
   "id": "d9116cb4-3e88-4dac-bc92-a6bfb862be8a",
   "metadata": {},
   "outputs": [
    {
     "data": {
      "text/plain": [
       "[20, 10, 3, True, 'nit', 1.2, 10]"
      ]
     },
     "execution_count": 66,
     "metadata": {},
     "output_type": "execute_result"
    }
   ],
   "source": [
    "l1[::-1]"
   ]
  },
  {
   "cell_type": "code",
   "execution_count": 67,
   "id": "027beaea-0844-4a68-baa5-80af6a296dae",
   "metadata": {},
   "outputs": [
    {
     "data": {
      "text/plain": [
       "['red', 'blue', 'green']"
      ]
     },
     "execution_count": 67,
     "metadata": {},
     "output_type": "execute_result"
    }
   ],
   "source": [
    "l3=['red','blue','green']\n",
    "l3"
   ]
  },
  {
   "cell_type": "code",
   "execution_count": 68,
   "id": "5a7a63d6-41b5-45b8-a61f-1313915c47d7",
   "metadata": {},
   "outputs": [
    {
     "data": {
      "text/plain": [
       "0"
      ]
     },
     "execution_count": 68,
     "metadata": {},
     "output_type": "execute_result"
    }
   ],
   "source": [
    "l3.count(10)"
   ]
  },
  {
   "cell_type": "code",
   "execution_count": 69,
   "id": "5e8784e1-6964-4f11-b110-cefadc3b6263",
   "metadata": {},
   "outputs": [
    {
     "data": {
      "text/plain": [
       "2"
      ]
     },
     "execution_count": 69,
     "metadata": {},
     "output_type": "execute_result"
    }
   ],
   "source": [
    "l1.count(10)"
   ]
  },
  {
   "cell_type": "code",
   "execution_count": 70,
   "id": "bf12bdc5-237e-4230-8dd1-eb4fd4d3449b",
   "metadata": {},
   "outputs": [
    {
     "data": {
      "text/plain": [
       "[10, 1.2, 'nit', True, 3, 10, 20]"
      ]
     },
     "execution_count": 70,
     "metadata": {},
     "output_type": "execute_result"
    }
   ],
   "source": [
    "l1"
   ]
  },
  {
   "cell_type": "code",
   "execution_count": 71,
   "id": "629d1d1f-0566-40cd-a643-be635c65f2cd",
   "metadata": {},
   "outputs": [],
   "source": [
    "l1.remove(10)"
   ]
  },
  {
   "cell_type": "code",
   "execution_count": 72,
   "id": "447cc48b-2bac-4427-a8eb-db1da2eb88e3",
   "metadata": {},
   "outputs": [
    {
     "data": {
      "text/plain": [
       "[1.2, 'nit', True, 3, 10, 20]"
      ]
     },
     "execution_count": 72,
     "metadata": {},
     "output_type": "execute_result"
    }
   ],
   "source": [
    "l1"
   ]
  },
  {
   "cell_type": "code",
   "execution_count": 73,
   "id": "fd6a9d38-7eb3-40e4-984e-cfdbbbecf395",
   "metadata": {},
   "outputs": [
    {
     "data": {
      "text/plain": [
       "1"
      ]
     },
     "execution_count": 73,
     "metadata": {},
     "output_type": "execute_result"
    }
   ],
   "source": [
    "l1.index('nit')"
   ]
  },
  {
   "cell_type": "code",
   "execution_count": 74,
   "id": "40addf97-d86c-4ba2-b027-d5394e018b99",
   "metadata": {},
   "outputs": [
    {
     "data": {
      "text/plain": [
       "2"
      ]
     },
     "execution_count": 74,
     "metadata": {},
     "output_type": "execute_result"
    }
   ],
   "source": [
    "l1.index(1)"
   ]
  },
  {
   "cell_type": "code",
   "execution_count": 75,
   "id": "7d9050fa-7abc-4a34-bce7-6960ba573274",
   "metadata": {},
   "outputs": [],
   "source": [
    "l4 = [20,30,50,]"
   ]
  },
  {
   "cell_type": "code",
   "execution_count": 76,
   "id": "b442f69e-cd8a-4715-94f4-1f4404c92ba1",
   "metadata": {},
   "outputs": [
    {
     "data": {
      "text/plain": [
       "50"
      ]
     },
     "execution_count": 76,
     "metadata": {},
     "output_type": "execute_result"
    }
   ],
   "source": [
    "l4.pop()"
   ]
  },
  {
   "cell_type": "code",
   "execution_count": 77,
   "id": "378fddaa-9fbd-4cdc-badf-74b39d604c3a",
   "metadata": {},
   "outputs": [
    {
     "data": {
      "text/plain": [
       "[20, 30]"
      ]
     },
     "execution_count": 77,
     "metadata": {},
     "output_type": "execute_result"
    }
   ],
   "source": [
    "l4"
   ]
  },
  {
   "cell_type": "code",
   "execution_count": 78,
   "id": "6ea32d24-f29d-45a0-8c2b-e1ac478ac5c2",
   "metadata": {},
   "outputs": [],
   "source": [
    "l5 = [10, 1.2, 'nit', True, 3, 10, 20]\n"
   ]
  },
  {
   "cell_type": "code",
   "execution_count": 79,
   "id": "550610e0-5ddc-49b5-af8b-4eb69c6ef686",
   "metadata": {},
   "outputs": [
    {
     "data": {
      "text/plain": [
       "20"
      ]
     },
     "execution_count": 79,
     "metadata": {},
     "output_type": "execute_result"
    }
   ],
   "source": [
    "l5.pop()"
   ]
  },
  {
   "cell_type": "code",
   "execution_count": 80,
   "id": "dbe95cf8-da05-45e5-a998-59134c4df452",
   "metadata": {},
   "outputs": [
    {
     "data": {
      "text/plain": [
       "[10, 1.2, 'nit', True, 3, 10]"
      ]
     },
     "execution_count": 80,
     "metadata": {},
     "output_type": "execute_result"
    }
   ],
   "source": [
    "l5"
   ]
  },
  {
   "cell_type": "code",
   "execution_count": 81,
   "id": "eae1ffee-441c-43f7-9606-3c8ff78ea054",
   "metadata": {},
   "outputs": [],
   "source": [
    "l5.append(5.6)\n",
    "l5.append('nit')\n",
    "l5.append(True)\n",
    "l5.append(False)\n",
    "l5.append(1+5j)"
   ]
  },
  {
   "cell_type": "code",
   "execution_count": 82,
   "id": "e9f6b167-17d1-4bf7-998a-920e1d64be13",
   "metadata": {},
   "outputs": [
    {
     "data": {
      "text/plain": [
       "[10, 1.2, 'nit', True, 3, 10, 5.6, 'nit', True, False, (1+5j)]"
      ]
     },
     "execution_count": 82,
     "metadata": {},
     "output_type": "execute_result"
    }
   ],
   "source": [
    "l5"
   ]
  },
  {
   "cell_type": "code",
   "execution_count": 83,
   "id": "1366f632-1d34-481b-aef0-7c72a8d5cf77",
   "metadata": {},
   "outputs": [
    {
     "data": {
      "text/plain": [
       "10"
      ]
     },
     "execution_count": 83,
     "metadata": {},
     "output_type": "execute_result"
    }
   ],
   "source": [
    "l5[0]"
   ]
  },
  {
   "cell_type": "code",
   "execution_count": 84,
   "id": "ab998d3b-6e81-4a1e-99c7-2f9650ad75ec",
   "metadata": {},
   "outputs": [],
   "source": [
    "l5[0] =100"
   ]
  },
  {
   "cell_type": "code",
   "execution_count": 85,
   "id": "2990a879-eb3b-48e1-bd06-79fe21e0606a",
   "metadata": {},
   "outputs": [
    {
     "data": {
      "text/plain": [
       "[100, 1.2, 'nit', True, 3, 10, 5.6, 'nit', True, False, (1+5j)]"
      ]
     },
     "execution_count": 85,
     "metadata": {},
     "output_type": "execute_result"
    }
   ],
   "source": [
    "l5     # List is mutable"
   ]
  },
  {
   "cell_type": "code",
   "execution_count": 86,
   "id": "2913e47f-8410-4dd4-8676-ae889c2b2356",
   "metadata": {},
   "outputs": [],
   "source": [
    "l5[-1] =200"
   ]
  },
  {
   "cell_type": "code",
   "execution_count": 87,
   "id": "80d8bef2-d310-4f91-b49a-54045f421381",
   "metadata": {},
   "outputs": [
    {
     "data": {
      "text/plain": [
       "[100, 1.2, 'nit', True, 3, 10, 5.6, 'nit', True, False, 200]"
      ]
     },
     "execution_count": 87,
     "metadata": {},
     "output_type": "execute_result"
    }
   ],
   "source": [
    "l5"
   ]
  },
  {
   "cell_type": "code",
   "execution_count": 88,
   "id": "689ec354-ed10-488f-b5ce-fd5848bacec4",
   "metadata": {},
   "outputs": [],
   "source": [
    "l6=[]"
   ]
  },
  {
   "cell_type": "code",
   "execution_count": 89,
   "id": "ae452748-04ae-4962-bf40-7f7e55ef795c",
   "metadata": {},
   "outputs": [
    {
     "data": {
      "text/plain": [
       "0"
      ]
     },
     "execution_count": 89,
     "metadata": {},
     "output_type": "execute_result"
    }
   ],
   "source": [
    "l6.count(10)"
   ]
  },
  {
   "cell_type": "code",
   "execution_count": 90,
   "id": "7e574b59-afb3-4832-a675-e468a4c7c083",
   "metadata": {},
   "outputs": [],
   "source": [
    "l6.append(10)"
   ]
  },
  {
   "cell_type": "code",
   "execution_count": 91,
   "id": "d5c61b80-4f22-4956-b4ab-c86c7c809d6f",
   "metadata": {},
   "outputs": [
    {
     "data": {
      "text/plain": [
       "[10]"
      ]
     },
     "execution_count": 91,
     "metadata": {},
     "output_type": "execute_result"
    }
   ],
   "source": [
    "l6"
   ]
  },
  {
   "cell_type": "code",
   "execution_count": 92,
   "id": "eccc25aa-b23c-4887-8d6d-8fd9b463d481",
   "metadata": {},
   "outputs": [
    {
     "data": {
      "text/plain": [
       "1"
      ]
     },
     "execution_count": 92,
     "metadata": {},
     "output_type": "execute_result"
    }
   ],
   "source": [
    "l6.count(10)"
   ]
  },
  {
   "cell_type": "code",
   "execution_count": 93,
   "id": "d2633824-bbc5-41f4-bb9f-caca3b5f0adb",
   "metadata": {},
   "outputs": [],
   "source": [
    "l6.extend(l5)"
   ]
  },
  {
   "cell_type": "code",
   "execution_count": 94,
   "id": "98b6a7af-476e-4137-adfd-32f37c907363",
   "metadata": {},
   "outputs": [],
   "source": [
    "l7 = []"
   ]
  },
  {
   "cell_type": "code",
   "execution_count": 95,
   "id": "aed13f0d-8230-44bb-a741-5f6b0f746d7b",
   "metadata": {},
   "outputs": [
    {
     "data": {
      "text/plain": [
       "[100, 1.2, 'nit', True, 3, 10, 5.6, 'nit', True, False, 200]"
      ]
     },
     "execution_count": 95,
     "metadata": {},
     "output_type": "execute_result"
    }
   ],
   "source": [
    "l5"
   ]
  },
  {
   "cell_type": "code",
   "execution_count": 96,
   "id": "08033c9d-8985-4f59-8e37-ebbfe93941c1",
   "metadata": {},
   "outputs": [],
   "source": [
    "l8 =[1,2,3]"
   ]
  },
  {
   "cell_type": "code",
   "execution_count": 97,
   "id": "498a07b3-b6f0-45fb-95f2-aa82ad3a84fa",
   "metadata": {},
   "outputs": [],
   "source": [
    "l9 = [4,5,6]"
   ]
  },
  {
   "cell_type": "code",
   "execution_count": 98,
   "id": "cd6f9b4d-988e-45f2-92af-1f076afff522",
   "metadata": {},
   "outputs": [],
   "source": [
    "l8.extend(l9)"
   ]
  },
  {
   "cell_type": "code",
   "execution_count": 99,
   "id": "b9f5a8aa-4f5b-4fb1-b0e5-678949e03068",
   "metadata": {},
   "outputs": [
    {
     "data": {
      "text/plain": [
       "[1, 2, 3, 4, 5, 6]"
      ]
     },
     "execution_count": 99,
     "metadata": {},
     "output_type": "execute_result"
    }
   ],
   "source": [
    "l8"
   ]
  },
  {
   "cell_type": "code",
   "execution_count": 100,
   "id": "907fc6df-2eda-4e6f-a454-d2ce6060698a",
   "metadata": {},
   "outputs": [],
   "source": [
    "l9.extend(l8)"
   ]
  },
  {
   "cell_type": "code",
   "execution_count": 101,
   "id": "c1f2daa6-943a-4f93-99f2-d3fca9b0b185",
   "metadata": {},
   "outputs": [
    {
     "data": {
      "text/plain": [
       "[4, 5, 6, 1, 2, 3, 4, 5, 6]"
      ]
     },
     "execution_count": 101,
     "metadata": {},
     "output_type": "execute_result"
    }
   ],
   "source": [
    "l9"
   ]
  },
  {
   "cell_type": "code",
   "execution_count": 102,
   "id": "a4303136-aa25-40b9-aad5-086a1ef33262",
   "metadata": {},
   "outputs": [
    {
     "data": {
      "text/plain": [
       "4"
      ]
     },
     "execution_count": 102,
     "metadata": {},
     "output_type": "execute_result"
    }
   ],
   "source": [
    "l9.index(2)"
   ]
  },
  {
   "cell_type": "code",
   "execution_count": 103,
   "id": "26a77dc8-7ed1-4d78-b1bd-c4c6a8d94b56",
   "metadata": {},
   "outputs": [],
   "source": [
    "l9.reverse()"
   ]
  },
  {
   "cell_type": "code",
   "execution_count": 104,
   "id": "ab319651-d16c-4360-b926-16f2dc5fa57f",
   "metadata": {},
   "outputs": [
    {
     "data": {
      "text/plain": [
       "[6, 5, 4, 3, 2, 1, 6, 5, 4]"
      ]
     },
     "execution_count": 104,
     "metadata": {},
     "output_type": "execute_result"
    }
   ],
   "source": [
    "l9"
   ]
  },
  {
   "cell_type": "code",
   "execution_count": 105,
   "id": "c20c227b-ba5c-4088-b2b4-65038486471e",
   "metadata": {},
   "outputs": [],
   "source": [
    "l10 = [10,20,30]"
   ]
  },
  {
   "cell_type": "code",
   "execution_count": 106,
   "id": "a4b8f56c-33c7-457f-960a-f5899278d107",
   "metadata": {},
   "outputs": [
    {
     "data": {
      "text/plain": [
       "[10, 20, 30]"
      ]
     },
     "execution_count": 106,
     "metadata": {},
     "output_type": "execute_result"
    }
   ],
   "source": [
    "l10"
   ]
  },
  {
   "cell_type": "code",
   "execution_count": 107,
   "id": "8dd42427-3c69-41b8-9ea8-979d1b671bfd",
   "metadata": {},
   "outputs": [],
   "source": [
    "l10.insert(1,40)"
   ]
  },
  {
   "cell_type": "code",
   "execution_count": 108,
   "id": "099803e5-30b0-47a1-9ceb-d83825a92f98",
   "metadata": {},
   "outputs": [
    {
     "data": {
      "text/plain": [
       "[10, 40, 20, 30]"
      ]
     },
     "execution_count": 108,
     "metadata": {},
     "output_type": "execute_result"
    }
   ],
   "source": [
    "l10"
   ]
  },
  {
   "cell_type": "code",
   "execution_count": 109,
   "id": "86efbb67-6aef-470a-8dc5-235ca51d2b6e",
   "metadata": {},
   "outputs": [],
   "source": [
    "l10.insert(1,45)"
   ]
  },
  {
   "cell_type": "code",
   "execution_count": 110,
   "id": "5fd878f2-c6f4-47ac-a38b-b19d1c0e4ee0",
   "metadata": {},
   "outputs": [
    {
     "data": {
      "text/plain": [
       "[10, 45, 40, 20, 30]"
      ]
     },
     "execution_count": 110,
     "metadata": {},
     "output_type": "execute_result"
    }
   ],
   "source": [
    "l10"
   ]
  },
  {
   "cell_type": "code",
   "execution_count": 111,
   "id": "7082c2f1-28ec-442c-8c5e-45ac3f9d59e7",
   "metadata": {},
   "outputs": [
    {
     "data": {
      "text/plain": [
       "[100, 1.2, 'nit', True, 3, 10, 5.6, 'nit', True, False, 200]"
      ]
     },
     "execution_count": 111,
     "metadata": {},
     "output_type": "execute_result"
    }
   ],
   "source": [
    "l5"
   ]
  },
  {
   "cell_type": "code",
   "execution_count": 112,
   "id": "0560a5e6-1e52-4728-9399-a1eddb17b077",
   "metadata": {},
   "outputs": [
    {
     "data": {
      "text/plain": [
       "[10, 100, 1.2, 'nit', True, 3, 10, 5.6, 'nit', True, False, 200]"
      ]
     },
     "execution_count": 112,
     "metadata": {},
     "output_type": "execute_result"
    }
   ],
   "source": [
    "l6"
   ]
  },
  {
   "cell_type": "code",
   "execution_count": 113,
   "id": "f56e4405-d526-43c2-bb02-fb5ffada4450",
   "metadata": {},
   "outputs": [
    {
     "data": {
      "text/plain": [
       "[6, 5, 4, 3, 2, 1, 6, 5, 4]"
      ]
     },
     "execution_count": 113,
     "metadata": {},
     "output_type": "execute_result"
    }
   ],
   "source": [
    "l9"
   ]
  },
  {
   "cell_type": "code",
   "execution_count": 114,
   "id": "71898400-c427-4afe-9400-feeca5bab9cb",
   "metadata": {},
   "outputs": [
    {
     "data": {
      "text/plain": [
       "[1, 2, 3, 4, 5, 6]"
      ]
     },
     "execution_count": 114,
     "metadata": {},
     "output_type": "execute_result"
    }
   ],
   "source": [
    "l8"
   ]
  },
  {
   "cell_type": "code",
   "execution_count": 115,
   "id": "a39afd6d-b34d-4aeb-a4d2-34fae5110961",
   "metadata": {},
   "outputs": [
    {
     "data": {
      "text/plain": [
       "[10, 45, 40, 20, 30]"
      ]
     },
     "execution_count": 115,
     "metadata": {},
     "output_type": "execute_result"
    }
   ],
   "source": [
    "l10"
   ]
  },
  {
   "cell_type": "code",
   "execution_count": 116,
   "id": "80d01b2a-eebc-4d84-a860-91917c08ca4e",
   "metadata": {},
   "outputs": [],
   "source": [
    "l8.sort()"
   ]
  },
  {
   "cell_type": "code",
   "execution_count": 117,
   "id": "1f91a2e9-d9f8-4f19-b424-98a8875907a8",
   "metadata": {},
   "outputs": [
    {
     "data": {
      "text/plain": [
       "[1, 2, 3, 4, 5, 6]"
      ]
     },
     "execution_count": 117,
     "metadata": {},
     "output_type": "execute_result"
    }
   ],
   "source": [
    "l8"
   ]
  },
  {
   "cell_type": "code",
   "execution_count": 118,
   "id": "f7b0ba7a-6824-43c9-a109-d80f58cb3e8a",
   "metadata": {},
   "outputs": [],
   "source": [
    "l10.sort()"
   ]
  },
  {
   "cell_type": "code",
   "execution_count": 119,
   "id": "5ce76ac5-8680-4238-938b-d0c5bd211b61",
   "metadata": {},
   "outputs": [
    {
     "data": {
      "text/plain": [
       "[10, 20, 30, 40, 45]"
      ]
     },
     "execution_count": 119,
     "metadata": {},
     "output_type": "execute_result"
    }
   ],
   "source": [
    "l10"
   ]
  },
  {
   "cell_type": "code",
   "execution_count": 120,
   "id": "c352d38c-6300-4728-9fee-0d54b00191e2",
   "metadata": {},
   "outputs": [],
   "source": [
    "l9.sort()"
   ]
  },
  {
   "cell_type": "code",
   "execution_count": 121,
   "id": "23cce571-a7bb-4187-948a-ea275049d412",
   "metadata": {},
   "outputs": [
    {
     "data": {
      "text/plain": [
       "[1, 2, 3, 4, 4, 5, 5, 6, 6]"
      ]
     },
     "execution_count": 121,
     "metadata": {},
     "output_type": "execute_result"
    }
   ],
   "source": [
    "l9"
   ]
  },
  {
   "cell_type": "code",
   "execution_count": 122,
   "id": "11130e8b-cced-4539-aec2-c0ae54b2b16c",
   "metadata": {},
   "outputs": [],
   "source": [
    "l9.sort(reverse=True)"
   ]
  },
  {
   "cell_type": "code",
   "execution_count": 123,
   "id": "db669f51-de22-4766-aa4f-0e599257b2ef",
   "metadata": {},
   "outputs": [
    {
     "data": {
      "text/plain": [
       "[6, 6, 5, 5, 4, 4, 3, 2, 1]"
      ]
     },
     "execution_count": 123,
     "metadata": {},
     "output_type": "execute_result"
    }
   ],
   "source": [
    "l9"
   ]
  },
  {
   "cell_type": "markdown",
   "id": "5c5d19cc-e929-4658-ad02-6c5fe459e451",
   "metadata": {},
   "source": [
    "# Tuple"
   ]
  },
  {
   "cell_type": "code",
   "execution_count": 124,
   "id": "3771613b-d9dd-4b8b-aa59-a4f73d39e69a",
   "metadata": {},
   "outputs": [
    {
     "data": {
      "text/plain": [
       "()"
      ]
     },
     "execution_count": 124,
     "metadata": {},
     "output_type": "execute_result"
    }
   ],
   "source": [
    "t=()\n",
    "t"
   ]
  },
  {
   "cell_type": "code",
   "execution_count": 125,
   "id": "2408665f-4a0e-40cf-8672-b52642127fa5",
   "metadata": {},
   "outputs": [],
   "source": [
    "t1 = tuple()"
   ]
  },
  {
   "cell_type": "code",
   "execution_count": 126,
   "id": "8adfd23b-1d0d-4ce9-b6f7-6fe3f1035e29",
   "metadata": {},
   "outputs": [
    {
     "data": {
      "text/plain": [
       "tuple"
      ]
     },
     "execution_count": 126,
     "metadata": {},
     "output_type": "execute_result"
    }
   ],
   "source": [
    "type(t)"
   ]
  },
  {
   "cell_type": "code",
   "execution_count": 127,
   "id": "98fdc89f-8f06-4ff4-9547-d67d78d54fa7",
   "metadata": {},
   "outputs": [
    {
     "data": {
      "text/plain": [
       "(1, 2, 3, 4, 5)"
      ]
     },
     "execution_count": 127,
     "metadata": {},
     "output_type": "execute_result"
    }
   ],
   "source": [
    "t1 = (1,2,3,4,5)\n",
    "t1"
   ]
  },
  {
   "cell_type": "code",
   "execution_count": 128,
   "id": "03811733-3dbf-4173-9761-45b7a1783b4d",
   "metadata": {},
   "outputs": [
    {
     "data": {
      "text/plain": [
       "(10, 20, 30, 11, 'nit', True)"
      ]
     },
     "execution_count": 128,
     "metadata": {},
     "output_type": "execute_result"
    }
   ],
   "source": [
    "t2 =( 10,20,30,11,'nit', True)\n",
    "t2"
   ]
  },
  {
   "cell_type": "code",
   "execution_count": 129,
   "id": "21d7e136-4926-437f-8172-f50725d03319",
   "metadata": {},
   "outputs": [
    {
     "data": {
      "text/plain": [
       "(10, 20, 30, 11)"
      ]
     },
     "execution_count": 129,
     "metadata": {},
     "output_type": "execute_result"
    }
   ],
   "source": [
    "t2 =( 10,20,30,11,)\n",
    "t2"
   ]
  },
  {
   "cell_type": "code",
   "execution_count": 130,
   "id": "0740340f-f6e0-4e30-8b5d-da2b6b0dd312",
   "metadata": {},
   "outputs": [
    {
     "data": {
      "text/plain": [
       "(20, 30, 11)"
      ]
     },
     "execution_count": 130,
     "metadata": {},
     "output_type": "execute_result"
    }
   ],
   "source": [
    "t2[1:]"
   ]
  },
  {
   "cell_type": "code",
   "execution_count": 131,
   "id": "d6a0ac6f-f417-41a2-aa43-ed2faa77f20e",
   "metadata": {},
   "outputs": [
    {
     "data": {
      "text/plain": [
       "1"
      ]
     },
     "execution_count": 131,
     "metadata": {},
     "output_type": "execute_result"
    }
   ],
   "source": [
    "t2.count(10)"
   ]
  },
  {
   "cell_type": "code",
   "execution_count": 132,
   "id": "870b32ac-7a3b-4bb1-8527-dbb67ff02d63",
   "metadata": {},
   "outputs": [
    {
     "data": {
      "text/plain": [
       "0"
      ]
     },
     "execution_count": 132,
     "metadata": {},
     "output_type": "execute_result"
    }
   ],
   "source": [
    "t2.count(40)"
   ]
  },
  {
   "cell_type": "code",
   "execution_count": 133,
   "id": "999c5afa-0f1f-4e2f-a324-424ebee7a1ed",
   "metadata": {},
   "outputs": [
    {
     "data": {
      "text/plain": [
       "1"
      ]
     },
     "execution_count": 133,
     "metadata": {},
     "output_type": "execute_result"
    }
   ],
   "source": [
    "t2.index(20)"
   ]
  },
  {
   "cell_type": "code",
   "execution_count": 134,
   "id": "7264af9f-1756-4a8f-b71b-7a5be166aa7a",
   "metadata": {},
   "outputs": [
    {
     "name": "stdout",
     "output_type": "stream",
     "text": [
      "10\n",
      "20\n",
      "30\n",
      "[10, 20, 30]\n"
     ]
    }
   ],
   "source": [
    "for i in l:\n",
    "    print(i)"
   ]
  },
  {
   "cell_type": "code",
   "execution_count": 135,
   "id": "5268ebdb-2800-4174-91cc-5f5dce2aa234",
   "metadata": {},
   "outputs": [
    {
     "name": "stdout",
     "output_type": "stream",
     "text": [
      "(0, 10)\n",
      "(1, 20)\n",
      "(2, 30)\n",
      "(3, [10, 20, 30])\n"
     ]
    }
   ],
   "source": [
    "for i in enumerate(l):\n",
    "    print(i)"
   ]
  },
  {
   "cell_type": "code",
   "execution_count": 136,
   "id": "3c1597db-54dd-4c05-8ab6-9afb2eb8a4bf",
   "metadata": {},
   "outputs": [
    {
     "name": "stdout",
     "output_type": "stream",
     "text": [
      "10\n",
      "20\n",
      "30\n",
      "11\n"
     ]
    }
   ],
   "source": [
    "for i in t2:\n",
    "    print(i)"
   ]
  },
  {
   "cell_type": "code",
   "execution_count": 137,
   "id": "ebda549c-2cf9-4de0-a229-7e9267e783ca",
   "metadata": {},
   "outputs": [
    {
     "name": "stdout",
     "output_type": "stream",
     "text": [
      "(0, 10)\n",
      "(1, 20)\n",
      "(2, 30)\n",
      "(3, 11)\n"
     ]
    }
   ],
   "source": [
    "for i in enumerate(t2):\n",
    "    print(i)"
   ]
  },
  {
   "cell_type": "markdown",
   "id": "41b7e033-168a-40d0-bc85-94b7a0db1070",
   "metadata": {},
   "source": [
    "# Set -3"
   ]
  },
  {
   "cell_type": "code",
   "execution_count": 138,
   "id": "56ca471c-9497-49e1-9fcd-09068e1673e1",
   "metadata": {},
   "outputs": [
    {
     "data": {
      "text/plain": [
       "{}"
      ]
     },
     "execution_count": 138,
     "metadata": {},
     "output_type": "execute_result"
    }
   ],
   "source": [
    "s = {}\n",
    "s"
   ]
  },
  {
   "cell_type": "code",
   "execution_count": 139,
   "id": "e9dde096-c69e-4d7b-a6d7-cd03289649dd",
   "metadata": {},
   "outputs": [
    {
     "data": {
      "text/plain": [
       "dict"
      ]
     },
     "execution_count": 139,
     "metadata": {},
     "output_type": "execute_result"
    }
   ],
   "source": [
    "type(s)"
   ]
  },
  {
   "cell_type": "code",
   "execution_count": 140,
   "id": "e935c130-90d0-4958-8b35-3b785bcc6512",
   "metadata": {},
   "outputs": [
    {
     "data": {
      "text/plain": [
       "set"
      ]
     },
     "execution_count": 140,
     "metadata": {},
     "output_type": "execute_result"
    }
   ],
   "source": [
    "s1 = set()\n",
    "type(s1)"
   ]
  },
  {
   "cell_type": "code",
   "execution_count": 141,
   "id": "b51ba435-d2ce-4415-b4d2-b4ba0f7988e5",
   "metadata": {},
   "outputs": [
    {
     "data": {
      "text/plain": [
       "{2, 3, 5, 6, 54, 87, 100}"
      ]
     },
     "execution_count": 141,
     "metadata": {},
     "output_type": "execute_result"
    }
   ],
   "source": [
    "s1 = {5,6,3,2,100,54,87}\n",
    "s1"
   ]
  },
  {
   "cell_type": "code",
   "execution_count": 142,
   "id": "644b4a55-f439-49c1-9cdd-5fcab61506cd",
   "metadata": {},
   "outputs": [
    {
     "data": {
      "text/plain": [
       "{2, 3, True, 'nit'}"
      ]
     },
     "execution_count": 142,
     "metadata": {},
     "output_type": "execute_result"
    }
   ],
   "source": [
    "s2 = {2,3,True,\"nit\"}\n",
    "s2"
   ]
  },
  {
   "cell_type": "code",
   "execution_count": 143,
   "id": "1df2955e-fccc-48f4-ac51-bdb58a1c0e90",
   "metadata": {},
   "outputs": [
    {
     "data": {
      "text/plain": [
       "{2, 3, 4, 5, 6, 'nag'}"
      ]
     },
     "execution_count": 143,
     "metadata": {},
     "output_type": "execute_result"
    }
   ],
   "source": [
    "s3 = {2,3,4,5,6,'nag'}\n",
    "s3"
   ]
  },
  {
   "cell_type": "code",
   "execution_count": 144,
   "id": "e94f710f-b8cc-477a-9dbb-383c39d12a5e",
   "metadata": {},
   "outputs": [
    {
     "name": "stdout",
     "output_type": "stream",
     "text": [
      "{2, 3, 100, 5, 6, 54, 87}\n",
      "{True, 2, 3, 'nit'}\n",
      "{'nag', 2, 3, 4, 5, 6}\n"
     ]
    }
   ],
   "source": [
    "print(s1)\n",
    "print(s2)\n",
    "print(s3)"
   ]
  },
  {
   "cell_type": "markdown",
   "id": "c54d3ad7-b355-448a-87eb-99c46d4a5c6f",
   "metadata": {},
   "source": [
    "**empty set = set()**\n",
    "\n",
    "**empty dict = {}**\n",
    "\n",
    "**empty tuple = ()**\n",
    "\n",
    "**empty list = ()**"
   ]
  },
  {
   "cell_type": "code",
   "execution_count": 145,
   "id": "6de4f2a5-ebf0-43c8-96bf-809a7b8d3f44",
   "metadata": {},
   "outputs": [
    {
     "name": "stdout",
     "output_type": "stream",
     "text": [
      "<class 'set'>\n",
      "<class 'set'>\n",
      "<class 'set'>\n"
     ]
    }
   ],
   "source": [
    "print(type(s1))\n",
    "print(type(s2))\n",
    "print(type(s3))"
   ]
  },
  {
   "cell_type": "code",
   "execution_count": 146,
   "id": "5732d563-fece-45f4-9c1c-faeb90d4df66",
   "metadata": {},
   "outputs": [],
   "source": [
    "s1.add(20)"
   ]
  },
  {
   "cell_type": "code",
   "execution_count": 147,
   "id": "d9ba5726-d0e1-441f-b78d-e52c6c6eb1f5",
   "metadata": {},
   "outputs": [
    {
     "data": {
      "text/plain": [
       "{2, 3, 5, 6, 20, 54, 87, 100}"
      ]
     },
     "execution_count": 147,
     "metadata": {},
     "output_type": "execute_result"
    }
   ],
   "source": [
    "s1"
   ]
  },
  {
   "cell_type": "code",
   "execution_count": 148,
   "id": "b401e9df-823a-4741-972e-cf949dc2f30c",
   "metadata": {},
   "outputs": [],
   "source": [
    "s1.remove(5)"
   ]
  },
  {
   "cell_type": "code",
   "execution_count": 149,
   "id": "31a2d111-2633-4b28-8308-5c0173828ecf",
   "metadata": {},
   "outputs": [
    {
     "data": {
      "text/plain": [
       "{2, 3, 6, 20, 54, 87, 100}"
      ]
     },
     "execution_count": 149,
     "metadata": {},
     "output_type": "execute_result"
    }
   ],
   "source": [
    "s1"
   ]
  },
  {
   "cell_type": "code",
   "execution_count": 150,
   "id": "67e37174-9728-48ae-a03a-477dae59fcec",
   "metadata": {},
   "outputs": [
    {
     "data": {
      "text/plain": [
       "2"
      ]
     },
     "execution_count": 150,
     "metadata": {},
     "output_type": "execute_result"
    }
   ],
   "source": [
    "s1.pop()"
   ]
  },
  {
   "cell_type": "code",
   "execution_count": 151,
   "id": "a5de9628-c8c0-4054-9e59-cf414e4182d5",
   "metadata": {},
   "outputs": [
    {
     "data": {
      "text/plain": [
       "{3, 6, 20, 54, 87, 100}"
      ]
     },
     "execution_count": 151,
     "metadata": {},
     "output_type": "execute_result"
    }
   ],
   "source": [
    "s1"
   ]
  },
  {
   "cell_type": "code",
   "execution_count": 153,
   "id": "234ba3db-1298-45cb-b62b-f4ffc1978604",
   "metadata": {},
   "outputs": [
    {
     "data": {
      "text/plain": [
       "3"
      ]
     },
     "execution_count": 153,
     "metadata": {},
     "output_type": "execute_result"
    }
   ],
   "source": [
    "s1.pop()"
   ]
  },
  {
   "cell_type": "markdown",
   "id": "9b7b7bfe-08a2-4c22-8cd2-71db340438a7",
   "metadata": {},
   "source": [
    "# Set Operation"
   ]
  },
  {
   "cell_type": "code",
   "execution_count": 154,
   "id": "0ecc796e-a7a9-4467-864e-a80aada58ce4",
   "metadata": {},
   "outputs": [],
   "source": [
    "a = {1,2,3,4}\n",
    "b = {5,6,7,8}\n",
    "c = {9,10,11}"
   ]
  },
  {
   "cell_type": "code",
   "execution_count": 155,
   "id": "9b8a705f-1748-49c6-81da-4ae5b6ce4945",
   "metadata": {},
   "outputs": [
    {
     "data": {
      "text/plain": [
       "{1, 2, 3, 4, 5, 6, 7, 8}"
      ]
     },
     "execution_count": 155,
     "metadata": {},
     "output_type": "execute_result"
    }
   ],
   "source": [
    "a | b "
   ]
  },
  {
   "cell_type": "code",
   "execution_count": 156,
   "id": "6b2e95ca-e52c-48a6-b956-0ce467c19b9e",
   "metadata": {},
   "outputs": [
    {
     "data": {
      "text/plain": [
       "set"
      ]
     },
     "execution_count": 156,
     "metadata": {},
     "output_type": "execute_result"
    }
   ],
   "source": [
    "type(a)"
   ]
  },
  {
   "cell_type": "code",
   "execution_count": 157,
   "id": "1cf30386-21c9-42bc-bb32-d8180bfbc0e8",
   "metadata": {},
   "outputs": [
    {
     "data": {
      "text/plain": [
       "{5, 6, 7, 8, 9, 10, 11}"
      ]
     },
     "execution_count": 157,
     "metadata": {},
     "output_type": "execute_result"
    }
   ],
   "source": [
    "b| c"
   ]
  },
  {
   "cell_type": "code",
   "execution_count": 158,
   "id": "990c73f3-65f4-493f-b550-abf7216f428d",
   "metadata": {},
   "outputs": [
    {
     "data": {
      "text/plain": [
       "{1, 2, 3, 4, 5, 6, 7, 8, 9, 10, 11}"
      ]
     },
     "execution_count": 158,
     "metadata": {},
     "output_type": "execute_result"
    }
   ],
   "source": [
    "a | b| c"
   ]
  },
  {
   "cell_type": "code",
   "execution_count": 159,
   "id": "32fe3062-4b9a-4a24-a51c-5321db0e12dd",
   "metadata": {},
   "outputs": [
    {
     "data": {
      "text/plain": [
       "{1, 2, 3, 4, 9, 10, 11}"
      ]
     },
     "execution_count": 159,
     "metadata": {},
     "output_type": "execute_result"
    }
   ],
   "source": [
    "a | c"
   ]
  },
  {
   "cell_type": "code",
   "execution_count": 160,
   "id": "7002de15-2709-446c-a959-03abe329604a",
   "metadata": {},
   "outputs": [
    {
     "data": {
      "text/plain": [
       "{1, 2, 3, 4, 5, 6, 7, 8}"
      ]
     },
     "execution_count": 160,
     "metadata": {},
     "output_type": "execute_result"
    }
   ],
   "source": [
    "a.union(b)"
   ]
  },
  {
   "cell_type": "code",
   "execution_count": 161,
   "id": "5a213d12-904b-40ad-8d85-4d1de6629188",
   "metadata": {},
   "outputs": [
    {
     "data": {
      "text/plain": [
       "{1, 2, 3, 4, 9, 10, 11}"
      ]
     },
     "execution_count": 161,
     "metadata": {},
     "output_type": "execute_result"
    }
   ],
   "source": [
    "a.union(c)"
   ]
  },
  {
   "cell_type": "code",
   "execution_count": 162,
   "id": "d0893bec-5fa9-40f5-9d01-c3b298bcbfef",
   "metadata": {},
   "outputs": [
    {
     "data": {
      "text/plain": [
       "{1, 2, 3, 4, 9, 10, 11}"
      ]
     },
     "execution_count": 162,
     "metadata": {},
     "output_type": "execute_result"
    }
   ],
   "source": [
    "c.union(a)"
   ]
  },
  {
   "cell_type": "code",
   "execution_count": 163,
   "id": "5659f086-31f9-4051-8513-b9d57ca0a133",
   "metadata": {},
   "outputs": [
    {
     "data": {
      "text/plain": [
       "{1, 2, 3, 4, 5, 6, 7, 8, 9, 10, 11}"
      ]
     },
     "execution_count": 163,
     "metadata": {},
     "output_type": "execute_result"
    }
   ],
   "source": [
    "c.union(b,a)"
   ]
  },
  {
   "cell_type": "code",
   "execution_count": 164,
   "id": "8667f414-9f55-455b-b56d-97bb7ad2ec33",
   "metadata": {},
   "outputs": [
    {
     "data": {
      "text/plain": [
       "{1, 2, 3, 4, 5, 6, 7, 8, 9, 10, 11}"
      ]
     },
     "execution_count": 164,
     "metadata": {},
     "output_type": "execute_result"
    }
   ],
   "source": [
    "c.union(a,b)"
   ]
  },
  {
   "cell_type": "code",
   "execution_count": 165,
   "id": "128f3478-601f-45d5-a3fe-29a14cf8f784",
   "metadata": {},
   "outputs": [],
   "source": [
    "a1 = {'a','b'}\n",
    "b1 = {'c','d'}"
   ]
  },
  {
   "cell_type": "code",
   "execution_count": 166,
   "id": "dd509703-afec-4937-ab56-1718098b10d5",
   "metadata": {},
   "outputs": [
    {
     "data": {
      "text/plain": [
       "{'a', 'b', 'c', 'd'}"
      ]
     },
     "execution_count": 166,
     "metadata": {},
     "output_type": "execute_result"
    }
   ],
   "source": [
    "a1.union(b1)"
   ]
  },
  {
   "cell_type": "code",
   "execution_count": 167,
   "id": "d0e54524-1bdd-4570-8758-1b8a58cf23cb",
   "metadata": {},
   "outputs": [],
   "source": [
    "c.update(b)"
   ]
  },
  {
   "cell_type": "code",
   "execution_count": 168,
   "id": "c5c53c52-a608-438a-9e69-6baac8474cd4",
   "metadata": {},
   "outputs": [
    {
     "data": {
      "text/plain": [
       "{5, 6, 7, 8, 9, 10, 11}"
      ]
     },
     "execution_count": 168,
     "metadata": {},
     "output_type": "execute_result"
    }
   ],
   "source": [
    "c"
   ]
  },
  {
   "cell_type": "code",
   "execution_count": 169,
   "id": "0580edbb-a223-4c9c-971e-c0a70ccc7525",
   "metadata": {},
   "outputs": [
    {
     "data": {
      "text/plain": [
       "7"
      ]
     },
     "execution_count": 169,
     "metadata": {},
     "output_type": "execute_result"
    }
   ],
   "source": [
    "len(c)"
   ]
  },
  {
   "cell_type": "code",
   "execution_count": 170,
   "id": "af3d5a3a-6a6e-4fa2-a96f-66716c36f620",
   "metadata": {},
   "outputs": [
    {
     "name": "stdout",
     "output_type": "stream",
     "text": [
      "{1, 2, 3, 4}\n",
      "{8, 5, 6, 7}\n",
      "{5, 6, 7, 8, 9, 10, 11}\n"
     ]
    }
   ],
   "source": [
    "print(a)\n",
    "print(b)\n",
    "print(c)"
   ]
  },
  {
   "cell_type": "code",
   "execution_count": 171,
   "id": "e2c3064c-664e-4fa8-bca3-5130ffe73761",
   "metadata": {},
   "outputs": [],
   "source": [
    "a = {1,2,3,4,5}\n",
    "b={4,5,6,7,8,9}\n",
    "c ={9,10,11,3}"
   ]
  },
  {
   "cell_type": "code",
   "execution_count": 172,
   "id": "a8203107-1763-417d-b335-46c9b09bc8f5",
   "metadata": {},
   "outputs": [
    {
     "data": {
      "text/plain": [
       "{4, 5}"
      ]
     },
     "execution_count": 172,
     "metadata": {},
     "output_type": "execute_result"
    }
   ],
   "source": [
    " a & b"
   ]
  },
  {
   "cell_type": "code",
   "execution_count": 173,
   "id": "1a581062-4563-4b3d-94dd-4e08c669f589",
   "metadata": {},
   "outputs": [
    {
     "data": {
      "text/plain": [
       "{3}"
      ]
     },
     "execution_count": 173,
     "metadata": {},
     "output_type": "execute_result"
    }
   ],
   "source": [
    "a&c"
   ]
  },
  {
   "cell_type": "code",
   "execution_count": 174,
   "id": "eed0a7f1-f449-4a69-ade2-78ccb3659e1d",
   "metadata": {},
   "outputs": [
    {
     "data": {
      "text/plain": [
       "{9}"
      ]
     },
     "execution_count": 174,
     "metadata": {},
     "output_type": "execute_result"
    }
   ],
   "source": [
    "b & c"
   ]
  },
  {
   "cell_type": "code",
   "execution_count": 175,
   "id": "c552ea06-3fdb-403d-950e-fd9980f09c14",
   "metadata": {},
   "outputs": [
    {
     "data": {
      "text/plain": [
       "{9}"
      ]
     },
     "execution_count": 175,
     "metadata": {},
     "output_type": "execute_result"
    }
   ],
   "source": [
    " c.intersection(b)"
   ]
  },
  {
   "cell_type": "code",
   "execution_count": 176,
   "id": "e6ecf42a-575e-40f1-a56e-8f5a8fc2edb9",
   "metadata": {},
   "outputs": [
    {
     "name": "stdout",
     "output_type": "stream",
     "text": [
      "{1, 2, 3, 4, 5}\n",
      "{4, 5, 6, 7, 8, 9}\n",
      "{11, 9, 10, 3}\n"
     ]
    }
   ],
   "source": [
    "print(a)\n",
    "print(b)\n",
    "print(c)"
   ]
  },
  {
   "cell_type": "code",
   "execution_count": 177,
   "id": "85a9fc17-dfab-4330-850e-b3c9410a5b32",
   "metadata": {},
   "outputs": [],
   "source": [
    "a.intersection_update(b)"
   ]
  },
  {
   "cell_type": "code",
   "execution_count": 178,
   "id": "342f8fa8-3dab-46d0-9c66-39083561d3b2",
   "metadata": {},
   "outputs": [
    {
     "data": {
      "text/plain": [
       "{4, 5}"
      ]
     },
     "execution_count": 178,
     "metadata": {},
     "output_type": "execute_result"
    }
   ],
   "source": [
    "a"
   ]
  },
  {
   "cell_type": "code",
   "execution_count": 179,
   "id": "2f459aaf-b06e-4deb-b1c3-a8407e06fe23",
   "metadata": {},
   "outputs": [],
   "source": [
    "a2 = {1,2,3,4,5}\n",
    "b2 = {4,5,6,7,8}\n",
    "c2 = {8,9,10}"
   ]
  },
  {
   "cell_type": "code",
   "execution_count": 180,
   "id": "131151fc-675b-488f-8676-027e600164b6",
   "metadata": {},
   "outputs": [
    {
     "data": {
      "text/plain": [
       "{1, 2, 3}"
      ]
     },
     "execution_count": 180,
     "metadata": {},
     "output_type": "execute_result"
    }
   ],
   "source": [
    "a2 -b2"
   ]
  },
  {
   "cell_type": "code",
   "execution_count": 181,
   "id": "91f488a3-5e8a-4756-9084-3b144b5d8c5e",
   "metadata": {},
   "outputs": [
    {
     "data": {
      "text/plain": [
       "{1, 2, 3, 4, 5}"
      ]
     },
     "execution_count": 181,
     "metadata": {},
     "output_type": "execute_result"
    }
   ],
   "source": [
    "a2-c2"
   ]
  },
  {
   "cell_type": "code",
   "execution_count": 182,
   "id": "818f647f-a619-48de-9b3b-bf7c2ad0ccd0",
   "metadata": {},
   "outputs": [
    {
     "data": {
      "text/plain": [
       "{4, 5, 6, 7}"
      ]
     },
     "execution_count": 182,
     "metadata": {},
     "output_type": "execute_result"
    }
   ],
   "source": [
    "b2-c2"
   ]
  },
  {
   "cell_type": "code",
   "execution_count": 183,
   "id": "dd137a4e-0967-4eb9-b7c9-3f88029502c9",
   "metadata": {},
   "outputs": [
    {
     "data": {
      "text/plain": [
       "{4, 5, 6, 7}"
      ]
     },
     "execution_count": 183,
     "metadata": {},
     "output_type": "execute_result"
    }
   ],
   "source": [
    "b2.difference(c2)"
   ]
  },
  {
   "cell_type": "code",
   "execution_count": 184,
   "id": "07337f52-6d9c-442f-b12b-ca6f4759c346",
   "metadata": {},
   "outputs": [
    {
     "name": "stdout",
     "output_type": "stream",
     "text": [
      "{1, 2, 3, 4, 5}\n",
      "{4, 5, 6, 7, 8}\n",
      "{8, 9, 10}\n"
     ]
    }
   ],
   "source": [
    "print(a2)\n",
    "print(b2)\n",
    "print(c2)"
   ]
  },
  {
   "cell_type": "code",
   "execution_count": 185,
   "id": "464ee49b-9fb7-4f84-998a-c9c178a2e376",
   "metadata": {},
   "outputs": [],
   "source": [
    "b2.difference_update(c2)"
   ]
  },
  {
   "cell_type": "code",
   "execution_count": 186,
   "id": "a440df6a-c97e-4df9-92f9-423271679652",
   "metadata": {},
   "outputs": [
    {
     "data": {
      "text/plain": [
       "{4, 5, 6, 7}"
      ]
     },
     "execution_count": 186,
     "metadata": {},
     "output_type": "execute_result"
    }
   ],
   "source": [
    "b2"
   ]
  },
  {
   "cell_type": "code",
   "execution_count": 187,
   "id": "06e14cce-6da9-4da6-a0f7-93ee38311a24",
   "metadata": {},
   "outputs": [],
   "source": [
    "b2.add(8)"
   ]
  },
  {
   "cell_type": "code",
   "execution_count": 188,
   "id": "3ac447f3-7720-4bc0-a94d-950382d0049a",
   "metadata": {},
   "outputs": [
    {
     "data": {
      "text/plain": [
       "{4, 5, 6, 7, 8}"
      ]
     },
     "execution_count": 188,
     "metadata": {},
     "output_type": "execute_result"
    }
   ],
   "source": [
    "b2"
   ]
  },
  {
   "cell_type": "code",
   "execution_count": 189,
   "id": "a567082c-e71c-4033-b752-43e29df69e6e",
   "metadata": {},
   "outputs": [
    {
     "name": "stdout",
     "output_type": "stream",
     "text": [
      "{1, 2, 3, 4, 5}\n",
      "{4, 5, 6, 7, 8}\n",
      "{8, 9, 10}\n"
     ]
    }
   ],
   "source": [
    "print(a2)\n",
    "print(b2)\n",
    "print(c2)"
   ]
  },
  {
   "cell_type": "code",
   "execution_count": 190,
   "id": "136edea3-ab83-46d0-bff7-b6c86aaf59ec",
   "metadata": {},
   "outputs": [
    {
     "data": {
      "text/plain": [
       "{1, 2, 3, 6, 7, 8}"
      ]
     },
     "execution_count": 190,
     "metadata": {},
     "output_type": "execute_result"
    }
   ],
   "source": [
    "a2.symmetric_difference(b2)"
   ]
  },
  {
   "cell_type": "code",
   "execution_count": 191,
   "id": "db0c8fc0-5ace-449a-aedc-1bbb7d494cf9",
   "metadata": {},
   "outputs": [
    {
     "data": {
      "text/plain": [
       "{1, 2, 3}"
      ]
     },
     "execution_count": 191,
     "metadata": {},
     "output_type": "execute_result"
    }
   ],
   "source": [
    "a2.difference(b2)"
   ]
  },
  {
   "cell_type": "code",
   "execution_count": 192,
   "id": "6f34c48f-f6c5-4425-ac85-da1645f4c18a",
   "metadata": {},
   "outputs": [
    {
     "data": {
      "text/plain": [
       "{1, 2, 3, 4, 5}"
      ]
     },
     "execution_count": 192,
     "metadata": {},
     "output_type": "execute_result"
    }
   ],
   "source": [
    "a2.difference(c2)"
   ]
  },
  {
   "cell_type": "code",
   "execution_count": 193,
   "id": "ab6dff01-9d08-44c6-a74a-03c0243ff6c6",
   "metadata": {},
   "outputs": [
    {
     "data": {
      "text/plain": [
       "{4, 5, 6, 7}"
      ]
     },
     "execution_count": 193,
     "metadata": {},
     "output_type": "execute_result"
    }
   ],
   "source": [
    "b2.difference(c2)"
   ]
  },
  {
   "cell_type": "code",
   "execution_count": 194,
   "id": "ee7a9337-6c38-4882-9bb0-40e4344255af",
   "metadata": {},
   "outputs": [],
   "source": [
    "a3 ={1,2,3,4,5,6,7,8,9}\n",
    "b3 = {3,4,5,6,8,9,}\n",
    "c3 = {10,20,30,40}"
   ]
  },
  {
   "cell_type": "code",
   "execution_count": 195,
   "id": "1d240c28-c954-4193-833b-8ad7ffa4543e",
   "metadata": {},
   "outputs": [
    {
     "data": {
      "text/plain": [
       "False"
      ]
     },
     "execution_count": 195,
     "metadata": {},
     "output_type": "execute_result"
    }
   ],
   "source": [
    "a3.issubset(b3)"
   ]
  },
  {
   "cell_type": "code",
   "execution_count": 196,
   "id": "745f7e83-18a2-4320-9374-fb4ffbdc19bc",
   "metadata": {},
   "outputs": [
    {
     "data": {
      "text/plain": [
       "True"
      ]
     },
     "execution_count": 196,
     "metadata": {},
     "output_type": "execute_result"
    }
   ],
   "source": [
    "b3.issubset(a3)"
   ]
  },
  {
   "cell_type": "code",
   "execution_count": 197,
   "id": "9bb41055-0c55-454e-aafe-74ca25cdb62c",
   "metadata": {},
   "outputs": [
    {
     "data": {
      "text/plain": [
       "False"
      ]
     },
     "execution_count": 197,
     "metadata": {},
     "output_type": "execute_result"
    }
   ],
   "source": [
    "c3.issubset(a3)"
   ]
  },
  {
   "cell_type": "code",
   "execution_count": 198,
   "id": "cf1d9498-65d1-49c4-ba85-6eda0f2efbf2",
   "metadata": {},
   "outputs": [
    {
     "data": {
      "text/plain": [
       "True"
      ]
     },
     "execution_count": 198,
     "metadata": {},
     "output_type": "execute_result"
    }
   ],
   "source": [
    "c3.isdisjoint(a3)"
   ]
  },
  {
   "cell_type": "code",
   "execution_count": 199,
   "id": "371a248b-975d-4933-b118-c04879a34f8c",
   "metadata": {},
   "outputs": [
    {
     "data": {
      "text/plain": [
       "False"
      ]
     },
     "execution_count": 199,
     "metadata": {},
     "output_type": "execute_result"
    }
   ],
   "source": [
    "c3.issuperset(a3)"
   ]
  },
  {
   "cell_type": "code",
   "execution_count": 200,
   "id": "c69ac79e-2463-4ecb-b16f-6e8941307ce2",
   "metadata": {},
   "outputs": [
    {
     "data": {
      "text/plain": [
       "True"
      ]
     },
     "execution_count": 200,
     "metadata": {},
     "output_type": "execute_result"
    }
   ],
   "source": [
    "a3.issuperset(b3)"
   ]
  },
  {
   "cell_type": "code",
   "execution_count": 201,
   "id": "5eaf8a89-c744-4e38-b0d0-144ea8f4cbb8",
   "metadata": {},
   "outputs": [],
   "source": [
    "a4 = {1,2}\n",
    "b4 = {3,4,5,6,7,8}\n",
    "c4 = {10,20,30,40,}"
   ]
  },
  {
   "cell_type": "code",
   "execution_count": 202,
   "id": "4735f62b-78ca-4401-a4b0-e09955038c24",
   "metadata": {},
   "outputs": [
    {
     "data": {
      "text/plain": [
       "False"
      ]
     },
     "execution_count": 202,
     "metadata": {},
     "output_type": "execute_result"
    }
   ],
   "source": [
    "b4.issubset(a4)"
   ]
  },
  {
   "cell_type": "code",
   "execution_count": 203,
   "id": "1931e590-9879-4f8f-98d1-d5292b51d9af",
   "metadata": {},
   "outputs": [
    {
     "data": {
      "text/plain": [
       "False"
      ]
     },
     "execution_count": 203,
     "metadata": {},
     "output_type": "execute_result"
    }
   ],
   "source": [
    "b4.issubset(a4)"
   ]
  },
  {
   "cell_type": "code",
   "execution_count": 204,
   "id": "06524bc4-1917-4d57-8e7c-4a8aeb38a478",
   "metadata": {},
   "outputs": [],
   "source": [
    "a5 = {10,20}\n",
    "b5 = {30,40,50,60}\n",
    "c5 = {70,80,90,}"
   ]
  },
  {
   "cell_type": "code",
   "execution_count": 205,
   "id": "0794b260-50f7-4974-a045-5b48ef9b5f98",
   "metadata": {},
   "outputs": [
    {
     "data": {
      "text/plain": [
       "False"
      ]
     },
     "execution_count": 205,
     "metadata": {},
     "output_type": "execute_result"
    }
   ],
   "source": [
    "a5.issuperset(b5)"
   ]
  },
  {
   "cell_type": "code",
   "execution_count": 206,
   "id": "b74011e3-de55-4123-824d-c1ede5819e1f",
   "metadata": {},
   "outputs": [
    {
     "data": {
      "text/plain": [
       "False"
      ]
     },
     "execution_count": 206,
     "metadata": {},
     "output_type": "execute_result"
    }
   ],
   "source": [
    "b5.issubset(a5)"
   ]
  },
  {
   "cell_type": "markdown",
   "id": "bcebb273-28ab-4271-8deb-f312560083eb",
   "metadata": {},
   "source": [
    "# Dictionary"
   ]
  },
  {
   "cell_type": "code",
   "execution_count": 207,
   "id": "38cb8f51-cec4-4dae-ae07-f64de0ea71a3",
   "metadata": {},
   "outputs": [],
   "source": [
    "d = {}"
   ]
  },
  {
   "cell_type": "code",
   "execution_count": 208,
   "id": "eaf64e85-27cc-47c2-8ca3-6bb5d164a3ef",
   "metadata": {},
   "outputs": [
    {
     "data": {
      "text/plain": [
       "dict"
      ]
     },
     "execution_count": 208,
     "metadata": {},
     "output_type": "execute_result"
    }
   ],
   "source": [
    "type(d)"
   ]
  },
  {
   "cell_type": "code",
   "execution_count": 209,
   "id": "c483eaa1-dc21-4c7b-9962-c672742cafbf",
   "metadata": {},
   "outputs": [
    {
     "data": {
      "text/plain": [
       "{1: 'one', 2: 'two', 3: 'three', 4: 'four'}"
      ]
     },
     "execution_count": 209,
     "metadata": {},
     "output_type": "execute_result"
    }
   ],
   "source": [
    "d = {1:'one', 2:'two',3: 'three',4:'four'}\n",
    "d"
   ]
  },
  {
   "cell_type": "code",
   "execution_count": 210,
   "id": "2d2052bc-c84d-4c7a-b5e0-dbffcebf4408",
   "metadata": {},
   "outputs": [
    {
     "data": {
      "text/plain": [
       "dict_keys([1, 2, 3, 4])"
      ]
     },
     "execution_count": 210,
     "metadata": {},
     "output_type": "execute_result"
    }
   ],
   "source": [
    "d.keys()"
   ]
  },
  {
   "cell_type": "code",
   "execution_count": 211,
   "id": "b7e9f9d3-5b6f-461e-a2e1-212a5e540a2f",
   "metadata": {},
   "outputs": [
    {
     "data": {
      "text/plain": [
       "dict_values(['one', 'two', 'three', 'four'])"
      ]
     },
     "execution_count": 211,
     "metadata": {},
     "output_type": "execute_result"
    }
   ],
   "source": [
    "d.values()"
   ]
  },
  {
   "cell_type": "code",
   "execution_count": 212,
   "id": "73d0fb1a-afb6-4c6b-b89d-a9494ba41352",
   "metadata": {},
   "outputs": [
    {
     "data": {
      "text/plain": [
       "dict_items([(1, 'one'), (2, 'two'), (3, 'three'), (4, 'four')])"
      ]
     },
     "execution_count": 212,
     "metadata": {},
     "output_type": "execute_result"
    }
   ],
   "source": [
    "d.items()"
   ]
  },
  {
   "cell_type": "code",
   "execution_count": 213,
   "id": "511a54d9-e69b-4cb4-9174-9586ace3acba",
   "metadata": {},
   "outputs": [
    {
     "data": {
      "text/plain": [
       "'one'"
      ]
     },
     "execution_count": 213,
     "metadata": {},
     "output_type": "execute_result"
    }
   ],
   "source": [
    "d[1]"
   ]
  },
  {
   "cell_type": "code",
   "execution_count": 214,
   "id": "d7890da0-57c2-4acc-a7de-e3b823a38745",
   "metadata": {},
   "outputs": [
    {
     "name": "stdout",
     "output_type": "stream",
     "text": [
      "1\n",
      "2\n",
      "3\n",
      "4\n"
     ]
    }
   ],
   "source": [
    "for i in d:\n",
    "    print(i)"
   ]
  },
  {
   "cell_type": "code",
   "execution_count": null,
   "id": "466eeb60-2972-4469-b4c4-1f1597cc865e",
   "metadata": {},
   "outputs": [],
   "source": []
  }
 ],
 "metadata": {
  "kernelspec": {
   "display_name": "Python 3 (ipykernel)",
   "language": "python",
   "name": "python3"
  },
  "language_info": {
   "codemirror_mode": {
    "name": "ipython",
    "version": 3
   },
   "file_extension": ".py",
   "mimetype": "text/x-python",
   "name": "python",
   "nbconvert_exporter": "python",
   "pygments_lexer": "ipython3",
   "version": "3.12.4"
  }
 },
 "nbformat": 4,
 "nbformat_minor": 5
}
