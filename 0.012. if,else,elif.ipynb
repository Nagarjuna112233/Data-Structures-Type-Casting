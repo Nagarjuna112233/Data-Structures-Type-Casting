{
 "cells": [
  {
   "cell_type": "code",
   "execution_count": 4,
   "id": "0dab7071-93b6-4f04-9ace-d9aaf77fd0ab",
   "metadata": {},
   "outputs": [
    {
     "name": "stdout",
     "output_type": "stream",
     "text": [
      "(1, 2)\n"
     ]
    }
   ],
   "source": [
    "name2=(1,2)\n",
    "print(name2)"
   ]
  },
  {
   "cell_type": "code",
   "execution_count": 5,
   "id": "3f464f17-16b6-411c-9907-02bc80410bc5",
   "metadata": {},
   "outputs": [
    {
     "name": "stdin",
     "output_type": "stream",
     "text": [
      "enter name arjun\n"
     ]
    },
    {
     "name": "stdout",
     "output_type": "stream",
     "text": [
      "my name is\n"
     ]
    }
   ],
   "source": [
    "a=input(\"enter name\")\n",
    "print('my name is')"
   ]
  },
  {
   "cell_type": "code",
   "execution_count": 6,
   "id": "2fb4d2f2-b67c-4de8-b3cb-6eb8cbdb75d3",
   "metadata": {},
   "outputs": [
    {
     "name": "stdout",
     "output_type": "stream",
     "text": [
      "2\n"
     ]
    }
   ],
   "source": [
    "a=2\n",
    "print(a)"
   ]
  },
  {
   "cell_type": "code",
   "execution_count": 2,
   "id": "efcd190a-1560-4af1-8a1e-70ecca7aa9b7",
   "metadata": {},
   "outputs": [
    {
     "name": "stdout",
     "output_type": "stream",
     "text": [
      "1\n"
     ]
    }
   ],
   "source": [
    "name =1\n",
    "print(name)"
   ]
  },
  {
   "cell_type": "code",
   "execution_count": 8,
   "id": "33b4a3f3-ace6-47cd-81b4-afc69b169f6c",
   "metadata": {},
   "outputs": [
    {
     "data": {
      "text/plain": [
       "float"
      ]
     },
     "execution_count": 8,
     "metadata": {},
     "output_type": "execute_result"
    }
   ],
   "source": [
    "a=0.5\n",
    "a\n",
    "type(a)"
   ]
  },
  {
   "cell_type": "code",
   "execution_count": 9,
   "id": "9b080199-3dda-4033-b277-f5d57f59cb44",
   "metadata": {},
   "outputs": [
    {
     "data": {
      "text/plain": [
       "(3+4j)"
      ]
     },
     "execution_count": 9,
     "metadata": {},
     "output_type": "execute_result"
    }
   ],
   "source": [
    "complex(3,4)"
   ]
  },
  {
   "cell_type": "code",
   "execution_count": 10,
   "id": "8c77157c-6d60-4824-9163-16237176bcf5",
   "metadata": {},
   "outputs": [
    {
     "data": {
      "text/plain": [
       "bool"
      ]
     },
     "execution_count": 10,
     "metadata": {},
     "output_type": "execute_result"
    }
   ],
   "source": [
    "a=True or False\n",
    "a \n",
    "type(a)"
   ]
  },
  {
   "cell_type": "code",
   "execution_count": 13,
   "id": "9a9ac336-5611-4003-912b-cd2aaa6d0670",
   "metadata": {},
   "outputs": [
    {
     "data": {
      "text/plain": [
       "'Hello'"
      ]
     },
     "execution_count": 13,
     "metadata": {},
     "output_type": "execute_result"
    }
   ],
   "source": [
    "a=(\"Hello\")\n",
    "a"
   ]
  },
  {
   "cell_type": "code",
   "execution_count": 14,
   "id": "e36baf49-fcce-48c8-813d-b4262b9725f1",
   "metadata": {},
   "outputs": [
    {
     "data": {
      "text/plain": [
       "str"
      ]
     },
     "execution_count": 14,
     "metadata": {},
     "output_type": "execute_result"
    }
   ],
   "source": [
    "type(a)"
   ]
  },
  {
   "cell_type": "code",
   "execution_count": 3,
   "id": "1f140432-2591-4ea4-a36a-f28f4fe8bf0d",
   "metadata": {},
   "outputs": [
    {
     "name": "stdout",
     "output_type": "stream",
     "text": [
      "data science\n",
      "science\n"
     ]
    }
   ],
   "source": [
    "x=10\n",
    "\n",
    "if x>0:\n",
    "    print('data science')\n",
    "    print('science')\n"
   ]
  },
  {
   "cell_type": "code",
   "execution_count": 16,
   "id": "3cc52f62-3ff8-4516-854a-2f8e721184bc",
   "metadata": {},
   "outputs": [],
   "source": []
  },
  {
   "cell_type": "code",
   "execution_count": 28,
   "id": "0d4e31d6-869e-4f6c-a25d-8c40ac1797f6",
   "metadata": {},
   "outputs": [
    {
     "name": "stdout",
     "output_type": "stream",
     "text": [
      "enter  your  name\n"
     ]
    }
   ],
   "source": [
    "x=10\n",
    "if x > 0 :\n",
    "    print ('enter  your  name')\n"
   ]
  },
  {
   "cell_type": "code",
   "execution_count": 30,
   "id": "227c0d57-5b7b-49f6-bca4-a601a90d4c99",
   "metadata": {},
   "outputs": [
    {
     "name": "stdout",
     "output_type": "stream",
     "text": [
      "name\n"
     ]
    }
   ],
   "source": [
    "a=1\n",
    "if a > 0:\n",
    "    print('name')"
   ]
  },
  {
   "cell_type": "code",
   "execution_count": 39,
   "id": "220834ee-373d-407f-8813-9b57cf880e22",
   "metadata": {},
   "outputs": [
    {
     "name": "stdout",
     "output_type": "stream",
     "text": [
      "arjun\n"
     ]
    }
   ],
   "source": [
    "a=3\n",
    "if a < 0:\n",
    "    print('age')\n",
    "else :\n",
    "    print(\"arjun\")\n"
   ]
  },
  {
   "cell_type": "code",
   "execution_count": 52,
   "id": "4434ba18-6042-45ad-88c7-a9a652abe606",
   "metadata": {},
   "outputs": [
    {
     "name": "stdout",
     "output_type": "stream",
     "text": [
      "correct\n"
     ]
    }
   ],
   "source": [
    "a,b,c,d=2,2,3,4\n",
    "\n",
    "if (a==b or c==d):\n",
    "    print(\"correct\")\n",
    "else:\n",
    "    print(\"incorrect\")\n",
    "          "
   ]
  },
  {
   "cell_type": "code",
   "execution_count": 51,
   "id": "df8b04f6-6730-4408-8c3d-8f7b39e9cb5b",
   "metadata": {},
   "outputs": [
    {
     "name": "stdout",
     "output_type": "stream",
     "text": [
      "incorrect\n"
     ]
    }
   ],
   "source": [
    "a,b,c,d=2,2,3,4\n",
    "\n",
    "if (a==b and c==d):\n",
    "    print(\"correct\")\n",
    "else:\n",
    "    print(\"incorrect\")\n",
    "          "
   ]
  },
  {
   "cell_type": "code",
   "execution_count": 55,
   "id": "38a755c1-acbc-4c90-9ca0-46d7582226b9",
   "metadata": {},
   "outputs": [
    {
     "name": "stdout",
     "output_type": "stream",
     "text": [
      "correct\n"
     ]
    }
   ],
   "source": [
    "a,b,c,d=1,2,3,1\n",
    "\n",
    "if (c==b or a==d):\n",
    "    print(\"correct\")\n",
    "else:\n",
    "    print(\"incorrect\")\n",
    "          "
   ]
  },
  {
   "cell_type": "code",
   "execution_count": 56,
   "id": "e070d655-416c-4aa8-b2c2-d94c900f273c",
   "metadata": {},
   "outputs": [
    {
     "name": "stdout",
     "output_type": "stream",
     "text": [
      "incorrect\n"
     ]
    }
   ],
   "source": [
    "a,b,c,d=1,2,3,1\n",
    "\n",
    "if (c==b and a==d):\n",
    "    print(\"correct\")\n",
    "else:\n",
    "    print(\"incorrect\")\n",
    "          "
   ]
  },
  {
   "cell_type": "code",
   "execution_count": 63,
   "id": "07055b39-fdab-4bd9-950d-24bc2e920da7",
   "metadata": {},
   "outputs": [
    {
     "name": "stdout",
     "output_type": "stream",
     "text": [
      "positive\n"
     ]
    }
   ],
   "source": [
    "a=10\n",
    "\n",
    "if a>0:\n",
    "    print(\"positive\")\n",
    "elif a == 0:\n",
    "    print('zero')\n",
    "else:\n",
    "    print('negitive')\n"
   ]
  },
  {
   "cell_type": "code",
   "execution_count": 87,
   "id": "3507cf89-7b44-433f-a95c-aa073bf15178",
   "metadata": {},
   "outputs": [
    {
     "name": "stdin",
     "output_type": "stream",
     "text": [
      "enter the marks 78\n"
     ]
    },
    {
     "name": "stdout",
     "output_type": "stream",
     "text": [
      "B grade\n"
     ]
    }
   ],
   "source": [
    "y=int(input('enter the marks'))\n",
    "\n",
    "if y>90:\n",
    "    print('A grade')\n",
    "elif y>70:\n",
    "    print('B grade')\n",
    "else :\n",
    "    print('C grade')\n",
    "    "
   ]
  },
  {
   "cell_type": "code",
   "execution_count": 6,
   "id": "96b4e163-fcde-4fcb-af3d-b610aeed433a",
   "metadata": {},
   "outputs": [
    {
     "name": "stdin",
     "output_type": "stream",
     "text": [
      "enter your age: 23\n"
     ]
    },
    {
     "name": "stdout",
     "output_type": "stream",
     "text": [
      "adult\n"
     ]
    }
   ],
   "source": [
    "age=int(input('enter your age:'))\n",
    "if age <12:\n",
    "    print(\"child\")\n",
    "elif 12<=age <= 18:\n",
    "    print(\"teen\")\n",
    "else:\n",
    "    print(\"adult\")\n",
    "    "
   ]
  },
  {
   "cell_type": "code",
   "execution_count": 4,
   "id": "167e4959-b21c-4005-bf7e-5f5099f68a77",
   "metadata": {},
   "outputs": [
    {
     "name": "stdin",
     "output_type": "stream",
     "text": [
      "enter a pin number: 1234\n"
     ]
    },
    {
     "name": "stdout",
     "output_type": "stream",
     "text": [
      "enter 1for withdrawl\n",
      "enter 2for balance check\n"
     ]
    },
    {
     "name": "stdin",
     "output_type": "stream",
     "text": [
      "please enter a either 1 or 2: 2\n"
     ]
    },
    {
     "name": "stdout",
     "output_type": "stream",
     "text": [
      "your present balance is: 10000\n"
     ]
    }
   ],
   "source": [
    "pin=int(input('enter a atm pin number:'))\n",
    "balance=10000\n",
    "\n",
    "if pin==1234:\n",
    "    print('enter 1for withdrawl')\n",
    "    print('enter 2for balance check')\n",
    "    a=int(input('please enter a either 1 or 2:'))\n",
    "    if a==1:\n",
    "        withdrawl=int(input('enter the amount to withdraw'))\n",
    "        if withdrawl<balance:\n",
    "            print('transaction sucessful')\n",
    "        else:\n",
    "            print('insuficent balance')\n",
    "    elif a==2:\n",
    "        print('your present balance is:',balance)\n",
    "    else:\n",
    "        print('invalid entry')\n",
    "else:\n",
    "    print('invalid pin')\n",
    "        \n",
    "    "
   ]
  },
  {
   "cell_type": "code",
   "execution_count": 16,
   "id": "d668af49-ad87-41cd-ad33-52a59e82f10b",
   "metadata": {},
   "outputs": [
    {
     "name": "stdin",
     "output_type": "stream",
     "text": [
      "enter the atm  pin number: 1235\n"
     ]
    },
    {
     "name": "stdout",
     "output_type": "stream",
     "text": [
      "enter 1 for withdrawl\n",
      "enter 2 for balance check\n"
     ]
    },
    {
     "name": "stdin",
     "output_type": "stream",
     "text": [
      "please enter either 1 or 2: 1\n",
      "enter the amount to withdraw 59999\n"
     ]
    },
    {
     "name": "stdout",
     "output_type": "stream",
     "text": [
      "transaction sucessful\n"
     ]
    }
   ],
   "source": [
    "pin=int(input('enter the atm  pin number:'))\n",
    "balance=100000\n",
    "\n",
    "if pin==1235:\n",
    "    print('enter 1 for withdrawl')\n",
    "    print('enter 2 for balance check')\n",
    "    a=int(input('please enter either 1 or 2:'))\n",
    "    if a==1:\n",
    "        withdrawl= int(input('enter the amount to withdraw'))\n",
    "        if withdrawl<balance:\n",
    "            print('transaction sucessful')\n",
    "        else:\n",
    "            print ('insuficent balance')\n",
    "    elif a==2:\n",
    "        print(\"your present balance is:\",balance)\n",
    "    else:\n",
    "        print('invalid entry')\n",
    "else:\n",
    "    print('invalid pin')"
   ]
  },
  {
   "cell_type": "code",
   "execution_count": null,
   "id": "220d6b79-13ea-46b9-a9d9-0a2e45795619",
   "metadata": {},
   "outputs": [],
   "source": []
  }
 ],
 "metadata": {
  "kernelspec": {
   "display_name": "Python 3 (ipykernel)",
   "language": "python",
   "name": "python3"
  },
  "language_info": {
   "codemirror_mode": {
    "name": "ipython",
    "version": 3
   },
   "file_extension": ".py",
   "mimetype": "text/x-python",
   "name": "python",
   "nbconvert_exporter": "python",
   "pygments_lexer": "ipython3",
   "version": "3.12.4"
  }
 },
 "nbformat": 4,
 "nbformat_minor": 5
}
