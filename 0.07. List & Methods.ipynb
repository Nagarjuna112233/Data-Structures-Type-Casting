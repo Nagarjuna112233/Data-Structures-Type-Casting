{
 "cells": [
  {
   "cell_type": "code",
   "execution_count": 1,
   "id": "2137fdad-91dd-43fe-8615-c1d19899ffee",
   "metadata": {},
   "outputs": [],
   "source": [
    "#LIST "
   ]
  },
  {
   "cell_type": "code",
   "execution_count": 28,
   "id": "3fd3f1d3-fb7b-45a3-b45c-6ee283999443",
   "metadata": {},
   "outputs": [
    {
     "name": "stdout",
     "output_type": "stream",
     "text": [
      "[1, 2, 3, 4, 5]\n"
     ]
    }
   ],
   "source": [
    "l=[1,2,3,4]                             #append, adding a single value or index \n",
    "l.append(5)\n",
    "print(l)"
   ]
  },
  {
   "cell_type": "code",
   "execution_count": 12,
   "id": "fc9270e7-80e7-498a-8486-186b74705806",
   "metadata": {},
   "outputs": [
    {
     "name": "stdout",
     "output_type": "stream",
     "text": [
      "[1, 2, 3, 5, [45, 54], [4, 5]]\n"
     ]
    }
   ],
   "source": [
    "l=[1,2,3,5,[45,54]]\n",
    "l.append([4,5])\n",
    "print(l)"
   ]
  },
  {
   "cell_type": "code",
   "execution_count": 3,
   "id": "5dd0cb82-9db7-4965-85e5-4d88cdea4108",
   "metadata": {},
   "outputs": [
    {
     "name": "stdout",
     "output_type": "stream",
     "text": [
      "[1, 1.02, True, 'naga', 'arjun']\n"
     ]
    }
   ],
   "source": [
    "l1=[1,1.02,True,'naga']\n",
    "l1.append('arjun')\n",
    "print(l1)"
   ]
  },
  {
   "cell_type": "code",
   "execution_count": 4,
   "id": "1dcff687-3c2e-40b1-87ad-b8b52cce6345",
   "metadata": {},
   "outputs": [
    {
     "name": "stdout",
     "output_type": "stream",
     "text": [
      "[True, 2, 5.0, 'ajay', 'krish']\n"
     ]
    }
   ],
   "source": [
    "l2=[True,2,5.0,\"ajay\"]\n",
    "l2.append('krish')\n",
    "print(l2)"
   ]
  },
  {
   "cell_type": "code",
   "execution_count": 5,
   "id": "09988900-b9f8-4ce4-b651-b939409e8042",
   "metadata": {},
   "outputs": [
    {
     "name": "stdout",
     "output_type": "stream",
     "text": [
      "[1, 2, 1, 2, [4, 5]]\n"
     ]
    }
   ],
   "source": [
    "a=[1,2,1,2,]\n",
    "a.append([4,5])\n",
    "print(a)"
   ]
  },
  {
   "cell_type": "code",
   "execution_count": 6,
   "id": "5cd58fae-4d40-4b0d-8a2f-1a5fb37392c7",
   "metadata": {},
   "outputs": [
    {
     "name": "stdout",
     "output_type": "stream",
     "text": [
      "['naga', 25, 20.5, True, [5, 'naga']]\n"
     ]
    }
   ],
   "source": [
    "l=[\"naga\",25,20.5,True,]\n",
    "l.append([5,\"naga\"])\n",
    "print(l)"
   ]
  },
  {
   "cell_type": "code",
   "execution_count": 7,
   "id": "f77d18ce-67e1-4153-b264-aea8eeab2a86",
   "metadata": {},
   "outputs": [
    {
     "name": "stdout",
     "output_type": "stream",
     "text": [
      "['naga', 25, 20.5, True, ['naga', 'ajay', 'surya']]\n"
     ]
    }
   ],
   "source": [
    "l=[\"naga\",25,20.5,True,]\n",
    "l.append([\"naga\",\"ajay\",\"surya\"])\n",
    "print(l)"
   ]
  },
  {
   "cell_type": "code",
   "execution_count": 8,
   "id": "9fdccd6d-81c0-40b0-b608-9193d51348ee",
   "metadata": {},
   "outputs": [
    {
     "name": "stdout",
     "output_type": "stream",
     "text": [
      "[10, 20, 30, 50, 80, 70, 90, 100, 50, 85, 202, 205]\n"
     ]
    }
   ],
   "source": [
    "l1=[10,20,30,50,80,70,90,100]                      #Extend , to adding a multiple value or index\n",
    "l1.extend([50,85,202,205])\n",
    "print(l1)"
   ]
  },
  {
   "cell_type": "code",
   "execution_count": 9,
   "id": "5f36e916-c7ae-4396-80b0-af9820fd0cfa",
   "metadata": {},
   "outputs": [
    {
     "name": "stdout",
     "output_type": "stream",
     "text": [
      "[20, 5, 50, 51, 25, 85, 74, 'true', 25, 85, 225, 54]\n"
     ]
    }
   ],
   "source": [
    "l2=[20,5,50,51,25,85,74]\n",
    "l2.extend([\"true\",25,85,225,54,])\n",
    "print(l2)"
   ]
  },
  {
   "cell_type": "code",
   "execution_count": 10,
   "id": "52f8e65b-a892-4a9b-bfb7-3c4eccdd9eea",
   "metadata": {},
   "outputs": [
    {
     "name": "stdout",
     "output_type": "stream",
     "text": [
      "[20, 5, 50, 51, 25, 85, 74, 'TRUE', 25, 85, 225, 54]\n"
     ]
    }
   ],
   "source": [
    "l2=[20,5,50,51,25,85,74]\n",
    "l2.extend([\"TRUE\",25,85,225,54,])\n",
    "print(l2)"
   ]
  },
  {
   "cell_type": "code",
   "execution_count": 11,
   "id": "7648b89e-3674-4826-aee8-a014dd57cb9f",
   "metadata": {},
   "outputs": [
    {
     "name": "stdout",
     "output_type": "stream",
     "text": [
      "[58, 20, 5, 50, 51, 25, 85, 74]\n"
     ]
    }
   ],
   "source": [
    "l2=[20,5,50,51,25,85,74]                         #Insert adding a which u want index num\n",
    "l2.insert(0,58)\n",
    "print(l2)"
   ]
  },
  {
   "cell_type": "code",
   "execution_count": 12,
   "id": "0ff5ffe7-ee61-48bc-ab3d-6d675b2bb9e1",
   "metadata": {},
   "outputs": [
    {
     "name": "stdout",
     "output_type": "stream",
     "text": [
      "[20, 5, 50, 51, 25, 58, 85, 74]\n"
     ]
    }
   ],
   "source": [
    "l2=[20,5,50,51,25,85,74]\n",
    "l2.insert(5,58)\n",
    "print(l2)"
   ]
  },
  {
   "cell_type": "code",
   "execution_count": 13,
   "id": "80fbb865-8ed0-434f-8f09-deb5adecfe06",
   "metadata": {},
   "outputs": [
    {
     "name": "stdout",
     "output_type": "stream",
     "text": [
      "[20, 5, 50, 51, 25, 'us', 85, 74]\n"
     ]
    }
   ],
   "source": [
    "l2=[20,5,50,51,25,85,74]\n",
    "l2.insert(5,'us')\n",
    "print(l2)"
   ]
  },
  {
   "cell_type": "code",
   "execution_count": 14,
   "id": "a4d14be3-3990-4ed0-8b7b-b2ea2100b1eb",
   "metadata": {},
   "outputs": [
    {
     "name": "stdout",
     "output_type": "stream",
     "text": [
      "[1, 1.02, True, 'naga', 'rg']\n"
     ]
    }
   ],
   "source": [
    "l1=[1,1.02,True,'naga']\n",
    "l1.insert(4,\"rg\")\n",
    "print(l1)"
   ]
  },
  {
   "cell_type": "code",
   "execution_count": 15,
   "id": "7f9d0b54-0916-4864-a063-3e63f5f71597",
   "metadata": {},
   "outputs": [
    {
     "name": "stdout",
     "output_type": "stream",
     "text": [
      "['true', 'dh', 5, 5, 85, 'ajay', 14]\n"
     ]
    }
   ],
   "source": [
    "l2=[\"true\",\"dh\",5,5,85,14]\n",
    "l2.insert(5,\"ajay\")\n",
    "print(l2)"
   ]
  },
  {
   "cell_type": "code",
   "execution_count": 16,
   "id": "5215121f-66f6-4608-9a98-d81ac43ec213",
   "metadata": {},
   "outputs": [
    {
     "name": "stdout",
     "output_type": "stream",
     "text": [
      "[20, 5, 51, 25, 85, 74]\n"
     ]
    }
   ],
   "source": [
    "l=[20,5,50,51,25,85,74]                           #Remove a value\n",
    "l.remove(50)\n",
    "print(l)"
   ]
  },
  {
   "cell_type": "code",
   "execution_count": 17,
   "id": "b796382c-b629-4890-b1c2-4bb7005a6e98",
   "metadata": {},
   "outputs": [
    {
     "name": "stdout",
     "output_type": "stream",
     "text": [
      "[20, 52, 5, 2, 85, 8, 5, 8, 5]\n"
     ]
    }
   ],
   "source": [
    "l5=[20,52,5,2,8,85,8,5,8,5]\n",
    "l5.remove(8)\n",
    "print(l5)"
   ]
  },
  {
   "cell_type": "code",
   "execution_count": 18,
   "id": "6c5d3c77-7a2d-4fd3-b082-ad1ae88ad390",
   "metadata": {},
   "outputs": [
    {
     "name": "stdout",
     "output_type": "stream",
     "text": [
      "['true', 5, 5, 85, 14]\n"
     ]
    }
   ],
   "source": [
    "l2=[\"true\",\"ajay\",5,5,85,14]\n",
    "l2.remove(\"ajay\")\n",
    "print(l2)"
   ]
  },
  {
   "cell_type": "code",
   "execution_count": 19,
   "id": "c5e6e32b-a7e7-4c52-bb3b-1b84aad6bfa6",
   "metadata": {},
   "outputs": [
    {
     "name": "stdout",
     "output_type": "stream",
     "text": [
      "[25, 20.5, True]\n"
     ]
    }
   ],
   "source": [
    "l=[\"naga\",25,20.5,True,]\n",
    "l.remove(\"naga\")\n",
    "print(l)"
   ]
  },
  {
   "cell_type": "code",
   "execution_count": 20,
   "id": "45743bbe-be12-40d7-86d5-b3921856f126",
   "metadata": {},
   "outputs": [
    {
     "name": "stdout",
     "output_type": "stream",
     "text": [
      "['naga', 'surya', 52]\n"
     ]
    }
   ],
   "source": [
    "l=[\"naga\",\"ajay\",\"surya\",52]                       #Pop, removing a index num\n",
    "l.pop(1)\n",
    "print(l)"
   ]
  },
  {
   "cell_type": "code",
   "execution_count": 21,
   "id": "1645f1bd-a3c6-4d71-84f8-5e2ad0627949",
   "metadata": {},
   "outputs": [
    {
     "name": "stdout",
     "output_type": "stream",
     "text": [
      "['naga', 'ajay', 'surya']\n"
     ]
    }
   ],
   "source": [
    "l=[\"naga\",\"ajay\",\"surya\",52]\n",
    "l.pop(3)\n",
    "print(l)"
   ]
  },
  {
   "cell_type": "code",
   "execution_count": 22,
   "id": "942d638d-b608-4e1d-b127-6664de5b291e",
   "metadata": {},
   "outputs": [
    {
     "name": "stdout",
     "output_type": "stream",
     "text": [
      "['naga', 25, 20.5]\n"
     ]
    }
   ],
   "source": [
    "l=[\"naga\",25,20.5,True,]\n",
    "l.pop(3)\n",
    "print(l)"
   ]
  },
  {
   "cell_type": "code",
   "execution_count": 23,
   "id": "344c4382-7d7b-4839-9545-e499c082c43e",
   "metadata": {},
   "outputs": [
    {
     "name": "stdout",
     "output_type": "stream",
     "text": [
      "[10, 20, 5, 20, 50, 80, 78]\n"
     ]
    }
   ],
   "source": [
    "a=[10,20,20,5,20,50,80,78]\n",
    "a.pop(2)\n",
    "print(a)"
   ]
  },
  {
   "cell_type": "code",
   "execution_count": 24,
   "id": "3b023e86-738d-4627-b97f-0b89f573f420",
   "metadata": {},
   "outputs": [
    {
     "name": "stdout",
     "output_type": "stream",
     "text": [
      "['dh', 5, 5, 85, 14]\n"
     ]
    }
   ],
   "source": [
    "l2=[\"true\",\"dh\",5,5,85,14]\n",
    "l2.pop(0)\n",
    "print(l2)"
   ]
  },
  {
   "cell_type": "code",
   "execution_count": 25,
   "id": "50e7bdeb-b432-452d-b546-dc72d07df7ae",
   "metadata": {},
   "outputs": [
    {
     "name": "stdout",
     "output_type": "stream",
     "text": [
      "[20, 30, 50, 70, 10]\n"
     ]
    }
   ],
   "source": [
    "l=[20,30,50,80,70,10]\n",
    "l.pop(3)\n",
    "print(l)"
   ]
  },
  {
   "cell_type": "code",
   "execution_count": 26,
   "id": "cc0fc316-4ee6-4c06-bf78-61804571fcbc",
   "metadata": {},
   "outputs": [
    {
     "name": "stdout",
     "output_type": "stream",
     "text": [
      "[]\n"
     ]
    }
   ],
   "source": [
    "a=[10,41,41,5,14,85,]                           #Clear\n",
    "a.clear()\n",
    "print(a)"
   ]
  },
  {
   "cell_type": "code",
   "execution_count": 27,
   "id": "518501a4-9bf1-46bb-9c39-7260b0c40a97",
   "metadata": {},
   "outputs": [
    {
     "name": "stdout",
     "output_type": "stream",
     "text": [
      "[]\n"
     ]
    }
   ],
   "source": [
    "a2=[20,520,25,10,14]\n",
    "a2.clear()\n",
    "print(a2)"
   ]
  },
  {
   "cell_type": "code",
   "execution_count": 94,
   "id": "ec5b22d3-7e7b-4590-8679-f7a2824401dd",
   "metadata": {},
   "outputs": [
    {
     "name": "stdout",
     "output_type": "stream",
     "text": [
      "[]\n"
     ]
    }
   ],
   "source": [
    "a=[1,2,3,4,5,6,7]\n",
    "a.clear()\n",
    "print(a)"
   ]
  },
  {
   "cell_type": "code",
   "execution_count": 7,
   "id": "44ea4781-f71f-452d-bf41-b0e5a737b15e",
   "metadata": {},
   "outputs": [
    {
     "data": {
      "text/plain": [
       "1"
      ]
     },
     "execution_count": 7,
     "metadata": {},
     "output_type": "execute_result"
    }
   ],
   "source": [
    "l=[1,2,3,5,8,9,7,5,2,]                            #Count, it can count the duplicate values\n",
    "l.count(1)"
   ]
  },
  {
   "cell_type": "code",
   "execution_count": 8,
   "id": "6576293e-8268-4d24-be82-6f1bd404b45a",
   "metadata": {},
   "outputs": [
    {
     "data": {
      "text/plain": [
       "1"
      ]
     },
     "execution_count": 8,
     "metadata": {},
     "output_type": "execute_result"
    }
   ],
   "source": [
    "l=[1,2,3,1,1,0]\n",
    "l.count(0)"
   ]
  },
  {
   "cell_type": "code",
   "execution_count": 9,
   "id": "288e35d0-bb75-4e83-ac3f-e4ccc2eb8901",
   "metadata": {},
   "outputs": [
    {
     "data": {
      "text/plain": [
       "2"
      ]
     },
     "execution_count": 9,
     "metadata": {},
     "output_type": "execute_result"
    }
   ],
   "source": [
    "l=[1,2,4,5,1]\n",
    "l.count(1)"
   ]
  },
  {
   "cell_type": "code",
   "execution_count": 26,
   "id": "c7bf0607-eeb9-4fc2-90b8-6419a7c78194",
   "metadata": {},
   "outputs": [
    {
     "name": "stdout",
     "output_type": "stream",
     "text": [
      "[1, 2, 3, 4, 5]\n"
     ]
    }
   ],
   "source": [
    "a=[1,2,3,4,5]\n",
    "a.count(5)\n",
    "print(a)"
   ]
  },
  {
   "cell_type": "code",
   "execution_count": 27,
   "id": "28d2b1f7-9c6b-4030-aaaa-e63ec08ac81d",
   "metadata": {},
   "outputs": [
    {
     "data": {
      "text/plain": [
       "3"
      ]
     },
     "execution_count": 27,
     "metadata": {},
     "output_type": "execute_result"
    }
   ],
   "source": [
    "l=[1,2,3,1,1,0,3,4,2,5]\n",
    "l.count(1)"
   ]
  },
  {
   "cell_type": "code",
   "execution_count": 29,
   "id": "5e46fde6-334a-4b31-aaa4-458dd19b9e24",
   "metadata": {},
   "outputs": [
    {
     "data": {
      "text/plain": [
       "[25, 74, [14, 54, 17], 45, 12, 32, 21, 2]"
      ]
     },
     "execution_count": 29,
     "metadata": {},
     "output_type": "execute_result"
    }
   ],
   "source": [
    "l=[2,21,32,12,45,[14,54,17],74,25]\n",
    "l.reverse()\n",
    "l"
   ]
  },
  {
   "cell_type": "code",
   "execution_count": 31,
   "id": "1dabee54-4041-4bbc-afe3-7c8e2e4bf7a7",
   "metadata": {},
   "outputs": [
    {
     "data": {
      "text/plain": [
       "[54, 95, 81, [5, 20], 47, 50, 4, 20, 10]"
      ]
     },
     "execution_count": 31,
     "metadata": {},
     "output_type": "execute_result"
    }
   ],
   "source": [
    "a=[10,20,4,50,47,[5,20],81,95,54]\n",
    "a.reverse()\n",
    "a"
   ]
  },
  {
   "cell_type": "code",
   "execution_count": 32,
   "id": "d82a91a3-c459-4bab-84a8-dcaeb5cb669b",
   "metadata": {},
   "outputs": [
    {
     "data": {
      "text/plain": [
       "[25, [14, 24, 14], 51, 11, 71, 18, 15, 14, 1]"
      ]
     },
     "execution_count": 32,
     "metadata": {},
     "output_type": "execute_result"
    }
   ],
   "source": [
    "b=[1,14,15,18,71,11,51,[14,24,14],25]\n",
    "b.reverse()\n",
    "b"
   ]
  },
  {
   "cell_type": "code",
   "execution_count": 34,
   "id": "604a7307-40d2-45b5-a7ab-371aa1234eb9",
   "metadata": {},
   "outputs": [
    {
     "data": {
      "text/plain": [
       "[12, [14, 18], 25, 11, 'naga', 'surya', 'ajay', 'true']"
      ]
     },
     "execution_count": 34,
     "metadata": {},
     "output_type": "execute_result"
    }
   ],
   "source": [
    "c=['true','ajay','surya','naga',11,25,[14,18],12]\n",
    "c.reverse()\n",
    "c"
   ]
  },
  {
   "cell_type": "code",
   "execution_count": 41,
   "id": "33a47407-f44a-4145-9d9e-86a769d1f4ba",
   "metadata": {},
   "outputs": [
    {
     "data": {
      "text/plain": [
       "0"
      ]
     },
     "execution_count": 41,
     "metadata": {},
     "output_type": "execute_result"
    }
   ],
   "source": [
    "c=['true','ajay','surya','naga',11,25,[14,18],12]\n",
    "c.count(0)"
   ]
  },
  {
   "cell_type": "code",
   "execution_count": 70,
   "id": "64fe1c9a-3221-4674-b936-f0b3d42d5760",
   "metadata": {},
   "outputs": [
    {
     "data": {
      "text/plain": [
       "['naga', 'surya', 'ajay']"
      ]
     },
     "execution_count": 70,
     "metadata": {},
     "output_type": "execute_result"
    }
   ],
   "source": [
    "a=[\"ajay\",\"surya\",\"naga\"]                     #Reverse, it reversea value or word\n",
    "a.reverse()\n",
    "a"
   ]
  },
  {
   "cell_type": "code",
   "execution_count": 72,
   "id": "969d3f37-b9b6-4051-8d6c-75f7284e2b0b",
   "metadata": {},
   "outputs": [
    {
     "data": {
      "text/plain": [
       "[52, 'surya', 'ajay', 'naga']"
      ]
     },
     "execution_count": 72,
     "metadata": {},
     "output_type": "execute_result"
    }
   ],
   "source": [
    "l=[\"naga\",\"ajay\",\"surya\",52]\n",
    "l.reverse()\n",
    "l"
   ]
  },
  {
   "cell_type": "code",
   "execution_count": 73,
   "id": "940544d4-6a7b-4386-a8d4-fc0ea5c1cd1e",
   "metadata": {},
   "outputs": [
    {
     "data": {
      "text/plain": [
       "[5, 8, 5, 8, 85, 8, 2, 5, 52, 20]"
      ]
     },
     "execution_count": 73,
     "metadata": {},
     "output_type": "execute_result"
    }
   ],
   "source": [
    "l5=[20,52,5,2,8,85,8,5,8,5]\n",
    "l5.reverse()\n",
    "l5"
   ]
  },
  {
   "cell_type": "code",
   "execution_count": 74,
   "id": "df204732-2be2-454a-94d3-24747dffd875",
   "metadata": {},
   "outputs": [
    {
     "data": {
      "text/plain": [
       "[54, 225, 85, 25, 'TRUE']"
      ]
     },
     "execution_count": 74,
     "metadata": {},
     "output_type": "execute_result"
    }
   ],
   "source": [
    "a=[\"TRUE\",25,85,225,54,]\n",
    "a.reverse()\n",
    "a"
   ]
  },
  {
   "cell_type": "code",
   "execution_count": 76,
   "id": "5fa70af6-c7bd-4ebe-978a-9d9b8223486e",
   "metadata": {},
   "outputs": [
    {
     "data": {
      "text/plain": [
       "[2, 3, 10, 20, 50, 74, 85]"
      ]
     },
     "execution_count": 76,
     "metadata": {},
     "output_type": "execute_result"
    }
   ],
   "source": [
    "a=[20,50,10,74,3,2,85]                    #Sort , assending order, it is a method\n",
    "a.sort()\n",
    "a"
   ]
  },
  {
   "cell_type": "code",
   "execution_count": 78,
   "id": "d0b15378-ff91-45fb-bca6-8a05c58e0a0d",
   "metadata": {},
   "outputs": [
    {
     "data": {
      "text/plain": [
       "[1.0, 2, 2.5, 3, 20, 50, 52.8, 74, 85]"
      ]
     },
     "execution_count": 78,
     "metadata": {},
     "output_type": "execute_result"
    }
   ],
   "source": [
    "b=[20,50,1.0,74,3,2,85,2.5,52.8]\n",
    "b.sort()\n",
    "b"
   ]
  },
  {
   "cell_type": "code",
   "execution_count": 84,
   "id": "526dd27f-5c02-4c88-b99b-a97f0573b7f3",
   "metadata": {},
   "outputs": [
    {
     "data": {
      "text/plain": [
       "[2, 2.0, 5, 5, 5.2, 8, 8, 8, 20, 20, 52, 85]"
      ]
     },
     "execution_count": 84,
     "metadata": {},
     "output_type": "execute_result"
    }
   ],
   "source": [
    "l5=[20,52,5,2,8,85,8,5,8,5.2,2.0,20]\n",
    "l5.sort()\n",
    "l5"
   ]
  },
  {
   "cell_type": "code",
   "execution_count": 87,
   "id": "d2ca2905-00ca-4979-8904-d0b9412be319",
   "metadata": {},
   "outputs": [
    {
     "data": {
      "text/plain": [
       "[1, 1.0, 2, 2.0, 5, 5, 5.2, 8, 8, 8, 20, 20, 52, 85]"
      ]
     },
     "execution_count": 87,
     "metadata": {},
     "output_type": "execute_result"
    }
   ],
   "source": [
    "l5=[20,52,5,2,8,85,8,5,8,5.2,2.0,20,1,1.0]\n",
    "l5.sort()\n",
    "l5"
   ]
  },
  {
   "cell_type": "code",
   "execution_count": 93,
   "id": "27e86ff4-8df0-4f9e-8399-f0a559766cf7",
   "metadata": {},
   "outputs": [
    {
     "data": {
      "text/plain": [
       "[1, 2, 7, 12, 14, 15, 58, 151, 444]"
      ]
     },
     "execution_count": 93,
     "metadata": {},
     "output_type": "execute_result"
    }
   ],
   "source": [
    "l=[12,151,7,58,1,2,14,15,444]                      #sorted, assending the order,it is a function \n",
    "sorted(l)"
   ]
  },
  {
   "cell_type": "code",
   "execution_count": 96,
   "id": "43898d58-92d5-4b33-a3ca-db45cf37266e",
   "metadata": {},
   "outputs": [
    {
     "data": {
      "text/plain": [
       "[4, 5, 10, 20, 20, 47, 50, 54, 81, 95]"
      ]
     },
     "execution_count": 96,
     "metadata": {},
     "output_type": "execute_result"
    }
   ],
   "source": [
    "a=[10,20,4,50,47,5,20,81,95,54]\n",
    "sorted(a)"
   ]
  },
  {
   "cell_type": "code",
   "execution_count": 97,
   "id": "a8147efc-ab20-4048-ae3b-5c6c70a76710",
   "metadata": {},
   "outputs": [
    {
     "data": {
      "text/plain": [
       "[0, 1, 1, 1, 2, 2, 3, 3, 4, 5]"
      ]
     },
     "execution_count": 97,
     "metadata": {},
     "output_type": "execute_result"
    }
   ],
   "source": [
    "l=[1,2,3,1,1,0,3,4,2,5]\n",
    "sorted(l)"
   ]
  },
  {
   "cell_type": "code",
   "execution_count": 6,
   "id": "a5ec9639-5bf8-4f18-8bbd-06d693616d2e",
   "metadata": {},
   "outputs": [
    {
     "data": {
      "text/plain": [
       "[1, 2, 3, 4]"
      ]
     },
     "execution_count": 6,
     "metadata": {},
     "output_type": "execute_result"
    }
   ],
   "source": [
    "l=[1,2,3,4]                                                 #copy  add the same value\n",
    "l.copy()"
   ]
  },
  {
   "cell_type": "code",
   "execution_count": 13,
   "id": "4ca2de9c-a920-436b-828e-7b186acd86bc",
   "metadata": {},
   "outputs": [
    {
     "data": {
      "text/plain": [
       "[1, 2, 4, 5, 8]"
      ]
     },
     "execution_count": 13,
     "metadata": {},
     "output_type": "execute_result"
    }
   ],
   "source": [
    "a=[1,2,4,5,8]\n",
    "a.copy()"
   ]
  },
  {
   "cell_type": "code",
   "execution_count": 15,
   "id": "d4e11994-3d91-4c87-9158-0eed7b58e375",
   "metadata": {},
   "outputs": [
    {
     "data": {
      "text/plain": [
       "[25, 54, 54, 58, 7, 12, 1]"
      ]
     },
     "execution_count": 15,
     "metadata": {},
     "output_type": "execute_result"
    }
   ],
   "source": [
    "b=[25,54,54,58,7,12,1]\n",
    "b.copy()"
   ]
  }
 ],
 "metadata": {
  "kernelspec": {
   "display_name": "Python 3 (ipykernel)",
   "language": "python",
   "name": "python3"
  },
  "language_info": {
   "codemirror_mode": {
    "name": "ipython",
    "version": 3
   },
   "file_extension": ".py",
   "mimetype": "text/x-python",
   "name": "python",
   "nbconvert_exporter": "python",
   "pygments_lexer": "ipython3",
   "version": "3.12.4"
  }
 },
 "nbformat": 4,
 "nbformat_minor": 5
}
