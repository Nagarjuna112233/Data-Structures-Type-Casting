{
 "cells": [
  {
   "cell_type": "code",
   "execution_count": 7,
   "id": "d1607172-19d2-4b7d-9134-a42c7a78a1dd",
   "metadata": {},
   "outputs": [
    {
     "name": "stdin",
     "output_type": "stream",
     "text": [
      "enter your name: naga\n",
      "enter your age: 21\n"
     ]
    },
    {
     "name": "stdout",
     "output_type": "stream",
     "text": [
      "my name is: naga and my age is: 21\n"
     ]
    }
   ],
   "source": [
    "a= input(\"enter your name:\")\n",
    "b=input(\"enter your age:\")\n",
    "print(\"my name is:\",a,\"and my age is:\",b )"
   ]
  },
  {
   "cell_type": "code",
   "execution_count": 15,
   "id": "807f7184-60d0-4838-8c3a-d1a2be48895a",
   "metadata": {},
   "outputs": [
    {
     "name": "stdout",
     "output_type": "stream",
     "text": [
      "{'naga', 'surya', 'krishna', 'vivek', 'ajay'}\n"
     ]
    }
   ],
   "source": [
    "a={\"naga\",\"surya\",\"ajay\"}                        #update,adding a multiple value in the set.\n",
    "a.update([\"krishna\",\"vivek\"])\n",
    "print(a)"
   ]
  },
  {
   "cell_type": "code",
   "execution_count": 6,
   "id": "92565f12-c03a-4b41-a8fb-51bf6c85c62c",
   "metadata": {},
   "outputs": [
    {
     "name": "stdout",
     "output_type": "stream",
     "text": [
      "{'Arjun', 'Vivek'}\n"
     ]
    }
   ],
   "source": [
    "a={\"Arjun\"}                        #update,adding a multiple value in the set.\n",
    "a.update([\"Vivek\"])\n",
    "print(a)"
   ]
  },
  {
   "cell_type": "code",
   "execution_count": 20,
   "id": "3c9499aa-c917-41f0-814b-714565a7ad7a",
   "metadata": {},
   "outputs": [
    {
     "name": "stdout",
     "output_type": "stream",
     "text": [
      "{55, 58, 75, 12, 78, 47}\n"
     ]
    }
   ],
   "source": [
    "a={12,58,47,89,75,78,55}                           #Remove,removing only one value.\n",
    "a.remove(89)\n",
    "print(a)"
   ]
  },
  {
   "cell_type": "code",
   "execution_count": 25,
   "id": "47fb2a2e-5a56-43b2-8449-e003757e23bd",
   "metadata": {},
   "outputs": [
    {
     "name": "stdout",
     "output_type": "stream",
     "text": [
      "set()\n"
     ]
    }
   ],
   "source": [
    "a={12,58,47,89,75,78,55}                         #Clear,it can remove all value in the set.\n",
    "a.clear()\n",
    "print(a)"
   ]
  },
  {
   "cell_type": "code",
   "execution_count": 26,
   "id": "65fae6b5-1985-4560-93e3-0350a5533159",
   "metadata": {},
   "outputs": [
    {
     "ename": "NameError",
     "evalue": "name 'a' is not defined",
     "output_type": "error",
     "traceback": [
      "\u001b[1;31m---------------------------------------------------------------------------\u001b[0m",
      "\u001b[1;31mNameError\u001b[0m                                 Traceback (most recent call last)",
      "Cell \u001b[1;32mIn[26], line 3\u001b[0m\n\u001b[0;32m      1\u001b[0m a\u001b[38;5;241m=\u001b[39m{\u001b[38;5;241m12\u001b[39m,\u001b[38;5;241m58\u001b[39m,\u001b[38;5;241m47\u001b[39m,\u001b[38;5;241m89\u001b[39m,\u001b[38;5;241m75\u001b[39m,\u001b[38;5;241m78\u001b[39m,\u001b[38;5;241m55\u001b[39m}\n\u001b[0;32m      2\u001b[0m \u001b[38;5;28;01mdel\u001b[39;00m a\n\u001b[1;32m----> 3\u001b[0m \u001b[38;5;28mprint\u001b[39m(a)\n",
      "\u001b[1;31mNameError\u001b[0m: name 'a' is not defined"
     ]
    }
   ],
   "source": [
    "a={12,58,47,89,75,78,55}\n",
    "del a\n",
    "print(a)"
   ]
  },
  {
   "cell_type": "code",
   "execution_count": 28,
   "id": "8f78f238-297a-4bbc-b381-0910c5f4238b",
   "metadata": {},
   "outputs": [
    {
     "name": "stdout",
     "output_type": "stream",
     "text": [
      "{1, 2, 3}\n",
      "{1, 2, 3, 4}\n"
     ]
    }
   ],
   "source": [
    "a={1,2,3}                                           #Add, adding only one value in the set.\n",
    "b={1,2,3}\n",
    "b.add(4)\n",
    "print(a)\n",
    "print(b)"
   ]
  },
  {
   "cell_type": "code",
   "execution_count": 29,
   "id": "bf78d6f8-debc-4990-957c-217a97a9793f",
   "metadata": {},
   "outputs": [
    {
     "data": {
      "text/plain": [
       "{1, 2, 3, 4, 5}"
      ]
     },
     "execution_count": 29,
     "metadata": {},
     "output_type": "execute_result"
    }
   ],
   "source": [
    "a={1,2,3}                                            #Union, Don't repeat the duplicate values.\n",
    "b={1,2,3,4,5}\n",
    "a.union(b)"
   ]
  },
  {
   "cell_type": "code",
   "execution_count": 30,
   "id": "e2385607-1958-415a-9204-7164091e5e11",
   "metadata": {},
   "outputs": [
    {
     "data": {
      "text/plain": [
       "{1, 2, 3, 4, 5}"
      ]
     },
     "execution_count": 30,
     "metadata": {},
     "output_type": "execute_result"
    }
   ],
   "source": [
    "a={1,2,3}\n",
    "b={1,2,3,4,5}\n",
    "b.union(a)"
   ]
  },
  {
   "cell_type": "code",
   "execution_count": 32,
   "id": "e9a887b5-b09a-4f4f-93e0-a07fa3533ca7",
   "metadata": {},
   "outputs": [
    {
     "data": {
      "text/plain": [
       "{1, 2, 3}"
      ]
     },
     "execution_count": 32,
     "metadata": {},
     "output_type": "execute_result"
    }
   ],
   "source": [
    "a={1,2,3}                                           #intersection, Comman values can getting output\n",
    "b={1,2,3,4,5}\n",
    "a.intersection(b)"
   ]
  },
  {
   "cell_type": "code",
   "execution_count": 26,
   "id": "ffd6611f-8a85-45b4-9d61-4325a8b1a77f",
   "metadata": {},
   "outputs": [
    {
     "data": {
      "text/plain": [
       "{3}"
      ]
     },
     "execution_count": 26,
     "metadata": {},
     "output_type": "execute_result"
    }
   ],
   "source": [
    "a1={1,2,3}\n",
    "b1={3,4,5,6}\n",
    "a1.intersection(b1)"
   ]
  },
  {
   "cell_type": "code",
   "execution_count": 27,
   "id": "403f03e4-5b8d-4a84-9c7d-9a1b0fc72579",
   "metadata": {},
   "outputs": [
    {
     "data": {
      "text/plain": [
       "{3}"
      ]
     },
     "execution_count": 27,
     "metadata": {},
     "output_type": "execute_result"
    }
   ],
   "source": [
    "b1.intersection(a1)"
   ]
  },
  {
   "cell_type": "code",
   "execution_count": 35,
   "id": "7a321a54-fe97-43a1-8a32-bb8931ab0d14",
   "metadata": {},
   "outputs": [
    {
     "data": {
      "text/plain": [
       "False"
      ]
     },
     "execution_count": 35,
     "metadata": {},
     "output_type": "execute_result"
    }
   ],
   "source": [
    "a={1,2,3}                                           #Isdisjoint, Common  is not avaible\n",
    "b={1,2,3,4,5}\n",
    "a.isdisjoint(b)"
   ]
  },
  {
   "cell_type": "code",
   "execution_count": 29,
   "id": "0cf0bac9-b22c-4e54-bd84-0f3229fc46bc",
   "metadata": {},
   "outputs": [
    {
     "data": {
      "text/plain": [
       "True"
      ]
     },
     "execution_count": 29,
     "metadata": {},
     "output_type": "execute_result"
    }
   ],
   "source": [
    "a={8,7,9,10}                                          \n",
    "b={1,2,3,4,5}\n",
    "a.isdisjoint(b)"
   ]
  },
  {
   "cell_type": "code",
   "execution_count": 30,
   "id": "1d1800d7-da57-48fe-b39f-2ca06e8aa386",
   "metadata": {},
   "outputs": [
    {
     "data": {
      "text/plain": [
       "False"
      ]
     },
     "execution_count": 30,
     "metadata": {},
     "output_type": "execute_result"
    }
   ],
   "source": [
    "a={1,8,7,9,10}                                          \n",
    "b={1,2,3,4,5}\n",
    "a.isdisjoint(b)"
   ]
  },
  {
   "cell_type": "code",
   "execution_count": null,
   "id": "7c2af55c-e0b2-4623-94e1-3df9268fe771",
   "metadata": {},
   "outputs": [],
   "source": []
  }
 ],
 "metadata": {
  "kernelspec": {
   "display_name": "Python 3 (ipykernel)",
   "language": "python",
   "name": "python3"
  },
  "language_info": {
   "codemirror_mode": {
    "name": "ipython",
    "version": 3
   },
   "file_extension": ".py",
   "mimetype": "text/x-python",
   "name": "python",
   "nbconvert_exporter": "python",
   "pygments_lexer": "ipython3",
   "version": "3.12.4"
  }
 },
 "nbformat": 4,
 "nbformat_minor": 5
}
