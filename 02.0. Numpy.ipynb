{
 "cells": [
  {
   "cell_type": "markdown",
   "id": "cf9edcad-7555-4837-a363-8c3ca8fe164f",
   "metadata": {},
   "source": [
    "# **Numpy**"
   ]
  },
  {
   "cell_type": "markdown",
   "id": "536782fa-cde5-4597-be43-e07665280b5e",
   "metadata": {},
   "source": [
    "**(Numarical python)**"
   ]
  },
  {
   "cell_type": "markdown",
   "id": "229afcbb-4f96-45c8-ab7b-1365b9ad9498",
   "metadata": {},
   "source": [
    "- used for working with arrays. "
   ]
  },
  {
   "cell_type": "markdown",
   "id": "e5e33472-e78c-49a3-a900-4b12b523828d",
   "metadata": {},
   "source": [
    "- In python we have list that serve tha purpuse of arrays, but they are also to process."
   ]
  },
  {
   "cell_type": "markdown",
   "id": "53e986f5-1625-409f-9f93-bc5eb83e3c08",
   "metadata": {},
   "source": [
    "- Numpy is incredible library to perform mathematical and statistical operations due to its fast and memory efficient as it is optimize to work with latest cpu archiectures."
   ]
  },
  {
   "cell_type": "markdown",
   "id": "eabf3357-8846-489d-af01-6c45a441ed01",
   "metadata": {},
   "source": [
    "- Numpy aims to provide an array object that is up to 50x faster than traditional python list. So processes can access and manupulate them very efficiently."
   ]
  },
  {
   "cell_type": "code",
   "execution_count": 4,
   "id": "4a109f7a-09f2-4923-ba8d-b9b678b77ff7",
   "metadata": {},
   "outputs": [],
   "source": [
    "import numpy as np"
   ]
  },
  {
   "cell_type": "markdown",
   "id": "1f6d697b-cf64-4084-bd76-6aed16970ae2",
   "metadata": {},
   "source": [
    "# Numpy Arrays"
   ]
  },
  {
   "cell_type": "markdown",
   "id": "53cb300d-8c65-4a5f-b68d-35f71149789e",
   "metadata": {},
   "source": [
    "**0D ARRAY**"
   ]
  },
  {
   "cell_type": "code",
   "execution_count": 5,
   "id": "3926fc2c-c51d-495c-bb96-5dedf7a9a4f7",
   "metadata": {},
   "outputs": [
    {
     "name": "stdout",
     "output_type": "stream",
     "text": [
      "45\n",
      "<class 'int'>\n"
     ]
    }
   ],
   "source": [
    "a=45\n",
    "print(a)\n",
    "print(type(a))"
   ]
  },
  {
   "cell_type": "code",
   "execution_count": 6,
   "id": "926d304a-43df-4dcd-bdac-fb1fdf6e7aa8",
   "metadata": {},
   "outputs": [
    {
     "name": "stdout",
     "output_type": "stream",
     "text": [
      "45\n",
      "<class 'numpy.ndarray'>\n"
     ]
    }
   ],
   "source": [
    "a=45\n",
    "arr_0 = np.array(a)\n",
    "print(arr_0)\n",
    "print(type(arr_0))"
   ]
  },
  {
   "cell_type": "code",
   "execution_count": 7,
   "id": "17dc6559-d4e2-4695-ae1e-9096269b9b08",
   "metadata": {},
   "outputs": [
    {
     "data": {
      "text/plain": [
       "0"
      ]
     },
     "execution_count": 7,
     "metadata": {},
     "output_type": "execute_result"
    }
   ],
   "source": [
    "arr_0.ndim"
   ]
  },
  {
   "cell_type": "code",
   "execution_count": 7,
   "id": "7602a93f-4bc5-473c-b7fd-efb6fd1ef5a0",
   "metadata": {},
   "outputs": [
    {
     "data": {
      "text/plain": [
       "()"
      ]
     },
     "execution_count": 7,
     "metadata": {},
     "output_type": "execute_result"
    }
   ],
   "source": [
    "arr_0.shape"
   ]
  },
  {
   "cell_type": "markdown",
   "id": "befb9b67-22b4-454d-850a-87553c4b7c65",
   "metadata": {},
   "source": [
    "**1D ARRAY**"
   ]
  },
  {
   "cell_type": "code",
   "execution_count": 8,
   "id": "b02806f8-bf20-4642-b532-48943f7cef82",
   "metadata": {},
   "outputs": [
    {
     "name": "stdout",
     "output_type": "stream",
     "text": [
      "[1 2 3]\n"
     ]
    }
   ],
   "source": [
    "a=[1,2,3]\n",
    "\n",
    "arr_1=np.array(a)\n",
    "print(arr_1)"
   ]
  },
  {
   "cell_type": "code",
   "execution_count": 9,
   "id": "7a0ff223-60d5-4d7c-bda6-6e1778818182",
   "metadata": {},
   "outputs": [
    {
     "data": {
      "text/plain": [
       "1"
      ]
     },
     "execution_count": 9,
     "metadata": {},
     "output_type": "execute_result"
    }
   ],
   "source": [
    "arr_1.ndim"
   ]
  },
  {
   "cell_type": "code",
   "execution_count": 10,
   "id": "99614232-b911-4b44-964a-13742de2ea41",
   "metadata": {},
   "outputs": [
    {
     "data": {
      "text/plain": [
       "(3,)"
      ]
     },
     "execution_count": 10,
     "metadata": {},
     "output_type": "execute_result"
    }
   ],
   "source": [
    "arr_1.shape"
   ]
  },
  {
   "cell_type": "markdown",
   "id": "a983051a-55f4-4776-b3ee-971c03a1b542",
   "metadata": {},
   "source": [
    "**2D ARRAY**"
   ]
  },
  {
   "cell_type": "code",
   "execution_count": 11,
   "id": "c28249b0-a5bc-417a-8f4d-01f92d2b766e",
   "metadata": {},
   "outputs": [
    {
     "name": "stdout",
     "output_type": "stream",
     "text": [
      "[[1 2 4]]\n"
     ]
    }
   ],
   "source": [
    "a=[[1,2,4]]\n",
    "arr_2=np.array(a)\n",
    "print(arr_2)"
   ]
  },
  {
   "cell_type": "code",
   "execution_count": 12,
   "id": "4967b14f-5e1e-4785-aa03-694ebcca63a5",
   "metadata": {},
   "outputs": [
    {
     "data": {
      "text/plain": [
       "2"
      ]
     },
     "execution_count": 12,
     "metadata": {},
     "output_type": "execute_result"
    }
   ],
   "source": [
    "\n",
    "arr_2.ndim"
   ]
  },
  {
   "cell_type": "code",
   "execution_count": 13,
   "id": "3d25d5c4-b3d7-423b-891b-0df3d79669fb",
   "metadata": {},
   "outputs": [
    {
     "data": {
      "text/plain": [
       "(1, 3)"
      ]
     },
     "execution_count": 13,
     "metadata": {},
     "output_type": "execute_result"
    }
   ],
   "source": [
    "arr_2.shape"
   ]
  },
  {
   "cell_type": "markdown",
   "id": "d953e3ab-a3fe-45d3-acd9-86d17a81543d",
   "metadata": {},
   "source": [
    "# Functions for creating 1D array"
   ]
  },
  {
   "cell_type": "markdown",
   "id": "a078331c-e16d-4cc1-98c9-9ff9c8221283",
   "metadata": {},
   "source": [
    "**Arrange**"
   ]
  },
  {
   "cell_type": "markdown",
   "id": "d1c86e84-6478-4388-bc58-b082f151486f",
   "metadata": {},
   "source": [
    "- Arrange is an array-value version of the built-in python range function\n",
    "- **Syntax**:np.arrange(start,end,step)"
   ]
  },
  {
   "cell_type": "code",
   "execution_count": 14,
   "id": "484f02ff-5150-49eb-a339-ba2c660ca63a",
   "metadata": {},
   "outputs": [
    {
     "name": "stdout",
     "output_type": "stream",
     "text": [
      "[0 1 2 3 4 5 6 7 8 9]\n"
     ]
    }
   ],
   "source": [
    "a = np.arange(10)\n",
    "print(a)"
   ]
  },
  {
   "cell_type": "code",
   "execution_count": 15,
   "id": "a6dc2eef-2e6c-443a-bc73-945b87f9cab6",
   "metadata": {},
   "outputs": [
    {
     "name": "stdout",
     "output_type": "stream",
     "text": [
      "[10 15 20 25 30 35 40 45]\n"
     ]
    }
   ],
   "source": [
    "a = np.arange(10,50,5)\n",
    "print(a)"
   ]
  },
  {
   "cell_type": "markdown",
   "id": "a4855b87-b58d-403f-b9f1-6df73fc2a180",
   "metadata": {},
   "source": [
    "**Linespace**"
   ]
  },
  {
   "cell_type": "markdown",
   "id": "a83ce37c-4ed7-4e85-a5f3-9f0ced391c2d",
   "metadata": {},
   "source": [
    "- Return evenly spaced number over a specified interval.\n",
    "- **Syntax**:np.linespace(start,end,num_of_samples)"
   ]
  },
  {
   "cell_type": "code",
   "execution_count": 16,
   "id": "9e1e355a-34fc-4853-8316-32d584b1f67f",
   "metadata": {},
   "outputs": [
    {
     "data": {
      "text/plain": [
       "array([1. , 1.5, 2. ])"
      ]
     },
     "execution_count": 16,
     "metadata": {},
     "output_type": "execute_result"
    }
   ],
   "source": [
    "np.linspace(1,2,3)"
   ]
  },
  {
   "cell_type": "code",
   "execution_count": 17,
   "id": "933caf33-25a8-4b0c-af27-9808a03320b3",
   "metadata": {},
   "outputs": [
    {
     "data": {
      "text/plain": [
       "array([1., 2., 3., 4., 5.])"
      ]
     },
     "execution_count": 17,
     "metadata": {},
     "output_type": "execute_result"
    }
   ],
   "source": [
    "np.linspace(1,5,5)"
   ]
  },
  {
   "cell_type": "markdown",
   "id": "d57484dc-10d3-41b1-889c-6446d468e840",
   "metadata": {},
   "source": [
    "**Zero**"
   ]
  },
  {
   "cell_type": "markdown",
   "id": "c76c0537-b44e-4d8f-b8bc-a0d738a60dd5",
   "metadata": {},
   "source": [
    "- Genarate arrays of zeros\n",
    "- **Syntax**: np.zero(shape)"
   ]
  },
  {
   "cell_type": "code",
   "execution_count": 18,
   "id": "d8b362dc-b5ca-4e66-9a92-cda75658eb23",
   "metadata": {},
   "outputs": [
    {
     "data": {
      "text/plain": [
       "array([[0., 0., 0., 0., 0., 0., 0., 0., 0., 0.],\n",
       "       [0., 0., 0., 0., 0., 0., 0., 0., 0., 0.],\n",
       "       [0., 0., 0., 0., 0., 0., 0., 0., 0., 0.],\n",
       "       [0., 0., 0., 0., 0., 0., 0., 0., 0., 0.],\n",
       "       [0., 0., 0., 0., 0., 0., 0., 0., 0., 0.],\n",
       "       [0., 0., 0., 0., 0., 0., 0., 0., 0., 0.],\n",
       "       [0., 0., 0., 0., 0., 0., 0., 0., 0., 0.],\n",
       "       [0., 0., 0., 0., 0., 0., 0., 0., 0., 0.],\n",
       "       [0., 0., 0., 0., 0., 0., 0., 0., 0., 0.],\n",
       "       [0., 0., 0., 0., 0., 0., 0., 0., 0., 0.]])"
      ]
     },
     "execution_count": 18,
     "metadata": {},
     "output_type": "execute_result"
    }
   ],
   "source": [
    "np.zeros((10,10))"
   ]
  },
  {
   "cell_type": "markdown",
   "id": "e63d0d5e-8f13-4da7-b97c-f5a5e563f459",
   "metadata": {},
   "source": [
    "**ones**\n",
    "\n",
    "- Genarate arrays of zeros\n",
    "- **Syntax**: np.zero(shape)"
   ]
  },
  {
   "cell_type": "code",
   "execution_count": 19,
   "id": "ffcd13cf-7eef-4a8e-8df6-cd7898021624",
   "metadata": {},
   "outputs": [
    {
     "data": {
      "text/plain": [
       "array([[1., 1., 1., 1., 1.],\n",
       "       [1., 1., 1., 1., 1.],\n",
       "       [1., 1., 1., 1., 1.],\n",
       "       [1., 1., 1., 1., 1.],\n",
       "       [1., 1., 1., 1., 1.]])"
      ]
     },
     "execution_count": 19,
     "metadata": {},
     "output_type": "execute_result"
    }
   ],
   "source": [
    "np.ones((5,5))"
   ]
  },
  {
   "cell_type": "markdown",
   "id": "1759497a-3236-4a23-a4cc-79cbb98420f7",
   "metadata": {},
   "source": [
    "**Random.randint**\n",
    "\n",
    "- Return random integer from start (inclusve) to end (exclusive)\n",
    "- **Syntax**: np.random(start,end,num_of_samples)"
   ]
  },
  {
   "cell_type": "code",
   "execution_count": 20,
   "id": "efd50407-9548-4839-82ab-1f7c56692e49",
   "metadata": {},
   "outputs": [
    {
     "data": {
      "text/plain": [
       "array([9, 4])"
      ]
     },
     "execution_count": 20,
     "metadata": {},
     "output_type": "execute_result"
    }
   ],
   "source": [
    "np.random.randint(1,10,2)"
   ]
  },
  {
   "cell_type": "code",
   "execution_count": 21,
   "id": "df49ff09-e200-4077-b09c-d97da565baf6",
   "metadata": {},
   "outputs": [
    {
     "data": {
      "text/plain": [
       "array([2, 6, 7, 3, 7])"
      ]
     },
     "execution_count": 21,
     "metadata": {},
     "output_type": "execute_result"
    }
   ],
   "source": [
    "np.random.randint(1,10,5)"
   ]
  },
  {
   "cell_type": "code",
   "execution_count": 35,
   "id": "e67360e0-d077-4a9e-8076-84d6066fb683",
   "metadata": {},
   "outputs": [
    {
     "name": "stdout",
     "output_type": "stream",
     "text": [
      "5\n"
     ]
    }
   ],
   "source": [
    "#findind the index of the maximum value\n",
    "a = np.array([1,2,3,4,5,6])\n",
    "max_index=np.argmax(a)\n",
    "print(max_index)"
   ]
  },
  {
   "cell_type": "markdown",
   "id": "3ba7b4a4-26ab-4553-9d9c-50e991b65f4b",
   "metadata": {},
   "source": [
    "**Accessing elements/Extracting the values**\n",
    "\n",
    "1.Accessing a single value through indexing\n",
    "\n",
    "2.Accessing a multiple values based on slicing\n",
    "\n",
    "3.Accessing a multiple values based on indexing\n",
    "\n",
    "4.Accessing a multiple values based on condition"
   ]
  },
  {
   "cell_type": "code",
   "execution_count": 10,
   "id": "aab81a6b-9eb8-48d9-bacf-bed22acee21d",
   "metadata": {},
   "outputs": [
    {
     "name": "stdout",
     "output_type": "stream",
     "text": [
      "[ 10  25  40  55  70  85 100]\n"
     ]
    }
   ],
   "source": [
    "a = np.arange(10,101,15) \n",
    "print(a)\n"
   ]
  },
  {
   "cell_type": "markdown",
   "id": "e3409fb1-a2a9-4c6e-905a-3469fca36247",
   "metadata": {},
   "source": [
    "**1.Accessing a single value through indexing**"
   ]
  },
  {
   "cell_type": "code",
   "execution_count": 23,
   "id": "20328ed6-e085-415a-92fa-30b85ace3df1",
   "metadata": {},
   "outputs": [
    {
     "name": "stdout",
     "output_type": "stream",
     "text": [
      "[10 20 30 40 50]\n"
     ]
    }
   ],
   "source": [
    "a = np.arange(10,51,10) \n",
    "print(a)\n"
   ]
  },
  {
   "cell_type": "code",
   "execution_count": 24,
   "id": "a019ab7b-923f-4c58-ae04-d53dd70628e7",
   "metadata": {},
   "outputs": [
    {
     "data": {
      "text/plain": [
       "20"
      ]
     },
     "execution_count": 24,
     "metadata": {},
     "output_type": "execute_result"
    }
   ],
   "source": [
    "#positive indexing\n",
    "a[1]"
   ]
  },
  {
   "cell_type": "code",
   "execution_count": 25,
   "id": "0fa31f3e-7f58-47d5-907e-1485f80b7e19",
   "metadata": {},
   "outputs": [
    {
     "data": {
      "text/plain": [
       "50"
      ]
     },
     "execution_count": 25,
     "metadata": {},
     "output_type": "execute_result"
    }
   ],
   "source": [
    "#negitive indexing\n",
    "a[-1]"
   ]
  },
  {
   "cell_type": "markdown",
   "id": "762d8499-ba52-4ca5-a095-6beeea67e7b2",
   "metadata": {},
   "source": [
    "2. Accessing a multiple values based on slicing"
   ]
  },
  {
   "cell_type": "code",
   "execution_count": 26,
   "id": "63354277-9e31-4ead-9808-a6184604aba3",
   "metadata": {},
   "outputs": [
    {
     "data": {
      "text/plain": [
       "array([20, 40])"
      ]
     },
     "execution_count": 26,
     "metadata": {},
     "output_type": "execute_result"
    }
   ],
   "source": [
    "a[1:5:2]\n"
   ]
  },
  {
   "cell_type": "code",
   "execution_count": 27,
   "id": "78d00060-e3cf-4a68-8513-ed09f95e7b9e",
   "metadata": {},
   "outputs": [
    {
     "data": {
      "text/plain": [
       "array([50, 40, 30])"
      ]
     },
     "execution_count": 27,
     "metadata": {},
     "output_type": "execute_result"
    }
   ],
   "source": [
    "a[-1:-4:-1]"
   ]
  },
  {
   "cell_type": "markdown",
   "id": "2ccab46c-ddf9-4d0a-89ee-02fd907a9449",
   "metadata": {},
   "source": [
    "3. Accessing a multiple values based on indexing\n"
   ]
  },
  {
   "cell_type": "markdown",
   "id": "dfd9b4e3-859a-46f4-919d-e998dc6ed7b8",
   "metadata": {},
   "source": [
    "- **Syntax**: array[list of index number]"
   ]
  },
  {
   "cell_type": "code",
   "execution_count": 44,
   "id": "8d2421c0-5798-4a88-ad9e-541cea0f7be0",
   "metadata": {},
   "outputs": [
    {
     "data": {
      "text/plain": [
       "array([10, 25, 20, 15, 20])"
      ]
     },
     "execution_count": 44,
     "metadata": {},
     "output_type": "execute_result"
    }
   ],
   "source": [
    "a[[0,3,2,1,2]]"
   ]
  },
  {
   "cell_type": "code",
   "execution_count": 45,
   "id": "7abeb4ac-09be-4faf-82c3-54ec50b8d03c",
   "metadata": {},
   "outputs": [
    {
     "data": {
      "text/plain": [
       "1"
      ]
     },
     "execution_count": 45,
     "metadata": {},
     "output_type": "execute_result"
    }
   ],
   "source": [
    "a.ndim"
   ]
  },
  {
   "cell_type": "markdown",
   "id": "e78a42e5-e6d0-42b9-9983-2bf713eef463",
   "metadata": {},
   "source": [
    "4. Accessing a multiple values based on condition(Mask indexing or fancy indexing)"
   ]
  },
  {
   "cell_type": "markdown",
   "id": "bd0afbe8-925d-49e7-854a-1cdbf2e6f299",
   "metadata": {},
   "source": [
    "- **Syntax**: array[list of index]\n",
    "- \n",
    "--first, it will check the condition the item which satisfies the condition (means which item gives True for the condition). that item will be selected "
   ]
  },
  {
   "cell_type": "code",
   "execution_count": 27,
   "id": "8258e3dc-75eb-4049-9243-9080d15e0196",
   "metadata": {},
   "outputs": [
    {
     "data": {
      "text/plain": [
       "array([46])"
      ]
     },
     "execution_count": 27,
     "metadata": {},
     "output_type": "execute_result"
    }
   ],
   "source": [
    "a=np.array([45,46,47])\n",
    "a[a%2==0]"
   ]
  },
  {
   "cell_type": "markdown",
   "id": "ede03579-380b-4ae5-96de-bcdfade3c664",
   "metadata": {},
   "source": [
    "# Modify the values in numpy"
   ]
  },
  {
   "cell_type": "markdown",
   "id": "d038543d-97cb-48fe-a0b2-d1b9128fbc97",
   "metadata": {},
   "source": [
    "- Add a single va;lue in array\n",
    "- **Syntax**: np.append(array,value)"
   ]
  },
  {
   "cell_type": "code",
   "execution_count": 28,
   "id": "ec8e23f7-7dd3-46ec-bd65-dcb37fc8829a",
   "metadata": {},
   "outputs": [
    {
     "name": "stdout",
     "output_type": "stream",
     "text": [
      "[45 46 47 48]\n"
     ]
    }
   ],
   "source": [
    "a = np.array([45,46,47])\n",
    "a1 = np.append(a,48)\n",
    "print(a1)"
   ]
  },
  {
   "cell_type": "markdown",
   "id": "28ca9f1e-8a25-4b65-ac4a-f163dd757e0c",
   "metadata": {},
   "source": [
    "- Add a multiply value in a 1D array"
   ]
  },
  {
   "cell_type": "code",
   "execution_count": 29,
   "id": "58804e1f-5277-415f-b7d4-76a7c746040f",
   "metadata": {},
   "outputs": [
    {
     "name": "stdout",
     "output_type": "stream",
     "text": [
      "[1 2 3 4 5 6]\n"
     ]
    }
   ],
   "source": [
    "a = np.array([1,2,3])\n",
    "a2 = np.append(a,[4,5,6])\n",
    "print(a2)"
   ]
  },
  {
   "cell_type": "markdown",
   "id": "d5fb0d55-b97e-4150-a904-ff2bf35a2db3",
   "metadata": {},
   "source": [
    "- Replacing the single value in a 1D array"
   ]
  },
  {
   "cell_type": "code",
   "execution_count": 30,
   "id": "6de6ead0-a218-45d5-9cd0-2c83b2da49aa",
   "metadata": {},
   "outputs": [
    {
     "name": "stdout",
     "output_type": "stream",
     "text": [
      "[120   2   3]\n"
     ]
    }
   ],
   "source": [
    "a[0] = 120\n",
    "print(a)"
   ]
  },
  {
   "cell_type": "markdown",
   "id": "b8cdc8a9-8a65-4cff-aa04-df8ed35957f1",
   "metadata": {},
   "source": [
    "- Replacing a multiple values with a single value in a array"
   ]
  },
  {
   "cell_type": "code",
   "execution_count": 31,
   "id": "0457eca9-1382-4d83-991e-98bed2234542",
   "metadata": {},
   "outputs": [
    {
     "data": {
      "text/plain": [
       "array([120,  12,  12])"
      ]
     },
     "execution_count": 31,
     "metadata": {},
     "output_type": "execute_result"
    }
   ],
   "source": [
    "a[[1,2]] = 12\n",
    "a"
   ]
  },
  {
   "cell_type": "markdown",
   "id": "fd8f43b4-bb58-4369-8b20-8de473fd5504",
   "metadata": {},
   "source": [
    "- Replacing a multiple values with a multiple value in a array"
   ]
  },
  {
   "cell_type": "code",
   "execution_count": 32,
   "id": "bf2853b0-15b7-438c-b2fa-21b0c47f2763",
   "metadata": {},
   "outputs": [
    {
     "data": {
      "text/plain": [
       "array([120,  20,  25])"
      ]
     },
     "execution_count": 32,
     "metadata": {},
     "output_type": "execute_result"
    }
   ],
   "source": [
    "a[[1,2]] = [20,25]\n",
    "a"
   ]
  },
  {
   "cell_type": "markdown",
   "id": "c97e32d7-297d-49fb-8083-aa64da5142f3",
   "metadata": {},
   "source": [
    "**Delete a single value in a array**\n",
    "- **Syntax** : np.delete(aray,indexnumber)"
   ]
  },
  {
   "cell_type": "code",
   "execution_count": 33,
   "id": "69b47750-403c-41b9-a5ee-35f7f218ad13",
   "metadata": {},
   "outputs": [
    {
     "name": "stdout",
     "output_type": "stream",
     "text": [
      "[120  25]\n"
     ]
    }
   ],
   "source": [
    "a3 = np.delete(a,1)\n",
    "print(a3)"
   ]
  },
  {
   "cell_type": "markdown",
   "id": "7d1922dd-4b78-4137-b1d7-12f6e651baeb",
   "metadata": {},
   "source": [
    "**Delete a multiple value in a array**\n",
    "- **Syntax** : np.delete(Array,[multiple index number])"
   ]
  },
  {
   "cell_type": "code",
   "execution_count": 34,
   "id": "702daef5-bca7-42c9-b0cd-fbaac7d6c6d7",
   "metadata": {},
   "outputs": [
    {
     "name": "stdout",
     "output_type": "stream",
     "text": [
      "[120]\n"
     ]
    }
   ],
   "source": [
    "# Deleting the multiple values\n",
    "a4 = np.delete(a,[1,2])\n",
    "print(a4)"
   ]
  },
  {
   "cell_type": "markdown",
   "id": "7a0c235d-3fee-4ee6-b5e6-b2d84303951c",
   "metadata": {},
   "source": [
    "**Copy array**"
   ]
  },
  {
   "cell_type": "code",
   "execution_count": 35,
   "id": "11de5cf1-09a3-4bd9-9568-48d333e3c7bf",
   "metadata": {},
   "outputs": [
    {
     "name": "stdout",
     "output_type": "stream",
     "text": [
      "[1 2 3]\n",
      "[100   2   3]\n"
     ]
    }
   ],
   "source": [
    "a = np.array([1,2,3])\n",
    "b = a.copy()\n",
    "b[0] =100\n",
    "print(a)\n",
    "print(b)\n"
   ]
  },
  {
   "cell_type": "markdown",
   "id": "8e034d9b-0f45-4a03-b989-18ee1b78fc96",
   "metadata": {},
   "source": [
    "**Sorting an array**"
   ]
  },
  {
   "cell_type": "code",
   "execution_count": 36,
   "id": "55635de8-7924-4a22-b16a-8f8ce8115fa0",
   "metadata": {},
   "outputs": [
    {
     "name": "stdout",
     "output_type": "stream",
     "text": [
      "[4 4 5 6 7 8 9]\n"
     ]
    }
   ],
   "source": [
    "a = np.array([4,8,5,4,6,7,9])\n",
    "b = np.sort(a)\n",
    "print(b)"
   ]
  },
  {
   "cell_type": "markdown",
   "id": "5d4d5327-aa09-44c6-95bd-9dc0c1561b7b",
   "metadata": {},
   "source": [
    "# **operations**\n",
    "- **Arthimetic Operations**"
   ]
  },
  {
   "cell_type": "code",
   "execution_count": 37,
   "id": "bc90a304-96e6-494b-807e-3f6951a7307a",
   "metadata": {},
   "outputs": [
    {
     "name": "stdout",
     "output_type": "stream",
     "text": [
      "[2 3 4 5]\n"
     ]
    }
   ],
   "source": [
    "a = np.array([1,2,3,4])\n",
    "b = a+1\n",
    "print(b)"
   ]
  },
  {
   "cell_type": "code",
   "execution_count": 38,
   "id": "45f75fdd-9371-476b-bbc1-b2a7e729e87f",
   "metadata": {},
   "outputs": [
    {
     "name": "stdout",
     "output_type": "stream",
     "text": [
      "[1 2 3 4]\n"
     ]
    }
   ],
   "source": [
    "c = a+0\n",
    "print(c)"
   ]
  },
  {
   "cell_type": "code",
   "execution_count": 39,
   "id": "880dfbae-8a17-4f34-8a1e-81957dbd9430",
   "metadata": {},
   "outputs": [
    {
     "name": "stdout",
     "output_type": "stream",
     "text": [
      "[ 1  4  9 16]\n"
     ]
    }
   ],
   "source": [
    "d = a**2\n",
    "print(d)"
   ]
  },
  {
   "cell_type": "code",
   "execution_count": 40,
   "id": "71bee45e-5b58-4115-8ff7-80500a7d7d57",
   "metadata": {},
   "outputs": [
    {
     "name": "stdout",
     "output_type": "stream",
     "text": [
      "[3 5 7 9]\n"
     ]
    }
   ],
   "source": [
    "print(a+b)\n"
   ]
  },
  {
   "cell_type": "code",
   "execution_count": 41,
   "id": "f23e629f-3207-4078-af20-4853e530f02c",
   "metadata": {},
   "outputs": [
    {
     "name": "stdout",
     "output_type": "stream",
     "text": [
      "[-1 -1 -1 -1]\n"
     ]
    }
   ],
   "source": [
    "print(a-b)\n"
   ]
  },
  {
   "cell_type": "code",
   "execution_count": 42,
   "id": "137be199-f33b-4879-b2b4-d9ebc839cc1b",
   "metadata": {},
   "outputs": [
    {
     "name": "stdout",
     "output_type": "stream",
     "text": [
      "[ 2  6 12 20]\n"
     ]
    }
   ],
   "source": [
    "print(a*b)\n"
   ]
  },
  {
   "cell_type": "markdown",
   "id": "5615b7c6-f34b-49d0-853f-3b792b635637",
   "metadata": {},
   "source": [
    "**Comparision operations**"
   ]
  },
  {
   "cell_type": "code",
   "execution_count": 43,
   "id": "2d60c16d-8e23-4e6f-8927-11c19285716b",
   "metadata": {},
   "outputs": [
    {
     "data": {
      "text/plain": [
       "array([ True,  True,  True,  True])"
      ]
     },
     "execution_count": 43,
     "metadata": {},
     "output_type": "execute_result"
    }
   ],
   "source": [
    "a == c"
   ]
  },
  {
   "cell_type": "code",
   "execution_count": 44,
   "id": "a5af394c-ce93-476b-8124-0dc045b500c3",
   "metadata": {},
   "outputs": [
    {
     "data": {
      "text/plain": [
       "array([ True,  True,  True,  True])"
      ]
     },
     "execution_count": 44,
     "metadata": {},
     "output_type": "execute_result"
    }
   ],
   "source": [
    "c >= a"
   ]
  },
  {
   "cell_type": "code",
   "execution_count": 45,
   "id": "1618c509-9cc7-4c7a-8e1b-ea7ca975f7d2",
   "metadata": {},
   "outputs": [
    {
     "data": {
      "text/plain": [
       "False"
      ]
     },
     "execution_count": 45,
     "metadata": {},
     "output_type": "execute_result"
    }
   ],
   "source": [
    "np.array_equal(a,b)"
   ]
  },
  {
   "cell_type": "code",
   "execution_count": 46,
   "id": "c6695b40-72ae-476a-a3e8-7783ebf9d9f2",
   "metadata": {},
   "outputs": [
    {
     "data": {
      "text/plain": [
       "True"
      ]
     },
     "execution_count": 46,
     "metadata": {},
     "output_type": "execute_result"
    }
   ],
   "source": [
    "np.array_equal(a,c)"
   ]
  },
  {
   "cell_type": "markdown",
   "id": "1cf30182-f183-4e50-b96e-0a5d36684957",
   "metadata": {},
   "source": [
    "**Mathematical operations**"
   ]
  },
  {
   "cell_type": "code",
   "execution_count": 47,
   "id": "1dc6e756-b4f7-40b2-b673-aacfb3b72580",
   "metadata": {},
   "outputs": [
    {
     "data": {
      "text/plain": [
       "array([ 2.71828183,  7.3890561 , 20.08553692, 54.59815003])"
      ]
     },
     "execution_count": 47,
     "metadata": {},
     "output_type": "execute_result"
    }
   ],
   "source": [
    "np.exp(a)"
   ]
  },
  {
   "cell_type": "code",
   "execution_count": 48,
   "id": "1e8ea5cf-9146-45fc-9ba6-88ba44bcec01",
   "metadata": {},
   "outputs": [
    {
     "data": {
      "text/plain": [
       "array([0.        , 0.69314718, 1.09861229, 1.38629436])"
      ]
     },
     "execution_count": 48,
     "metadata": {},
     "output_type": "execute_result"
    }
   ],
   "source": [
    "np.log(a)"
   ]
  },
  {
   "cell_type": "code",
   "execution_count": 49,
   "id": "ea100fba-708b-42c1-81ed-58c107f1c5a2",
   "metadata": {},
   "outputs": [],
   "source": [
    "import warnings\n",
    "warnings.simplefilter(\"ignore\")"
   ]
  },
  {
   "cell_type": "markdown",
   "id": "b404c8c5-b492-4e16-90fc-c9b1a28330fb",
   "metadata": {},
   "source": [
    "# **2D Numpy Array**"
   ]
  },
  {
   "cell_type": "code",
   "execution_count": 51,
   "id": "c619951f-eb13-4db5-9167-2458a34992f7",
   "metadata": {},
   "outputs": [
    {
     "name": "stdout",
     "output_type": "stream",
     "text": [
      "[[0 1 2 3]\n",
      " [2 3 4 5]]\n"
     ]
    }
   ],
   "source": [
    "b = np.array([[0,1,2,3],[2,3,4,5]])\n",
    "print(b)"
   ]
  },
  {
   "cell_type": "code",
   "execution_count": 52,
   "id": "7f4fa4ff-f098-444c-a4d2-b455e5f15a33",
   "metadata": {},
   "outputs": [
    {
     "data": {
      "text/plain": [
       "2"
      ]
     },
     "execution_count": 52,
     "metadata": {},
     "output_type": "execute_result"
    }
   ],
   "source": [
    "b.ndim"
   ]
  },
  {
   "cell_type": "code",
   "execution_count": 53,
   "id": "363678d2-40d9-4b09-923a-8a3519731ea7",
   "metadata": {},
   "outputs": [
    {
     "data": {
      "text/plain": [
       "(2, 4)"
      ]
     },
     "execution_count": 53,
     "metadata": {},
     "output_type": "execute_result"
    }
   ],
   "source": [
    "b.shape"
   ]
  },
  {
   "cell_type": "code",
   "execution_count": 55,
   "id": "67842993-eff3-4e6f-9167-347d42a224f5",
   "metadata": {},
   "outputs": [
    {
     "data": {
      "text/plain": [
       "array([[0., 0., 0.],\n",
       "       [0., 0., 0.],\n",
       "       [0., 0., 0.]])"
      ]
     },
     "execution_count": 55,
     "metadata": {},
     "output_type": "execute_result"
    }
   ],
   "source": [
    "np.zeros((3,3))"
   ]
  },
  {
   "cell_type": "code",
   "execution_count": 57,
   "id": "e8f4171f-66b2-49c3-9115-0cc25b2c4bc1",
   "metadata": {},
   "outputs": [
    {
     "data": {
      "text/plain": [
       "array([[0, 0, 0],\n",
       "       [0, 0, 0],\n",
       "       [0, 0, 0]])"
      ]
     },
     "execution_count": 57,
     "metadata": {},
     "output_type": "execute_result"
    }
   ],
   "source": [
    "np.zeros((3,3),dtype=int)"
   ]
  },
  {
   "cell_type": "code",
   "execution_count": 58,
   "id": "f95cee08-4a56-43bb-a0d1-6b582b3122e5",
   "metadata": {},
   "outputs": [
    {
     "data": {
      "text/plain": [
       "array([[1, 1, 1],\n",
       "       [1, 1, 1],\n",
       "       [1, 1, 1]])"
      ]
     },
     "execution_count": 58,
     "metadata": {},
     "output_type": "execute_result"
    }
   ],
   "source": [
    "np.ones((3,3),dtype=int)"
   ]
  },
  {
   "cell_type": "code",
   "execution_count": 59,
   "id": "2aaa578e-a5ec-4266-8a2b-19ecec9e27fd",
   "metadata": {},
   "outputs": [
    {
     "data": {
      "text/plain": [
       "array([[1., 0., 0.],\n",
       "       [0., 1., 0.],\n",
       "       [0., 0., 1.]])"
      ]
     },
     "execution_count": 59,
     "metadata": {},
     "output_type": "execute_result"
    }
   ],
   "source": [
    "# identity matrix \n",
    "np.eye(3,3)"
   ]
  },
  {
   "cell_type": "code",
   "execution_count": 20,
   "id": "0d1b55ef-4f32-48e8-8571-4422f8f27ec1",
   "metadata": {},
   "outputs": [
    {
     "data": {
      "text/plain": [
       "array([[1., 0., 0., 0., 0., 0., 0., 0., 0., 0.],\n",
       "       [0., 1., 0., 0., 0., 0., 0., 0., 0., 0.],\n",
       "       [0., 0., 1., 0., 0., 0., 0., 0., 0., 0.],\n",
       "       [0., 0., 0., 1., 0., 0., 0., 0., 0., 0.],\n",
       "       [0., 0., 0., 0., 1., 0., 0., 0., 0., 0.],\n",
       "       [0., 0., 0., 0., 0., 1., 0., 0., 0., 0.],\n",
       "       [0., 0., 0., 0., 0., 0., 1., 0., 0., 0.],\n",
       "       [0., 0., 0., 0., 0., 0., 0., 1., 0., 0.],\n",
       "       [0., 0., 0., 0., 0., 0., 0., 0., 1., 0.],\n",
       "       [0., 0., 0., 0., 0., 0., 0., 0., 0., 1.]])"
      ]
     },
     "execution_count": 20,
     "metadata": {},
     "output_type": "execute_result"
    }
   ],
   "source": [
    "a=np.eye(10,10)\n",
    "a"
   ]
  },
  {
   "cell_type": "code",
   "execution_count": 21,
   "id": "a351609c-62b5-4325-aaf6-45125f055e33",
   "metadata": {},
   "outputs": [
    {
     "data": {
      "text/plain": [
       "2"
      ]
     },
     "execution_count": 21,
     "metadata": {},
     "output_type": "execute_result"
    }
   ],
   "source": [
    "a.ndim"
   ]
  },
  {
   "cell_type": "code",
   "execution_count": 61,
   "id": "bdd51bf2-12ea-4c84-928b-deadaa0c24f1",
   "metadata": {},
   "outputs": [
    {
     "data": {
      "text/plain": [
       "array([[1, 0, 0],\n",
       "       [0, 2, 0],\n",
       "       [0, 0, 3]])"
      ]
     },
     "execution_count": 61,
     "metadata": {},
     "output_type": "execute_result"
    }
   ],
   "source": [
    "#Diagional matrix \n",
    "np.diag([1,2,3])"
   ]
  },
  {
   "cell_type": "code",
   "execution_count": 33,
   "id": "78b4e741-dfb7-40bf-aad9-1e7ae501f4fc",
   "metadata": {},
   "outputs": [
    {
     "data": {
      "text/plain": [
       "array([[1, 0, 0, 0, 0, 0, 0, 0, 0],\n",
       "       [0, 2, 0, 0, 0, 0, 0, 0, 0],\n",
       "       [0, 0, 3, 0, 0, 0, 0, 0, 0],\n",
       "       [0, 0, 0, 4, 0, 0, 0, 0, 0],\n",
       "       [0, 0, 0, 0, 5, 0, 0, 0, 0],\n",
       "       [0, 0, 0, 0, 0, 6, 0, 0, 0],\n",
       "       [0, 0, 0, 0, 0, 0, 7, 0, 0],\n",
       "       [0, 0, 0, 0, 0, 0, 0, 8, 0],\n",
       "       [0, 0, 0, 0, 0, 0, 0, 0, 9]])"
      ]
     },
     "execution_count": 33,
     "metadata": {},
     "output_type": "execute_result"
    }
   ],
   "source": [
    "np.diag([1,2,3,4,5,6,7,8,9])"
   ]
  },
  {
   "cell_type": "code",
   "execution_count": 70,
   "id": "62ea24e0-e91e-444a-9134-a5ba9974ee20",
   "metadata": {},
   "outputs": [
    {
     "data": {
      "text/plain": [
       "array([1, 2, 3])"
      ]
     },
     "execution_count": 70,
     "metadata": {},
     "output_type": "execute_result"
    }
   ],
   "source": [
    "#Diagional matrix \n",
    "a=np.array([[1,2,3],[3,2,5],[1,2,3]])\n",
    "np.diag(a)"
   ]
  },
  {
   "cell_type": "code",
   "execution_count": 71,
   "id": "7d8207fb-8bf8-433c-befa-358983327c46",
   "metadata": {},
   "outputs": [
    {
     "name": "stdout",
     "output_type": "stream",
     "text": [
      "[[10 20 30]\n",
      " [40 50 60]\n",
      " [70 80 90]]\n"
     ]
    }
   ],
   "source": [
    "a = np.array([[10,20,30],[40,50,60],[70,80,90]])\n",
    "print(a)"
   ]
  },
  {
   "cell_type": "markdown",
   "id": "6b846c2c-a28b-4a6e-bea7-a99c215a7e4b",
   "metadata": {},
   "source": [
    "**Indexing of 2D array**"
   ]
  },
  {
   "cell_type": "code",
   "execution_count": 74,
   "id": "b6c046e4-3be5-4404-8719-ab51b7808894",
   "metadata": {},
   "outputs": [
    {
     "data": {
      "text/plain": [
       "array([10, 20, 30])"
      ]
     },
     "execution_count": 74,
     "metadata": {},
     "output_type": "execute_result"
    }
   ],
   "source": [
    "#all coloums by default \n",
    "a[0]"
   ]
  },
  {
   "cell_type": "code",
   "execution_count": 75,
   "id": "6cc455c8-c7e6-4694-995b-3403af21165b",
   "metadata": {},
   "outputs": [
    {
     "data": {
      "text/plain": [
       "array([70, 80, 90])"
      ]
     },
     "execution_count": 75,
     "metadata": {},
     "output_type": "execute_result"
    }
   ],
   "source": [
    "a[2]"
   ]
  },
  {
   "cell_type": "code",
   "execution_count": 76,
   "id": "4030475d-1ef6-47b1-b850-6eddd12c6031",
   "metadata": {},
   "outputs": [
    {
     "data": {
      "text/plain": [
       "90"
      ]
     },
     "execution_count": 76,
     "metadata": {},
     "output_type": "execute_result"
    }
   ],
   "source": [
    "a[2,2]"
   ]
  },
  {
   "cell_type": "code",
   "execution_count": 78,
   "id": "21e546b8-0b1d-4f56-b31f-8357dc7182bb",
   "metadata": {},
   "outputs": [
    {
     "data": {
      "text/plain": [
       "array([[40, 50, 60],\n",
       "       [70, 80, 90]])"
      ]
     },
     "execution_count": 78,
     "metadata": {},
     "output_type": "execute_result"
    }
   ],
   "source": [
    "a[1:3]"
   ]
  },
  {
   "cell_type": "code",
   "execution_count": 82,
   "id": "150775c3-ae0d-4dde-98d2-588b9127902c",
   "metadata": {},
   "outputs": [
    {
     "data": {
      "text/plain": [
       "array([[10, 20, 30],\n",
       "       [40, 50, 60],\n",
       "       [70, 80, 90]])"
      ]
     },
     "execution_count": 82,
     "metadata": {},
     "output_type": "execute_result"
    }
   ],
   "source": [
    "a[:3]"
   ]
  },
  {
   "cell_type": "code",
   "execution_count": 83,
   "id": "f206e8ad-a951-4868-8573-97aef311d33a",
   "metadata": {},
   "outputs": [
    {
     "data": {
      "text/plain": [
       "array([[10, 20, 30],\n",
       "       [20, 25, 30],\n",
       "       [70, 80, 90]])"
      ]
     },
     "execution_count": 83,
     "metadata": {},
     "output_type": "execute_result"
    }
   ],
   "source": [
    "#assinding value in 2d arraay\n",
    "a[1]=[20,25,30]\n",
    "a"
   ]
  },
  {
   "cell_type": "code",
   "execution_count": 84,
   "id": "c9f077f6-5a05-4cc4-b8bf-475ea5f51541",
   "metadata": {},
   "outputs": [
    {
     "data": {
      "text/plain": [
       "array([[ 10,  20, 500],\n",
       "       [ 20,  25,  30],\n",
       "       [ 70,  80,  90]])"
      ]
     },
     "execution_count": 84,
     "metadata": {},
     "output_type": "execute_result"
    }
   ],
   "source": [
    "a[0,2]=500\n",
    "a"
   ]
  },
  {
   "cell_type": "markdown",
   "id": "e70da2e3-1002-4d28-97aa-faced634f2fb",
   "metadata": {},
   "source": [
    "**Flattening**: Converting 2D array to 1D"
   ]
  },
  {
   "cell_type": "code",
   "execution_count": 10,
   "id": "5c5ae745-c884-45f0-8157-ed09885bf043",
   "metadata": {},
   "outputs": [],
   "source": [
    "import numpy as np"
   ]
  },
  {
   "cell_type": "code",
   "execution_count": 11,
   "id": "0ade418c-a6db-4ccd-af46-13ded143035c",
   "metadata": {},
   "outputs": [
    {
     "name": "stdout",
     "output_type": "stream",
     "text": [
      "[[0 1 2]\n",
      " [3 4 5]]\n",
      "[0 1 2 3 4 5]\n"
     ]
    }
   ],
   "source": [
    "a= np.array([[0,1,2], [3,4,5]])\n",
    "print(a)\n",
    "\n",
    "b=a.ravel()\n",
    "print(b)"
   ]
  },
  {
   "cell_type": "markdown",
   "id": "67709a18-79b9-49cb-82d7-fd29d4255d28",
   "metadata": {},
   "source": [
    "**Reshape array**"
   ]
  },
  {
   "cell_type": "code",
   "execution_count": 12,
   "id": "93c1b36b-b7cc-4c2c-ab13-2be5f824c222",
   "metadata": {},
   "outputs": [
    {
     "name": "stdout",
     "output_type": "stream",
     "text": [
      "[0 1 2 3 4 5]\n",
      "(6,)\n"
     ]
    }
   ],
   "source": [
    "a=np.arange(6)\n",
    "print(a)\n",
    "print(a.shape)"
   ]
  },
  {
   "cell_type": "code",
   "execution_count": 16,
   "id": "83c3146a-506a-41af-b713-34454e44fc0c",
   "metadata": {},
   "outputs": [
    {
     "name": "stdout",
     "output_type": "stream",
     "text": [
      "[[0 1 2]\n",
      " [3 4 5]]\n"
     ]
    }
   ],
   "source": [
    "a1=a.reshape(2,3)\n",
    "print(a1)\n"
   ]
  },
  {
   "cell_type": "code",
   "execution_count": 18,
   "id": "1014a173-0b77-4622-a583-1d5687596c7a",
   "metadata": {},
   "outputs": [
    {
     "data": {
      "text/plain": [
       "array([[0, 1],\n",
       "       [2, 3],\n",
       "       [4, 5]])"
      ]
     },
     "execution_count": 18,
     "metadata": {},
     "output_type": "execute_result"
    }
   ],
   "source": [
    "a1=a.reshape(3,2)\n",
    "a1"
   ]
  },
  {
   "cell_type": "code",
   "execution_count": 20,
   "id": "ad409c20-68c9-4ba8-93c7-31e40f195adb",
   "metadata": {},
   "outputs": [
    {
     "data": {
      "text/plain": [
       "array([0, 1, 2, 3, 4, 5])"
      ]
     },
     "execution_count": 20,
     "metadata": {},
     "output_type": "execute_result"
    }
   ],
   "source": [
    "a1=a.reshape(6,1)\n",
    "a"
   ]
  },
  {
   "cell_type": "code",
   "execution_count": 23,
   "id": "871587a9-0312-4152-8245-1b65c9fb061a",
   "metadata": {},
   "outputs": [
    {
     "name": "stdout",
     "output_type": "stream",
     "text": [
      "[[ 0  1  2]\n",
      " [10  2  3]]\n",
      "(2, 3)\n"
     ]
    }
   ],
   "source": [
    "a=np.array([[0,1,2],[10,2,3]])\n",
    "print(a)\n",
    "print(a.shape)\n"
   ]
  },
  {
   "cell_type": "code",
   "execution_count": 24,
   "id": "197608b6-ca39-4ce8-acd7-3cf04ebc24f1",
   "metadata": {},
   "outputs": [
    {
     "name": "stdout",
     "output_type": "stream",
     "text": [
      "[[ 0  1]\n",
      " [ 2 10]\n",
      " [ 2  3]]\n"
     ]
    }
   ],
   "source": [
    "print(a.reshape(3,2))"
   ]
  },
  {
   "cell_type": "code",
   "execution_count": 25,
   "id": "9bca043c-31d8-4215-be40-ffd6da276102",
   "metadata": {},
   "outputs": [
    {
     "name": "stdout",
     "output_type": "stream",
     "text": [
      "[[ 0 10]\n",
      " [ 1  2]\n",
      " [ 2  3]]\n"
     ]
    }
   ],
   "source": [
    "c=a .T\n",
    "print(c)"
   ]
  },
  {
   "cell_type": "markdown",
   "id": "587e8397-1ee7-44cf-ab16-93334c99ed34",
   "metadata": {},
   "source": [
    "# Sort"
   ]
  },
  {
   "cell_type": "code",
   "execution_count": 27,
   "id": "633da0d9-b0ca-466a-b254-816592da6518",
   "metadata": {},
   "outputs": [
    {
     "data": {
      "text/plain": [
       "array([[ 1, 22, 16],\n",
       "       [ 4, 25, 19],\n",
       "       [ 7, 28, 31]])"
      ]
     },
     "execution_count": 27,
     "metadata": {},
     "output_type": "execute_result"
    }
   ],
   "source": [
    "#sorting along an axis: axis=1--> row and axis=0-->coloum\n",
    "a= np.array([[1,22,31],[4,25,16],[7,28,19]])\n",
    "\n",
    "b=np.sort(a,axis=0)         #formula for sorting(axis=0)           \n",
    "                           #this is for ROW\n",
    "b"
   ]
  },
  {
   "cell_type": "code",
   "execution_count": 28,
   "id": "552eec3f-1833-45fe-a4e3-7ce43ca1194d",
   "metadata": {},
   "outputs": [
    {
     "data": {
      "text/plain": [
       "array([[ 1, 22, 31],\n",
       "       [ 4, 16, 25],\n",
       "       [ 7, 19, 28]])"
      ]
     },
     "execution_count": 28,
     "metadata": {},
     "output_type": "execute_result"
    }
   ],
   "source": [
    "a= np.array([[1,22,31],[4,25,16],[7,28,19]])\n",
    "\n",
    "b=np.sort(a,axis=1)      #formula for sorting(axis=1)\n",
    "                        #this is for COLOUM\n",
    "b                            "
   ]
  },
  {
   "cell_type": "code",
   "execution_count": 32,
   "id": "17bebdf0-20f6-4e37-bbc8-32856129bdc0",
   "metadata": {},
   "outputs": [
    {
     "name": "stdout",
     "output_type": "stream",
     "text": [
      "[[12 24]\n",
      " [58 81]\n",
      " [16 16]]\n"
     ]
    }
   ],
   "source": [
    "a=np.array([[1,2],[3,4],[5,6]])\n",
    "b=np.array([[11,22],[55,77],[11,10]])\n",
    "#adding a and b\n",
    "print(a+b)"
   ]
  },
  {
   "cell_type": "code",
   "execution_count": 35,
   "id": "67d48c67-360e-4d29-9632-d7c42716cf92",
   "metadata": {},
   "outputs": [
    {
     "name": "stdout",
     "output_type": "stream",
     "text": [
      "[[10 20]\n",
      " [52 73]\n",
      " [ 6  4]]\n"
     ]
    }
   ],
   "source": [
    "a=np.array([[11,22],[55,77],[11,10]])\n",
    "b=np.array([[1,2],[3,4],[5,6]])\n",
    "#substrating a and b\n",
    "print(a-b)"
   ]
  },
  {
   "cell_type": "code",
   "execution_count": 38,
   "id": "f3b326d3-c8f5-4b1d-946d-9891959819dd",
   "metadata": {},
   "outputs": [
    {
     "name": "stdout",
     "output_type": "stream",
     "text": [
      "[[ 11  44]\n",
      " [165 308]\n",
      " [ 55  60]]\n"
     ]
    }
   ],
   "source": [
    "a=np.array([[11,22],[55,77],[11,10]])\n",
    "b=np.array([[1,2],[3,4],[5,6]])\n",
    "#mutiply a and b\n",
    "print(a*b)"
   ]
  },
  {
   "cell_type": "code",
   "execution_count": 40,
   "id": "02989dbc-cf45-43bc-960e-ae99ecb20f6e",
   "metadata": {},
   "outputs": [
    {
     "name": "stdout",
     "output_type": "stream",
     "text": [
      "[[11.         11.        ]\n",
      " [18.33333333 19.25      ]\n",
      " [ 2.2         1.66666667]]\n"
     ]
    }
   ],
   "source": [
    "a=np.array([[11,22],[55,77],[11,10]])\n",
    "b=np.array([[1,2],[3,4],[5,6]])\n",
    "#division  a and b\n",
    "print(a/b)"
   ]
  },
  {
   "cell_type": "code",
   "execution_count": 49,
   "id": "5cce0179-21ca-40ce-ab65-dbfe5453149a",
   "metadata": {},
   "outputs": [
    {
     "data": {
      "text/plain": [
       "array([[19, 22],\n",
       "       [43, 50]])"
      ]
     },
     "execution_count": 49,
     "metadata": {},
     "output_type": "execute_result"
    }
   ],
   "source": [
    "a=np.array([[1,2],[3,4]])\n",
    "b=np.array([[5,6],[7,8]])\n",
    "#matrix multiplication\n",
    "np.matmul(a,b)"
   ]
  },
  {
   "cell_type": "code",
   "execution_count": 50,
   "id": "5ffbd564-2512-40b2-b0de-1b3aafd15f5d",
   "metadata": {},
   "outputs": [
    {
     "data": {
      "text/plain": [
       "array([[1, 2],\n",
       "       [3, 4],\n",
       "       [5, 6],\n",
       "       [7, 8]])"
      ]
     },
     "execution_count": 50,
     "metadata": {},
     "output_type": "execute_result"
    }
   ],
   "source": [
    "np.concatenate((a,b),axis=0)\n"
   ]
  },
  {
   "cell_type": "code",
   "execution_count": 51,
   "id": "41c34367-c12a-4076-8cc1-f753eafaff9c",
   "metadata": {},
   "outputs": [
    {
     "data": {
      "text/plain": [
       "array([[1, 2],\n",
       "       [3, 4],\n",
       "       [5, 6],\n",
       "       [7, 8]])"
      ]
     },
     "execution_count": 51,
     "metadata": {},
     "output_type": "execute_result"
    }
   ],
   "source": [
    "#vertical stack\n",
    "np.vstack((a,b))            ##equal to np.concatenate((a,b),axis=0)"
   ]
  },
  {
   "cell_type": "code",
   "execution_count": 52,
   "id": "03ef6988-0e62-43f6-98a9-252f3743d66f",
   "metadata": {},
   "outputs": [
    {
     "data": {
      "text/plain": [
       "array([[1, 2, 5, 6],\n",
       "       [3, 4, 7, 8]])"
      ]
     },
     "execution_count": 52,
     "metadata": {},
     "output_type": "execute_result"
    }
   ],
   "source": [
    "np.concatenate((a,b),axis=1)\n"
   ]
  },
  {
   "cell_type": "code",
   "execution_count": 53,
   "id": "1d1aca26-4807-413a-9099-964211b796a7",
   "metadata": {},
   "outputs": [
    {
     "data": {
      "text/plain": [
       "array([[1, 2, 5, 6],\n",
       "       [3, 4, 7, 8]])"
      ]
     },
     "execution_count": 53,
     "metadata": {},
     "output_type": "execute_result"
    }
   ],
   "source": [
    "#horizantal stack\n",
    "np.hstack((a,b))          #equal to np.concatenate((a,b),axis=1)"
   ]
  },
  {
   "cell_type": "code",
   "execution_count": 30,
   "id": "8f704bfe-407d-4379-bca7-09adc44a6bb1",
   "metadata": {},
   "outputs": [],
   "source": [
    "import numpy as np"
   ]
  },
  {
   "cell_type": "code",
   "execution_count": 31,
   "id": "af4c2319-284b-401c-a584-eb4926e9f989",
   "metadata": {},
   "outputs": [
    {
     "name": "stdout",
     "output_type": "stream",
     "text": [
      "32\n"
     ]
    }
   ],
   "source": [
    "#dot product\n",
    "a=np.array([1,2,3])\n",
    "b=np.array([4,5,6])             #dot product formula (result=np.dot(a,b)\n",
    "result=np.dot(a,b)\n",
    "print(result)"
   ]
  },
  {
   "cell_type": "code",
   "execution_count": 32,
   "id": "02304a7c-dde5-4953-ad1f-e78d3b5a7343",
   "metadata": {},
   "outputs": [
    {
     "name": "stdout",
     "output_type": "stream",
     "text": [
      "16\n"
     ]
    }
   ],
   "source": [
    "#dot product \n",
    "a=np.array([1,2])\n",
    "b=np.array([4,6])             #dot product \n",
    "dot_product=sum(a*b for a, b in zip (a, b))\n",
    "print(dot_product)"
   ]
  },
  {
   "cell_type": "code",
   "execution_count": 2,
   "id": "0febb77a-fae3-4d91-855d-57b23bc65f24",
   "metadata": {},
   "outputs": [
    {
     "name": "stdout",
     "output_type": "stream",
     "text": [
      "[10 15 20 25 30 35 40 45 50 55 60 65 70 75 80 85 90 95]\n"
     ]
    }
   ],
   "source": [
    "import numpy as np\n",
    "a = np.arange(10,100,5)\n",
    "print(a)"
   ]
  },
  {
   "cell_type": "code",
   "execution_count": 33,
   "id": "3ae406b4-017a-4847-90e7-d4faa952da90",
   "metadata": {},
   "outputs": [],
   "source": [
    "import numpy as np\n"
   ]
  },
  {
   "cell_type": "code",
   "execution_count": 34,
   "id": "2278cd5a-f4a9-42a5-91c0-cf2ba63adf9b",
   "metadata": {},
   "outputs": [
    {
     "data": {
      "text/plain": [
       "array([6, 7, 1])"
      ]
     },
     "execution_count": 34,
     "metadata": {},
     "output_type": "execute_result"
    }
   ],
   "source": [
    "np.random.randint(1,10,3)"
   ]
  },
  {
   "cell_type": "code",
   "execution_count": 35,
   "id": "95811083-ffde-44d0-a8e8-7e0949351083",
   "metadata": {},
   "outputs": [
    {
     "data": {
      "text/plain": [
       "array([ 10.,  55., 100.])"
      ]
     },
     "execution_count": 35,
     "metadata": {},
     "output_type": "execute_result"
    }
   ],
   "source": [
    "np.linspace(10,100,3)"
   ]
  },
  {
   "cell_type": "code",
   "execution_count": 36,
   "id": "15174725-aa5a-45c8-8abd-ad66b95abee8",
   "metadata": {},
   "outputs": [
    {
     "data": {
      "text/plain": [
       "array([1. , 1.5, 2. ])"
      ]
     },
     "execution_count": 36,
     "metadata": {},
     "output_type": "execute_result"
    }
   ],
   "source": [
    "np.linspace(1,2,3)"
   ]
  },
  {
   "cell_type": "code",
   "execution_count": 37,
   "id": "096bd859-73d3-4842-b76c-f499fdf01f4d",
   "metadata": {},
   "outputs": [
    {
     "data": {
      "text/plain": [
       "array([[0., 0., 0., 0., 0., 0., 0., 0., 0., 0., 0., 0., 0., 0., 0.],\n",
       "       [0., 0., 0., 0., 0., 0., 0., 0., 0., 0., 0., 0., 0., 0., 0.],\n",
       "       [0., 0., 0., 0., 0., 0., 0., 0., 0., 0., 0., 0., 0., 0., 0.],\n",
       "       [0., 0., 0., 0., 0., 0., 0., 0., 0., 0., 0., 0., 0., 0., 0.],\n",
       "       [0., 0., 0., 0., 0., 0., 0., 0., 0., 0., 0., 0., 0., 0., 0.],\n",
       "       [0., 0., 0., 0., 0., 0., 0., 0., 0., 0., 0., 0., 0., 0., 0.],\n",
       "       [0., 0., 0., 0., 0., 0., 0., 0., 0., 0., 0., 0., 0., 0., 0.],\n",
       "       [0., 0., 0., 0., 0., 0., 0., 0., 0., 0., 0., 0., 0., 0., 0.],\n",
       "       [0., 0., 0., 0., 0., 0., 0., 0., 0., 0., 0., 0., 0., 0., 0.],\n",
       "       [0., 0., 0., 0., 0., 0., 0., 0., 0., 0., 0., 0., 0., 0., 0.]])"
      ]
     },
     "execution_count": 37,
     "metadata": {},
     "output_type": "execute_result"
    }
   ],
   "source": [
    "np.zeros((10,15))"
   ]
  },
  {
   "cell_type": "code",
   "execution_count": 38,
   "id": "cba16a13-3a57-443e-b0e0-b3b5e024fe9e",
   "metadata": {},
   "outputs": [
    {
     "data": {
      "text/plain": [
       "array([[1., 1., 1., 1., 1., 1., 1., 1., 1., 1.],\n",
       "       [1., 1., 1., 1., 1., 1., 1., 1., 1., 1.],\n",
       "       [1., 1., 1., 1., 1., 1., 1., 1., 1., 1.],\n",
       "       [1., 1., 1., 1., 1., 1., 1., 1., 1., 1.],\n",
       "       [1., 1., 1., 1., 1., 1., 1., 1., 1., 1.],\n",
       "       [1., 1., 1., 1., 1., 1., 1., 1., 1., 1.],\n",
       "       [1., 1., 1., 1., 1., 1., 1., 1., 1., 1.],\n",
       "       [1., 1., 1., 1., 1., 1., 1., 1., 1., 1.],\n",
       "       [1., 1., 1., 1., 1., 1., 1., 1., 1., 1.],\n",
       "       [1., 1., 1., 1., 1., 1., 1., 1., 1., 1.]])"
      ]
     },
     "execution_count": 38,
     "metadata": {},
     "output_type": "execute_result"
    }
   ],
   "source": [
    "np.ones((10,10))"
   ]
  },
  {
   "cell_type": "code",
   "execution_count": 39,
   "id": "0a4d4ed9-7133-43df-8e8d-f113a9c474a3",
   "metadata": {},
   "outputs": [
    {
     "data": {
      "text/plain": [
       "array([[0., 0., 0., 0., 0., 0., 0., 0., 0., 0.],\n",
       "       [0., 0., 0., 0., 0., 0., 0., 0., 0., 0.],\n",
       "       [0., 0., 0., 0., 0., 0., 0., 0., 0., 0.],\n",
       "       [0., 0., 0., 0., 0., 0., 0., 0., 0., 0.],\n",
       "       [0., 0., 0., 0., 0., 0., 0., 0., 0., 0.],\n",
       "       [0., 0., 0., 0., 0., 0., 0., 0., 0., 0.],\n",
       "       [0., 0., 0., 0., 0., 0., 0., 0., 0., 0.],\n",
       "       [0., 0., 0., 0., 0., 0., 0., 0., 0., 0.],\n",
       "       [0., 0., 0., 0., 0., 0., 0., 0., 0., 0.],\n",
       "       [0., 0., 0., 0., 0., 0., 0., 0., 0., 0.]])"
      ]
     },
     "execution_count": 39,
     "metadata": {},
     "output_type": "execute_result"
    }
   ],
   "source": [
    "np.zeros((10,10))"
   ]
  },
  {
   "cell_type": "code",
   "execution_count": 43,
   "id": "ee4def22-ade5-4a6f-aaab-fea72066d496",
   "metadata": {},
   "outputs": [
    {
     "data": {
      "text/plain": [
       "array([[1., 0., 0., 0., 0., 0., 0., 0., 0., 0.],\n",
       "       [0., 1., 0., 0., 0., 0., 0., 0., 0., 0.],\n",
       "       [0., 0., 1., 0., 0., 0., 0., 0., 0., 0.],\n",
       "       [0., 0., 0., 1., 0., 0., 0., 0., 0., 0.],\n",
       "       [0., 0., 0., 0., 1., 0., 0., 0., 0., 0.],\n",
       "       [0., 0., 0., 0., 0., 1., 0., 0., 0., 0.],\n",
       "       [0., 0., 0., 0., 0., 0., 1., 0., 0., 0.],\n",
       "       [0., 0., 0., 0., 0., 0., 0., 1., 0., 0.],\n",
       "       [0., 0., 0., 0., 0., 0., 0., 0., 1., 0.],\n",
       "       [0., 0., 0., 0., 0., 0., 0., 0., 0., 1.]])"
      ]
     },
     "execution_count": 43,
     "metadata": {},
     "output_type": "execute_result"
    }
   ],
   "source": [
    "np.eye(10,10)"
   ]
  },
  {
   "cell_type": "code",
   "execution_count": null,
   "id": "8b19a019-45cf-402b-9369-c61c8eb2d23f",
   "metadata": {},
   "outputs": [],
   "source": []
  },
  {
   "cell_type": "code",
   "execution_count": null,
   "id": "ecab3de9-eb6c-4f4f-a634-6b1281f66e44",
   "metadata": {},
   "outputs": [],
   "source": []
  },
  {
   "cell_type": "code",
   "execution_count": null,
   "id": "0d59a702-646d-4d25-9bda-eadf57c13fed",
   "metadata": {},
   "outputs": [],
   "source": []
  }
 ],
 "metadata": {
  "kernelspec": {
   "display_name": "Python 3 (ipykernel)",
   "language": "python",
   "name": "python3"
  },
  "language_info": {
   "codemirror_mode": {
    "name": "ipython",
    "version": 3
   },
   "file_extension": ".py",
   "mimetype": "text/x-python",
   "name": "python",
   "nbconvert_exporter": "python",
   "pygments_lexer": "ipython3",
   "version": "3.12.4"
  }
 },
 "nbformat": 4,
 "nbformat_minor": 5
}
