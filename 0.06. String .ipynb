{
 "cells": [
  {
   "cell_type": "code",
   "execution_count": 2,
   "id": "79cebe49-70b1-4010-9192-83dc0c67b960",
   "metadata": {},
   "outputs": [
    {
     "name": "stdout",
     "output_type": "stream",
     "text": [
      "hello\n"
     ]
    }
   ],
   "source": [
    "print(\"hello\")"
   ]
  },
  {
   "cell_type": "markdown",
   "id": "55469ddb-550c-4b34-a7f7-152fef9e0f11",
   "metadata": {},
   "source": [
    "# single line comment "
   ]
  },
  {
   "cell_type": "code",
   "execution_count": 5,
   "id": "52f7bc50-98bd-4b33-a1e2-a59f8e19b832",
   "metadata": {},
   "outputs": [
    {
     "name": "stdout",
     "output_type": "stream",
     "text": [
      "hello world\n"
     ]
    }
   ],
   "source": [
    "'''\n",
    "1st line \n",
    "2nd line \n",
    "3rd line \n",
    "'''\n",
    "print(\"hello world\")"
   ]
  },
  {
   "cell_type": "code",
   "execution_count": 6,
   "id": "47369b86-d819-4b09-9f8e-1781680be5ac",
   "metadata": {},
   "outputs": [
    {
     "name": "stdout",
     "output_type": "stream",
     "text": [
      "9\n"
     ]
    }
   ],
   "source": [
    "a=9\n",
    "print(a)"
   ]
  },
  {
   "cell_type": "code",
   "execution_count": 10,
   "id": "fb4b4364-6f33-43ab-acd1-8e5dc146804e",
   "metadata": {},
   "outputs": [
    {
     "name": "stdout",
     "output_type": "stream",
     "text": [
      "9\n"
     ]
    }
   ],
   "source": [
    "print(a)"
   ]
  },
  {
   "cell_type": "code",
   "execution_count": 11,
   "id": "c08ba661-4f0b-4373-8992-2138d7800d35",
   "metadata": {},
   "outputs": [
    {
     "name": "stdout",
     "output_type": "stream",
     "text": [
      "nagarjuna\n"
     ]
    }
   ],
   "source": [
    "A=\"nagarjuna\"\n",
    "print(A)"
   ]
  },
  {
   "cell_type": "code",
   "execution_count": 11,
   "id": "71aa0780-bc98-46a9-8e78-0ae35e1f1dcb",
   "metadata": {},
   "outputs": [
    {
     "data": {
      "text/plain": [
       "50"
      ]
     },
     "execution_count": 11,
     "metadata": {},
     "output_type": "execute_result"
    }
   ],
   "source": [
    "a=50\n",
    "a"
   ]
  },
  {
   "cell_type": "markdown",
   "id": "00d84f6a-8c30-432b-a75b-a1aa053c3f77",
   "metadata": {},
   "source": [
    "**Many values to multiple variable** "
   ]
  },
  {
   "cell_type": "code",
   "execution_count": null,
   "id": "db491d36-dcc9-4761-88c8-966609c6ca4f",
   "metadata": {},
   "outputs": [],
   "source": [
    "a,b,c=10,20,30\n",
    "print(a,b,c)"
   ]
  },
  {
   "cell_type": "code",
   "execution_count": 14,
   "id": "2c897d86-f4ce-4013-bb66-c4ef53af3153",
   "metadata": {},
   "outputs": [
    {
     "name": "stdout",
     "output_type": "stream",
     "text": [
      "55 88 98\n"
     ]
    }
   ],
   "source": [
    "d,e,f=55,88,98\n",
    "print(d,e,f)"
   ]
  },
  {
   "cell_type": "markdown",
   "id": "a4f67687-76b0-415e-89da-8e199a354d3b",
   "metadata": {},
   "source": [
    "**one value to multiple variables**"
   ]
  },
  {
   "cell_type": "code",
   "execution_count": 21,
   "id": "73d5d582-e68b-42a1-b78d-581edb22737b",
   "metadata": {},
   "outputs": [
    {
     "name": "stdout",
     "output_type": "stream",
     "text": [
      "30 30 30\n"
     ]
    }
   ],
   "source": [
    "a=b=c=30\n",
    "print(a,b,c)"
   ]
  },
  {
   "cell_type": "code",
   "execution_count": 22,
   "id": "4dcc2ddb-3916-4764-9c80-2d4a979e781b",
   "metadata": {},
   "outputs": [
    {
     "data": {
      "text/plain": [
       "140735434144952"
      ]
     },
     "execution_count": 22,
     "metadata": {},
     "output_type": "execute_result"
    }
   ],
   "source": [
    "a=25\n",
    "id(a)"
   ]
  },
  {
   "cell_type": "code",
   "execution_count": 23,
   "id": "004386f0-01ed-45ba-a75f-18ed9f46bbe5",
   "metadata": {},
   "outputs": [
    {
     "data": {
      "text/plain": [
       "140735434144952"
      ]
     },
     "execution_count": 23,
     "metadata": {},
     "output_type": "execute_result"
    }
   ],
   "source": [
    "id(25)"
   ]
  },
  {
   "cell_type": "markdown",
   "id": "57156317-96aa-4580-bfc0-09c6e4366e81",
   "metadata": {},
   "source": [
    "**In python,latest value will be stored in a varible** "
   ]
  },
  {
   "cell_type": "code",
   "execution_count": 24,
   "id": "72663c63-e149-4769-a837-2082bebd4425",
   "metadata": {},
   "outputs": [
    {
     "name": "stdout",
     "output_type": "stream",
     "text": [
      "arjun\n"
     ]
    }
   ],
   "source": [
    "a=\"arjun\"\n",
    "print(a)"
   ]
  },
  {
   "cell_type": "code",
   "execution_count": 25,
   "id": "b8ca7f34-1f4d-47ed-8fc2-b7f0d5c7679c",
   "metadata": {},
   "outputs": [
    {
     "name": "stdout",
     "output_type": "stream",
     "text": [
      "85\n"
     ]
    }
   ],
   "source": [
    "a=85\n",
    "print(a)"
   ]
  },
  {
   "cell_type": "code",
   "execution_count": 26,
   "id": "c5e09d9c-8034-4464-b78e-4386f1fc0446",
   "metadata": {},
   "outputs": [
    {
     "name": "stdout",
     "output_type": "stream",
     "text": [
      "95\n"
     ]
    }
   ],
   "source": [
    "print(a+10)"
   ]
  },
  {
   "cell_type": "code",
   "execution_count": 27,
   "id": "068b30bf-1a3a-4f24-82cd-99bdc5f6a2e0",
   "metadata": {},
   "outputs": [
    {
     "name": "stdout",
     "output_type": "stream",
     "text": [
      "75\n"
     ]
    }
   ],
   "source": [
    "print(a-10)"
   ]
  },
  {
   "cell_type": "markdown",
   "id": "59d68918-9e8c-44fc-9576-c99e1105fcc3",
   "metadata": {},
   "source": [
    " # **deleting variable**"
   ]
  },
  {
   "cell_type": "markdown",
   "id": "9d50c86f-ff2e-4b61-ad8a-0c3a29cfca84",
   "metadata": {},
   "source": [
    "\n",
    "\n",
    "- syntax to delete single variable\n",
    "- del variable name"
   ]
  },
  {
   "cell_type": "code",
   "execution_count": 1,
   "id": "2c703d89-5873-4f20-b5f9-ef7641691dda",
   "metadata": {},
   "outputs": [],
   "source": [
    "a,b=10,20\n",
    "\n",
    "del a"
   ]
  },
  {
   "cell_type": "code",
   "execution_count": 2,
   "id": "89e0226a-3b36-4c73-b268-f1a5adea8ec3",
   "metadata": {},
   "outputs": [],
   "source": [
    "a,b,c=10,20,30\n",
    "del a,b"
   ]
  },
  {
   "cell_type": "markdown",
   "id": "04483fd8-47b6-4f73-9574-72e41a9ca6da",
   "metadata": {},
   "source": [
    "**Output on python**\n",
    "to print a single value\n",
    "-syntax:print(value)"
   ]
  },
  {
   "cell_type": "code",
   "execution_count": 50,
   "id": "d1bb7ce8-72b6-4422-9c34-1125eb8d046d",
   "metadata": {},
   "outputs": [
    {
     "name": "stdout",
     "output_type": "stream",
     "text": [
      "10\n"
     ]
    }
   ],
   "source": [
    "print(10)                         # print numaric "
   ]
  },
  {
   "cell_type": "code",
   "execution_count": 51,
   "id": "4f7879fe-26e4-448e-9fae-933436f9c560",
   "metadata": {},
   "outputs": [
    {
     "name": "stdout",
     "output_type": "stream",
     "text": [
      "nagarjuna\n"
     ]
    }
   ],
   "source": [
    "print(\"nagarjuna\")                 #print non numaric"
   ]
  },
  {
   "cell_type": "code",
   "execution_count": 4,
   "id": "ffa7207c-f284-47e7-a0c9-953a2a8906a6",
   "metadata": {},
   "outputs": [
    {
     "name": "stdout",
     "output_type": "stream",
     "text": [
      "arjun 14 11 naga\n"
     ]
    }
   ],
   "source": [
    "print(\"arjun\",14,11,\"naga\")"
   ]
  },
  {
   "cell_type": "code",
   "execution_count": 6,
   "id": "9eb607ee-d458-469b-8cbd-6d380c68d107",
   "metadata": {},
   "outputs": [
    {
     "name": "stdout",
     "output_type": "stream",
     "text": [
      "vivekananda 44 45 25\n"
     ]
    }
   ],
   "source": [
    "print(\"vivekananda\",44,45,25)"
   ]
  },
  {
   "cell_type": "code",
   "execution_count": 56,
   "id": "bd147a43-86be-454d-8b54-0e62f3549b69",
   "metadata": {},
   "outputs": [
    {
     "name": "stdout",
     "output_type": "stream",
     "text": [
      "99\n"
     ]
    }
   ],
   "source": [
    "a=99                                 #print variable\n",
    "print(a)"
   ]
  },
  {
   "cell_type": "code",
   "execution_count": 57,
   "id": "8556b6a2-9920-46bf-b9d2-bee295232288",
   "metadata": {},
   "outputs": [
    {
     "name": "stdout",
     "output_type": "stream",
     "text": [
      "10 20\n"
     ]
    }
   ],
   "source": [
    "a,b=10,20\n",
    "print(a,b)"
   ]
  },
  {
   "cell_type": "code",
   "execution_count": 7,
   "id": "3054d762-590f-49d1-982e-77caf44c966b",
   "metadata": {},
   "outputs": [
    {
     "name": "stdout",
     "output_type": "stream",
     "text": [
      "the value of a: 20\n"
     ]
    }
   ],
   "source": [
    "a=20\n",
    "print(\"the value of a:\",a)"
   ]
  },
  {
   "cell_type": "code",
   "execution_count": 60,
   "id": "54b98cfe-b69b-4a88-b8f0-bfc8f5a98601",
   "metadata": {},
   "outputs": [
    {
     "name": "stdout",
     "output_type": "stream",
     "text": [
      "the value of a: 10\n"
     ]
    }
   ],
   "source": [
    "a=10\n",
    "print(\"the value of a:\",a)"
   ]
  },
  {
   "cell_type": "code",
   "execution_count": 9,
   "id": "1e55bd2a-b763-41bc-843a-77a5a9b53b65",
   "metadata": {},
   "outputs": [
    {
     "name": "stdout",
     "output_type": "stream",
     "text": [
      "my number is: 12 and my name is: arjun\n"
     ]
    }
   ],
   "source": [
    "num=12\n",
    "name=\"arjun\"\n",
    "print(\"my number is:\",num,\"and my name is:\",name)"
   ]
  },
  {
   "cell_type": "code",
   "execution_count": 66,
   "id": "d8d982e6-677f-465b-882e-d0e3d5d58d3f",
   "metadata": {},
   "outputs": [
    {
     "name": "stdout",
     "output_type": "stream",
     "text": [
      "my name is: arjun and my num is: 20\n"
     ]
    }
   ],
   "source": [
    "name=\"arjun\"\n",
    "num=20\n",
    "print(\"my name is:\",name,\"and my num is:\",num)"
   ]
  },
  {
   "cell_type": "code",
   "execution_count": 70,
   "id": "1591991a-ca75-4b7f-aaa2-388d49c5eac5",
   "metadata": {},
   "outputs": [
    {
     "name": "stdout",
     "output_type": "stream",
     "text": [
      "my num is: 20 and my name is: arjun\n"
     ]
    }
   ],
   "source": [
    "name=\"arjun\"                                   # print combinational of values and variables\n",
    "num=20\n",
    "print(\"my num is:\",num,\"and my name is:\",name)"
   ]
  },
  {
   "cell_type": "code",
   "execution_count": 10,
   "id": "b0b6d8fe-a64f-4dcd-a578-0bc300cbb26d",
   "metadata": {},
   "outputs": [
    {
     "name": "stdout",
     "output_type": "stream",
     "text": [
      "my name is:arjun and my num is: 20\n"
     ]
    }
   ],
   "source": [
    "name=\"arjun\"                                  #.format()\n",
    "num=20\n",
    "print(\"my name is:{} and my num is: {}\".format(name,num))"
   ]
  },
  {
   "cell_type": "markdown",
   "id": "e62e3d37-0af7-4960-9525-0cc4e53655a3",
   "metadata": {},
   "source": [
    "**interger(int):**"
   ]
  },
  {
   "cell_type": "code",
   "execution_count": 74,
   "id": "ddf415e3-a84f-49a9-93aa-ab200e32b5fa",
   "metadata": {},
   "outputs": [
    {
     "name": "stdout",
     "output_type": "stream",
     "text": [
      "10\n"
     ]
    }
   ],
   "source": [
    "a=10\n",
    "print(a)"
   ]
  },
  {
   "cell_type": "code",
   "execution_count": 75,
   "id": "76409f1d-6960-4231-ab57-0d91dcda709c",
   "metadata": {},
   "outputs": [
    {
     "data": {
      "text/plain": [
       "int"
      ]
     },
     "execution_count": 75,
     "metadata": {},
     "output_type": "execute_result"
    }
   ],
   "source": [
    "type(a)                           #int"
   ]
  },
  {
   "cell_type": "code",
   "execution_count": 76,
   "id": "95de30f3-8fc7-4b6b-9e0a-a6ab48e77767",
   "metadata": {},
   "outputs": [
    {
     "name": "stdout",
     "output_type": "stream",
     "text": [
      "10.2\n"
     ]
    }
   ],
   "source": [
    "a=10.2\n",
    "print(a)"
   ]
  },
  {
   "cell_type": "code",
   "execution_count": 77,
   "id": "975c39b3-b442-4246-bd42-2b793709659e",
   "metadata": {},
   "outputs": [
    {
     "data": {
      "text/plain": [
       "float"
      ]
     },
     "execution_count": 77,
     "metadata": {},
     "output_type": "execute_result"
    }
   ],
   "source": [
    "type(a)                             #float"
   ]
  },
  {
   "cell_type": "code",
   "execution_count": 78,
   "id": "8be7bb92-b988-46b6-9db6-0ab237dbb2a8",
   "metadata": {},
   "outputs": [
    {
     "name": "stdout",
     "output_type": "stream",
     "text": [
      "220.1\n"
     ]
    }
   ],
   "source": [
    "b=220.1\n",
    "print(b)"
   ]
  },
  {
   "cell_type": "code",
   "execution_count": 79,
   "id": "d6b0ddcd-c191-4472-82c5-e17db7926cd9",
   "metadata": {},
   "outputs": [
    {
     "data": {
      "text/plain": [
       "float"
      ]
     },
     "execution_count": 79,
     "metadata": {},
     "output_type": "execute_result"
    }
   ],
   "source": [
    "type(b)                             #a numarical value with decimal"
   ]
  },
  {
   "cell_type": "code",
   "execution_count": 13,
   "id": "c4a8932e-45eb-49ec-9568-0b98f9b38c18",
   "metadata": {},
   "outputs": [
    {
     "name": "stdout",
     "output_type": "stream",
     "text": [
      "devara\n"
     ]
    }
   ],
   "source": [
    "c=\"devara\"                    #a combinational or sequence of characters(alphabets,numbers,special characters)\n",
    "print(c)"
   ]
  },
  {
   "cell_type": "code",
   "execution_count": 14,
   "id": "8e2fa447-337e-457c-9c4d-5e70953a56d8",
   "metadata": {},
   "outputs": [
    {
     "data": {
      "text/plain": [
       "str"
      ]
     },
     "execution_count": 14,
     "metadata": {},
     "output_type": "execute_result"
    }
   ],
   "source": [
    "type(c)                       #we can use single quotes or double quotes to represent string"
   ]
  },
  {
   "cell_type": "code",
   "execution_count": 16,
   "id": "fd8718e3-512a-432e-b71b-d510930c35e2",
   "metadata": {},
   "outputs": [
    {
     "name": "stdout",
     "output_type": "stream",
     "text": [
      "<class 'str'>\n"
     ]
    }
   ],
   "source": [
    "c=\"devara\"\n",
    "print(type (c))"
   ]
  },
  {
   "cell_type": "code",
   "execution_count": 17,
   "id": "3c7bcbed-c962-4b66-a005-e59ff059c87b",
   "metadata": {},
   "outputs": [
    {
     "name": "stdout",
     "output_type": "stream",
     "text": [
      "hello\n",
      "hello\n",
      "hello\n"
     ]
    }
   ],
   "source": [
    "mystring1='hello'\n",
    "print(mystring1)\n",
    "mystring2=\"hello\"\n",
    "print(mystring2)\n",
    "mystring3='''hello'''\n",
    "print(mystring3)"
   ]
  },
  {
   "cell_type": "code",
   "execution_count": 19,
   "id": "bada5656-6b34-49bc-b9bb-a91843c9c1ea",
   "metadata": {},
   "outputs": [
    {
     "name": "stdout",
     "output_type": "stream",
     "text": [
      "hi\n",
      "hello\n",
      "sir\n"
     ]
    }
   ],
   "source": [
    "mystring1='hi'\n",
    "print(mystring1)\n",
    "mystring2=\"hello\"\n",
    "print(mystring2)\n",
    "mystring3='''sir'''\n",
    "print(mystring3)"
   ]
  },
  {
   "cell_type": "code",
   "execution_count": 23,
   "id": "e5b9b0c2-1741-46e6-9656-1167b73df3ff",
   "metadata": {},
   "outputs": [
    {
     "name": "stdout",
     "output_type": "stream",
     "text": [
      "data science\n"
     ]
    }
   ],
   "source": [
    "name='''data science'''\n",
    "\n",
    "print(name)"
   ]
  },
  {
   "cell_type": "code",
   "execution_count": 91,
   "id": "f5d83d6d-d6e4-4549-a387-bd2b2a8fef79",
   "metadata": {},
   "outputs": [
    {
     "data": {
      "text/plain": [
       "int"
      ]
     },
     "execution_count": 91,
     "metadata": {},
     "output_type": "execute_result"
    }
   ],
   "source": [
    "var=123\n",
    "type(var)"
   ]
  },
  {
   "cell_type": "code",
   "execution_count": 25,
   "id": "5bcff17e-f41f-4985-8065-bfe2e6444bc3",
   "metadata": {},
   "outputs": [
    {
     "data": {
      "text/plain": [
       "str"
      ]
     },
     "execution_count": 25,
     "metadata": {},
     "output_type": "execute_result"
    }
   ],
   "source": [
    "var2=\"123\"\n",
    "type(var2)"
   ]
  },
  {
   "cell_type": "code",
   "execution_count": 95,
   "id": "d45c21cf-591e-4473-ae72-cd1e79f1e7a2",
   "metadata": {},
   "outputs": [
    {
     "data": {
      "text/plain": [
       "11"
      ]
     },
     "execution_count": 95,
     "metadata": {},
     "output_type": "execute_result"
    }
   ],
   "source": [
    "string=\"Hello world\"\n",
    "len(string)"
   ]
  },
  {
   "cell_type": "code",
   "execution_count": 30,
   "id": "4030270a-1adf-4499-a735-3077a392895e",
   "metadata": {},
   "outputs": [
    {
     "data": {
      "text/plain": [
       "5"
      ]
     },
     "execution_count": 30,
     "metadata": {},
     "output_type": "execute_result"
    }
   ],
   "source": [
    "string=\"Hello\"\n",
    "len(string)\n"
   ]
  },
  {
   "cell_type": "markdown",
   "id": "deb401ac-1075-4b76-bc5a-2cab86a25f26",
   "metadata": {},
   "source": [
    "# string concatenation\n",
    "- joining of two are more strings into a single one is called concatination\n",
    "- The + operater does this in python.simply writing two string literaals together also concatination them \n",
    "-NOTE: to use + operater for string, compulsory both should be string type only"
   ]
  },
  {
   "cell_type": "code",
   "execution_count": 31,
   "id": "7c37b900-7446-47f7-b065-c99b8d184d0b",
   "metadata": {},
   "outputs": [
    {
     "data": {
      "text/plain": [
       "'helloworld'"
      ]
     },
     "execution_count": 31,
     "metadata": {},
     "output_type": "execute_result"
    }
   ],
   "source": [
    "\"hello\"+\"world\""
   ]
  },
  {
   "cell_type": "code",
   "execution_count": 101,
   "id": "f1cb45db-4ae7-4c0a-b58e-8e74007e2f7d",
   "metadata": {},
   "outputs": [
    {
     "data": {
      "text/plain": [
       "'hello world'"
      ]
     },
     "execution_count": 101,
     "metadata": {},
     "output_type": "execute_result"
    }
   ],
   "source": [
    "\"hello\"+\" \"+\"world\""
   ]
  },
  {
   "cell_type": "code",
   "execution_count": 1,
   "id": "a824014a-d7ca-4abf-bb57-3518b21f40eb",
   "metadata": {},
   "outputs": [
    {
     "data": {
      "text/plain": [
       "'naga16'"
      ]
     },
     "execution_count": 1,
     "metadata": {},
     "output_type": "execute_result"
    }
   ],
   "source": [
    "\"naga\"+\"16\""
   ]
  },
  {
   "cell_type": "code",
   "execution_count": 104,
   "id": "73794267-019a-40dd-bae6-8485759d5423",
   "metadata": {},
   "outputs": [
    {
     "data": {
      "text/plain": [
       "'naga16'"
      ]
     },
     "execution_count": 104,
     "metadata": {},
     "output_type": "execute_result"
    }
   ],
   "source": [
    "\"naga\"+\"16\""
   ]
  },
  {
   "cell_type": "code",
   "execution_count": 32,
   "id": "29011659-4314-45d6-9085-4a1f7233b282",
   "metadata": {},
   "outputs": [
    {
     "data": {
      "text/plain": [
       "'arjunvivek'"
      ]
     },
     "execution_count": 32,
     "metadata": {},
     "output_type": "execute_result"
    }
   ],
   "source": [
    "\"arjun\"+\"vivek\""
   ]
  },
  {
   "cell_type": "code",
   "execution_count": null,
   "id": "fd032bd2-fcec-4a76-8c18-be2259f3e9a4",
   "metadata": {},
   "outputs": [],
   "source": []
  }
 ],
 "metadata": {
  "kernelspec": {
   "display_name": "Python 3 (ipykernel)",
   "language": "python",
   "name": "python3"
  },
  "language_info": {
   "codemirror_mode": {
    "name": "ipython",
    "version": 3
   },
   "file_extension": ".py",
   "mimetype": "text/x-python",
   "name": "python",
   "nbconvert_exporter": "python",
   "pygments_lexer": "ipython3",
   "version": "3.12.4"
  }
 },
 "nbformat": 4,
 "nbformat_minor": 5
}
