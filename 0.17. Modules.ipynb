{
 "cells": [
  {
   "cell_type": "markdown",
   "id": "9fdcef51-ff73-4653-a196-8dd65f1de1f7",
   "metadata": {},
   "source": [
    "# Module"
   ]
  },
  {
   "cell_type": "markdown",
   "id": "e9f7ccfa-480b-4a51-b0d5-eda5ee86bbd7",
   "metadata": {},
   "source": [
    "- A group of functions, variables saved to a python file(.py), which is nothing but module."
   ]
  },
  {
   "cell_type": "markdown",
   "id": "327314b2-6077-42bd-8b9c-333f031c068a",
   "metadata": {},
   "source": [
    "# Types of Modules"
   ]
  },
  {
   "cell_type": "markdown",
   "id": "c9951cec-9a1d-478f-8e6b-ef42365475df",
   "metadata": {},
   "source": [
    "- Inbulit Module\n",
    "- Userdefined Module"
   ]
  },
  {
   "cell_type": "markdown",
   "id": "b19252e7-d396-4cad-9ddd-47959dff7154",
   "metadata": {},
   "source": [
    "# Variours Possibilities of import:"
   ]
  },
  {
   "cell_type": "markdown",
   "id": "ad48c459-a490-4bff-97fe-5bb0cef7cb48",
   "metadata": {},
   "source": [
    "-  1. import modulename\n",
    "-  2. import module1,module2,module3\n",
    "-  3. import module1 as m\n",
    "-  4. import module1 as m1,module2 as m2, module3 as m3\n",
    "-  5. from module import number\n",
    "-  6. from module import member1,member2,member3\n",
    "-  7. from module import member1 as x\n",
    "-  8. from module import*"
   ]
  },
  {
   "cell_type": "markdown",
   "id": "508ea584-1779-4b31-99fc-6ceb3b608f98",
   "metadata": {},
   "source": [
    "**We can acess members by using module name**"
   ]
  },
  {
   "cell_type": "markdown",
   "id": "43c1d500-5361-4189-96e3-1983615c076e",
   "metadata": {},
   "source": [
    "- modulename.variable\n",
    "- modulename.function()"
   ]
  },
  {
   "cell_type": "markdown",
   "id": "f3a2e369-fe1d-44ce-9b17-0aa1680f7d92",
   "metadata": {},
   "source": [
    "# Inbuilt Module"
   ]
  },
  {
   "cell_type": "markdown",
   "id": "f419f854-c176-4f02-881a-9ded98007967",
   "metadata": {},
   "source": [
    "*****Working with math module*****"
   ]
  },
  {
   "cell_type": "markdown",
   "id": "2419da2e-c25b-4c6e-abb7-1402dcde2e2e",
   "metadata": {},
   "source": [
    "- python provides inbuilt module math\n",
    "- This module defines sevaral functions which can be used for mathematical operations"
   ]
  },
  {
   "cell_type": "code",
   "execution_count": 25,
   "id": "ad1d39dd-ab19-45ba-896d-156b0898d7b0",
   "metadata": {},
   "outputs": [],
   "source": [
    "import math"
   ]
  },
  {
   "cell_type": "code",
   "execution_count": 26,
   "id": "30adfd54-c3ac-449b-813f-2bc00fd98d03",
   "metadata": {},
   "outputs": [
    {
     "name": "stdout",
     "output_type": "stream",
     "text": [
      "Help on built-in module math:\n",
      "\n",
      "NAME\n",
      "    math\n",
      "\n",
      "DESCRIPTION\n",
      "    This module provides access to the mathematical functions\n",
      "    defined by the C standard.\n",
      "\n",
      "FUNCTIONS\n",
      "    acos(x, /)\n",
      "        Return the arc cosine (measured in radians) of x.\n",
      "\n",
      "        The result is between 0 and pi.\n",
      "\n",
      "    acosh(x, /)\n",
      "        Return the inverse hyperbolic cosine of x.\n",
      "\n",
      "    asin(x, /)\n",
      "        Return the arc sine (measured in radians) of x.\n",
      "\n",
      "        The result is between -pi/2 and pi/2.\n",
      "\n",
      "    asinh(x, /)\n",
      "        Return the inverse hyperbolic sine of x.\n",
      "\n",
      "    atan(x, /)\n",
      "        Return the arc tangent (measured in radians) of x.\n",
      "\n",
      "        The result is between -pi/2 and pi/2.\n",
      "\n",
      "    atan2(y, x, /)\n",
      "        Return the arc tangent (measured in radians) of y/x.\n",
      "\n",
      "        Unlike atan(y/x), the signs of both x and y are considered.\n",
      "\n",
      "    atanh(x, /)\n",
      "        Return the inverse hyperbolic tangent of x.\n",
      "\n",
      "    cbrt(x, /)\n",
      "        Return the cube root of x.\n",
      "\n",
      "    ceil(x, /)\n",
      "        Return the ceiling of x as an Integral.\n",
      "\n",
      "        This is the smallest integer >= x.\n",
      "\n",
      "    comb(n, k, /)\n",
      "        Number of ways to choose k items from n items without repetition and without order.\n",
      "\n",
      "        Evaluates to n! / (k! * (n - k)!) when k <= n and evaluates\n",
      "        to zero when k > n.\n",
      "\n",
      "        Also called the binomial coefficient because it is equivalent\n",
      "        to the coefficient of k-th term in polynomial expansion of the\n",
      "        expression (1 + x)**n.\n",
      "\n",
      "        Raises TypeError if either of the arguments are not integers.\n",
      "        Raises ValueError if either of the arguments are negative.\n",
      "\n",
      "    copysign(x, y, /)\n",
      "        Return a float with the magnitude (absolute value) of x but the sign of y.\n",
      "\n",
      "        On platforms that support signed zeros, copysign(1.0, -0.0)\n",
      "        returns -1.0.\n",
      "\n",
      "    cos(x, /)\n",
      "        Return the cosine of x (measured in radians).\n",
      "\n",
      "    cosh(x, /)\n",
      "        Return the hyperbolic cosine of x.\n",
      "\n",
      "    degrees(x, /)\n",
      "        Convert angle x from radians to degrees.\n",
      "\n",
      "    dist(p, q, /)\n",
      "        Return the Euclidean distance between two points p and q.\n",
      "\n",
      "        The points should be specified as sequences (or iterables) of\n",
      "        coordinates.  Both inputs must have the same dimension.\n",
      "\n",
      "        Roughly equivalent to:\n",
      "            sqrt(sum((px - qx) ** 2.0 for px, qx in zip(p, q)))\n",
      "\n",
      "    erf(x, /)\n",
      "        Error function at x.\n",
      "\n",
      "    erfc(x, /)\n",
      "        Complementary error function at x.\n",
      "\n",
      "    exp(x, /)\n",
      "        Return e raised to the power of x.\n",
      "\n",
      "    exp2(x, /)\n",
      "        Return 2 raised to the power of x.\n",
      "\n",
      "    expm1(x, /)\n",
      "        Return exp(x)-1.\n",
      "\n",
      "        This function avoids the loss of precision involved in the direct evaluation of exp(x)-1 for small x.\n",
      "\n",
      "    fabs(x, /)\n",
      "        Return the absolute value of the float x.\n",
      "\n",
      "    factorial(n, /)\n",
      "        Find n!.\n",
      "\n",
      "        Raise a ValueError if x is negative or non-integral.\n",
      "\n",
      "    floor(x, /)\n",
      "        Return the floor of x as an Integral.\n",
      "\n",
      "        This is the largest integer <= x.\n",
      "\n",
      "    fmod(x, y, /)\n",
      "        Return fmod(x, y), according to platform C.\n",
      "\n",
      "        x % y may differ.\n",
      "\n",
      "    frexp(x, /)\n",
      "        Return the mantissa and exponent of x, as pair (m, e).\n",
      "\n",
      "        m is a float and e is an int, such that x = m * 2.**e.\n",
      "        If x is 0, m and e are both 0.  Else 0.5 <= abs(m) < 1.0.\n",
      "\n",
      "    fsum(seq, /)\n",
      "        Return an accurate floating point sum of values in the iterable seq.\n",
      "\n",
      "        Assumes IEEE-754 floating point arithmetic.\n",
      "\n",
      "    gamma(x, /)\n",
      "        Gamma function at x.\n",
      "\n",
      "    gcd(*integers)\n",
      "        Greatest Common Divisor.\n",
      "\n",
      "    hypot(...)\n",
      "        hypot(*coordinates) -> value\n",
      "\n",
      "        Multidimensional Euclidean distance from the origin to a point.\n",
      "\n",
      "        Roughly equivalent to:\n",
      "            sqrt(sum(x**2 for x in coordinates))\n",
      "\n",
      "        For a two dimensional point (x, y), gives the hypotenuse\n",
      "        using the Pythagorean theorem:  sqrt(x*x + y*y).\n",
      "\n",
      "        For example, the hypotenuse of a 3/4/5 right triangle is:\n",
      "\n",
      "            >>> hypot(3.0, 4.0)\n",
      "            5.0\n",
      "\n",
      "    isclose(a, b, *, rel_tol=1e-09, abs_tol=0.0)\n",
      "        Determine whether two floating point numbers are close in value.\n",
      "\n",
      "          rel_tol\n",
      "            maximum difference for being considered \"close\", relative to the\n",
      "            magnitude of the input values\n",
      "          abs_tol\n",
      "            maximum difference for being considered \"close\", regardless of the\n",
      "            magnitude of the input values\n",
      "\n",
      "        Return True if a is close in value to b, and False otherwise.\n",
      "\n",
      "        For the values to be considered close, the difference between them\n",
      "        must be smaller than at least one of the tolerances.\n",
      "\n",
      "        -inf, inf and NaN behave similarly to the IEEE 754 Standard.  That\n",
      "        is, NaN is not close to anything, even itself.  inf and -inf are\n",
      "        only close to themselves.\n",
      "\n",
      "    isfinite(x, /)\n",
      "        Return True if x is neither an infinity nor a NaN, and False otherwise.\n",
      "\n",
      "    isinf(x, /)\n",
      "        Return True if x is a positive or negative infinity, and False otherwise.\n",
      "\n",
      "    isnan(x, /)\n",
      "        Return True if x is a NaN (not a number), and False otherwise.\n",
      "\n",
      "    isqrt(n, /)\n",
      "        Return the integer part of the square root of the input.\n",
      "\n",
      "    lcm(*integers)\n",
      "        Least Common Multiple.\n",
      "\n",
      "    ldexp(x, i, /)\n",
      "        Return x * (2**i).\n",
      "\n",
      "        This is essentially the inverse of frexp().\n",
      "\n",
      "    lgamma(x, /)\n",
      "        Natural logarithm of absolute value of Gamma function at x.\n",
      "\n",
      "    log(...)\n",
      "        log(x, [base=math.e])\n",
      "        Return the logarithm of x to the given base.\n",
      "\n",
      "        If the base is not specified, returns the natural logarithm (base e) of x.\n",
      "\n",
      "    log10(x, /)\n",
      "        Return the base 10 logarithm of x.\n",
      "\n",
      "    log1p(x, /)\n",
      "        Return the natural logarithm of 1+x (base e).\n",
      "\n",
      "        The result is computed in a way which is accurate for x near zero.\n",
      "\n",
      "    log2(x, /)\n",
      "        Return the base 2 logarithm of x.\n",
      "\n",
      "    modf(x, /)\n",
      "        Return the fractional and integer parts of x.\n",
      "\n",
      "        Both results carry the sign of x and are floats.\n",
      "\n",
      "    nextafter(x, y, /, *, steps=None)\n",
      "        Return the floating-point value the given number of steps after x towards y.\n",
      "\n",
      "        If steps is not specified or is None, it defaults to 1.\n",
      "\n",
      "        Raises a TypeError, if x or y is not a double, or if steps is not an integer.\n",
      "        Raises ValueError if steps is negative.\n",
      "\n",
      "    perm(n, k=None, /)\n",
      "        Number of ways to choose k items from n items without repetition and with order.\n",
      "\n",
      "        Evaluates to n! / (n - k)! when k <= n and evaluates\n",
      "        to zero when k > n.\n",
      "\n",
      "        If k is not specified or is None, then k defaults to n\n",
      "        and the function returns n!.\n",
      "\n",
      "        Raises TypeError if either of the arguments are not integers.\n",
      "        Raises ValueError if either of the arguments are negative.\n",
      "\n",
      "    pow(x, y, /)\n",
      "        Return x**y (x to the power of y).\n",
      "\n",
      "    prod(iterable, /, *, start=1)\n",
      "        Calculate the product of all the elements in the input iterable.\n",
      "\n",
      "        The default start value for the product is 1.\n",
      "\n",
      "        When the iterable is empty, return the start value.  This function is\n",
      "        intended specifically for use with numeric values and may reject\n",
      "        non-numeric types.\n",
      "\n",
      "    radians(x, /)\n",
      "        Convert angle x from degrees to radians.\n",
      "\n",
      "    remainder(x, y, /)\n",
      "        Difference between x and the closest integer multiple of y.\n",
      "\n",
      "        Return x - n*y where n*y is the closest integer multiple of y.\n",
      "        In the case where x is exactly halfway between two multiples of\n",
      "        y, the nearest even value of n is used. The result is always exact.\n",
      "\n",
      "    sin(x, /)\n",
      "        Return the sine of x (measured in radians).\n",
      "\n",
      "    sinh(x, /)\n",
      "        Return the hyperbolic sine of x.\n",
      "\n",
      "    sqrt(x, /)\n",
      "        Return the square root of x.\n",
      "\n",
      "    sumprod(p, q, /)\n",
      "        Return the sum of products of values from two iterables p and q.\n",
      "\n",
      "        Roughly equivalent to:\n",
      "\n",
      "            sum(itertools.starmap(operator.mul, zip(p, q, strict=True)))\n",
      "\n",
      "        For float and mixed int/float inputs, the intermediate products\n",
      "        and sums are computed with extended precision.\n",
      "\n",
      "    tan(x, /)\n",
      "        Return the tangent of x (measured in radians).\n",
      "\n",
      "    tanh(x, /)\n",
      "        Return the hyperbolic tangent of x.\n",
      "\n",
      "    trunc(x, /)\n",
      "        Truncates the Real x to the nearest Integral toward 0.\n",
      "\n",
      "        Uses the __trunc__ magic method.\n",
      "\n",
      "    ulp(x, /)\n",
      "        Return the value of the least significant bit of the float x.\n",
      "\n",
      "DATA\n",
      "    e = 2.718281828459045\n",
      "    inf = inf\n",
      "    nan = nan\n",
      "    pi = 3.141592653589793\n",
      "    tau = 6.283185307179586\n",
      "\n",
      "FILE\n",
      "    (built-in)\n",
      "\n",
      "\n"
     ]
    }
   ],
   "source": [
    "help(math)"
   ]
  },
  {
   "cell_type": "code",
   "execution_count": 29,
   "id": "b036cc65-e6f3-42d4-a122-f4e65a6668de",
   "metadata": {},
   "outputs": [
    {
     "data": {
      "text/plain": [
       "3.1622776601683795"
      ]
     },
     "execution_count": 29,
     "metadata": {},
     "output_type": "execute_result"
    }
   ],
   "source": [
    "#option-1\n",
    "import math\n",
    "math.sqrt(10)"
   ]
  },
  {
   "cell_type": "code",
   "execution_count": 31,
   "id": "ee92afb8-c9cb-466a-a9d9-da45741e0faf",
   "metadata": {},
   "outputs": [
    {
     "data": {
      "text/plain": [
       "3.1622776601683795"
      ]
     },
     "execution_count": 31,
     "metadata": {},
     "output_type": "execute_result"
    }
   ],
   "source": [
    "#option-2\n",
    "from math import*\n",
    "sqrt(10)"
   ]
  },
  {
   "cell_type": "code",
   "execution_count": 33,
   "id": "5fd9fc51-7277-44fa-ad09-d7d702ece6e8",
   "metadata": {},
   "outputs": [
    {
     "data": {
      "text/plain": [
       "3.1622776601683795"
      ]
     },
     "execution_count": 33,
     "metadata": {},
     "output_type": "execute_result"
    }
   ],
   "source": [
    "#option-3\n",
    "from math import sqrt\n",
    "sqrt(10)"
   ]
  },
  {
   "cell_type": "markdown",
   "id": "ec64830b-ed3e-4e93-8bed-2e11cfdc94a2",
   "metadata": {},
   "source": [
    "# 'Random' Module"
   ]
  },
  {
   "cell_type": "markdown",
   "id": "64c4c815-67b3-455b-8297-f8c78032e03b",
   "metadata": {},
   "source": [
    "- This module defines several functions to generate random numbers.\n",
    "- We can use these functions while developing game, in crytography and to genarate random numbers on fly for auathentication"
   ]
  },
  {
   "cell_type": "code",
   "execution_count": 34,
   "id": "fa00cefa-a151-495c-b768-09fc9d7afb9e",
   "metadata": {},
   "outputs": [],
   "source": [
    "import random"
   ]
  },
  {
   "cell_type": "code",
   "execution_count": 35,
   "id": "c7cb0344-b912-454c-a9d0-20f4c8f97dee",
   "metadata": {},
   "outputs": [
    {
     "data": {
      "text/plain": [
       "0.7611701301829138"
      ]
     },
     "execution_count": 35,
     "metadata": {},
     "output_type": "execute_result"
    }
   ],
   "source": [
    "#random() function:This function always genarate same float value between 0 and 1 (not)\n",
    "random.random()"
   ]
  },
  {
   "cell_type": "code",
   "execution_count": 38,
   "id": "ec1643f9-ff6f-4d54-8aa9-564938a574cc",
   "metadata": {},
   "outputs": [
    {
     "data": {
      "text/plain": [
       "37"
      ]
     },
     "execution_count": 38,
     "metadata": {},
     "output_type": "execute_result"
    }
   ],
   "source": [
    "#randint() function: To genarate random integer between two given numbers(inclusive)\n",
    "random.randint(1,100)"
   ]
  },
  {
   "cell_type": "code",
   "execution_count": 39,
   "id": "8176885a-c20d-4f98-8ec3-480725645af3",
   "metadata": {},
   "outputs": [
    {
     "data": {
      "text/plain": [
       "'arjun'"
      ]
     },
     "execution_count": 39,
     "metadata": {},
     "output_type": "execute_result"
    }
   ],
   "source": [
    "# randrange() function: To genarate random integer.It will return a random object from the \n",
    "list=['arjun','surya','ajay']\n",
    "random.choice(list)"
   ]
  },
  {
   "cell_type": "markdown",
   "id": "fda99627-757f-48f9-bc51-83b901f64cf4",
   "metadata": {},
   "source": [
    "# Userdefined Modules"
   ]
  },
  {
   "cell_type": "markdown",
   "id": "acba2344-a6ae-4c2c-bdf0-0739d944a0ea",
   "metadata": {},
   "source": [
    "**Working Directory**\n",
    "- the location where your present jupyter notebook file is located"
   ]
  },
  {
   "cell_type": "markdown",
   "id": "ddfc23e9-80f9-463f-9e08-6f5103e94767",
   "metadata": {},
   "source": [
    "**to check the working directory**"
   ]
  },
  {
   "cell_type": "code",
   "execution_count": 40,
   "id": "5677bfcc-8b53-4670-b086-5c1e6e30d960",
   "metadata": {},
   "outputs": [
    {
     "data": {
      "text/plain": [
       "'C:\\\\Users\\\\NAGARJUNA\\\\OneDrive\\\\Documents'"
      ]
     },
     "execution_count": 40,
     "metadata": {},
     "output_type": "execute_result"
    }
   ],
   "source": [
    "pwd"
   ]
  },
  {
   "cell_type": "code",
   "execution_count": 41,
   "id": "e1743805-119e-47dc-a1bd-8ffad6c25480",
   "metadata": {},
   "outputs": [],
   "source": [
    "import naga"
   ]
  },
  {
   "cell_type": "markdown",
   "id": "1cb7983a-7c4b-48ff-ab0e-e5d401e3021e",
   "metadata": {},
   "source": [
    "**Note:**\n",
    "- This will work, only when we have used defined module in our working directory"
   ]
  },
  {
   "cell_type": "markdown",
   "id": "416b991c-5d71-4d7d-b5ab-acafd5b43824",
   "metadata": {},
   "source": [
    "**Changing Working directory**"
   ]
  },
  {
   "cell_type": "code",
   "execution_count": 43,
   "id": "9cc8ff5c-f8b4-4520-836d-decde1f1f103",
   "metadata": {},
   "outputs": [
    {
     "name": "stdout",
     "output_type": "stream",
     "text": [
      "C:\\Users\\NAGARJUNA\\OneDrive\\Documents\n"
     ]
    }
   ],
   "source": [
    "cd C:\\\\Users\\\\NAGARJUNA\\\\OneDrive\\\\Documents"
   ]
  },
  {
   "cell_type": "markdown",
   "id": "988eaa9a-d1b7-43f4-847e-41b0ecb69508",
   "metadata": {},
   "source": [
    "***Various options for import***"
   ]
  },
  {
   "cell_type": "raw",
   "id": "d43a9f5c-2d15-4bb5-8ec2-0be76b4cc388",
   "metadata": {},
   "source": [
    "import nag"
   ]
  },
  {
   "cell_type": "code",
   "execution_count": 46,
   "id": "22bebabc-2337-4923-9c8d-04a15af03bb9",
   "metadata": {},
   "outputs": [
    {
     "name": "stdout",
     "output_type": "stream",
     "text": [
      "30\n",
      "-10\n",
      "200\n"
     ]
    }
   ],
   "source": [
    "#option-1\n",
    "import nag\n",
    "print(nag.add(10,20))\n",
    "print(nag.sub(10,20))\n",
    "print(nag.mul(10,20))"
   ]
  },
  {
   "cell_type": "code",
   "execution_count": 48,
   "id": "0d66e584-56d1-40c8-bb4b-88c46d178974",
   "metadata": {},
   "outputs": [
    {
     "name": "stdout",
     "output_type": "stream",
     "text": [
      "33\n",
      "-10\n",
      "200\n"
     ]
    }
   ],
   "source": [
    "#option-2\n",
    "\n",
    "from nag import*\n",
    "\n",
    "print(add(10,23))\n",
    "print(sub(10,20))\n",
    "print(mul(10,20))"
   ]
  },
  {
   "cell_type": "code",
   "execution_count": 52,
   "id": "56473c28-7c7a-4fea-8f09-7a840dac03a0",
   "metadata": {},
   "outputs": [
    {
     "name": "stdout",
     "output_type": "stream",
     "text": [
      "64\n",
      "10\n",
      "200\n"
     ]
    }
   ],
   "source": [
    "#option-3\n",
    "\n",
    "from nag import add,sub,mul\n",
    "\n",
    "print(add(10,54))\n",
    "print(sub(20,10))\n",
    "print(mul(10,20))"
   ]
  },
  {
   "cell_type": "code",
   "execution_count": 53,
   "id": "4665d5ee-45fe-481f-93cd-13b440eff65d",
   "metadata": {},
   "outputs": [
    {
     "name": "stdout",
     "output_type": "stream",
     "text": [
      "50\n",
      "30\n",
      "100\n"
     ]
    }
   ],
   "source": [
    "#option-4\n",
    "\n",
    "import nag as n\n",
    "\n",
    "print(n.add(20,30))\n",
    "print(n.sub(50,20))\n",
    "print(n.mul(5,20))"
   ]
  },
  {
   "cell_type": "code",
   "execution_count": 22,
   "id": "178d1588-3601-4761-92ff-a86280a4c186",
   "metadata": {},
   "outputs": [
    {
     "data": {
      "text/plain": [
       "'C:\\\\Users\\\\NAGARJUNA\\\\OneDrive\\\\Documents'"
      ]
     },
     "execution_count": 22,
     "metadata": {},
     "output_type": "execute_result"
    }
   ],
   "source": [
    "pwd"
   ]
  },
  {
   "cell_type": "code",
   "execution_count": 16,
   "id": "0eef4a14-9a57-444c-a5b0-5b27115cc649",
   "metadata": {},
   "outputs": [
    {
     "name": "stdout",
     "output_type": "stream",
     "text": [
      "4\n",
      "0\n",
      "2\n"
     ]
    }
   ],
   "source": [
    "import nag as n\n",
    "print(n.add(2,2))\n",
    "print(n.sub(2,2))\n",
    "print(n.mul(2,1))"
   ]
  },
  {
   "cell_type": "code",
   "execution_count": 17,
   "id": "0e67f7a9-ca7d-40e6-bf10-e99d2ac57513",
   "metadata": {},
   "outputs": [],
   "source": [
    "import nag as n"
   ]
  },
  {
   "cell_type": "code",
   "execution_count": 18,
   "id": "d075d607-86b7-497c-b854-5d573757525b",
   "metadata": {},
   "outputs": [
    {
     "name": "stdout",
     "output_type": "stream",
     "text": [
      "79\n",
      "4\n",
      "50\n"
     ]
    }
   ],
   "source": [
    "print(n.add(25,54))\n",
    "print(n.sub(25,21))\n",
    "print(n.mul(5,10))"
   ]
  },
  {
   "cell_type": "code",
   "execution_count": 21,
   "id": "1320aa4d-fd9b-4517-a220-6f6c5cf09907",
   "metadata": {},
   "outputs": [
    {
     "data": {
      "text/plain": [
       "['__builtins__',\n",
       " '__cached__',\n",
       " '__doc__',\n",
       " '__file__',\n",
       " '__loader__',\n",
       " '__name__',\n",
       " '__package__',\n",
       " '__spec__',\n",
       " 'add',\n",
       " 'mul',\n",
       " 'sub']"
      ]
     },
     "execution_count": 21,
     "metadata": {},
     "output_type": "execute_result"
    }
   ],
   "source": [
    "dir(n)"
   ]
  },
  {
   "cell_type": "code",
   "execution_count": 55,
   "id": "51ac6012-9fb8-4745-81f5-1ef29bedd863",
   "metadata": {},
   "outputs": [],
   "source": [
    "import nag as A\n"
   ]
  },
  {
   "cell_type": "code",
   "execution_count": 56,
   "id": "dee4f19b-3063-4574-a7f3-92fc3761f337",
   "metadata": {},
   "outputs": [
    {
     "name": "stdout",
     "output_type": "stream",
     "text": [
      "30\n",
      "-10\n",
      "200\n"
     ]
    }
   ],
   "source": [
    "print(A.add(10,20))\n",
    "print(A.sub(10,20))\n",
    "print(A.mul(10,20))\n",
    "      "
   ]
  },
  {
   "cell_type": "code",
   "execution_count": null,
   "id": "13e0adbe-660d-480d-a331-70aaab189140",
   "metadata": {},
   "outputs": [],
   "source": []
  }
 ],
 "metadata": {
  "kernelspec": {
   "display_name": "Python 3 (ipykernel)",
   "language": "python",
   "name": "python3"
  },
  "language_info": {
   "codemirror_mode": {
    "name": "ipython",
    "version": 3
   },
   "file_extension": ".py",
   "mimetype": "text/x-python",
   "name": "python",
   "nbconvert_exporter": "python",
   "pygments_lexer": "ipython3",
   "version": "3.12.4"
  }
 },
 "nbformat": 4,
 "nbformat_minor": 5
}
