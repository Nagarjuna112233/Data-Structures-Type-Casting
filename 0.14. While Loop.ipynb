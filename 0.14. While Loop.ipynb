{
 "cells": [
  {
   "cell_type": "markdown",
   "id": "1217247a-75c9-4607-95aa-010d9cbdf5a6",
   "metadata": {},
   "source": [
    "# While Loop\n"
   ]
  },
  {
   "cell_type": "markdown",
   "id": "acb6475d-b592-4b9a-824c-f4bc5bb4944a",
   "metadata": {},
   "source": [
    "**what is loop?**"
   ]
  },
  {
   "cell_type": "markdown",
   "id": "0a34c16c-8c44-4611-8ecd-bb7cb48d524b",
   "metadata": {},
   "source": [
    "- Repeating block of code"
   ]
  },
  {
   "cell_type": "markdown",
   "id": "0506006c-e556-4155-894c-f92219b53cd7",
   "metadata": {},
   "source": [
    "**While Loop**"
   ]
  },
  {
   "cell_type": "markdown",
   "id": "b06812e7-8995-40af-ba9d-c8a694afbc9d",
   "metadata": {},
   "source": [
    "Code will be executed till the condition **Satified** (Repeted the block of code till condition is True)"
   ]
  },
  {
   "cell_type": "markdown",
   "id": "65085b63-1888-4608-ada2-f568f3fece54",
   "metadata": {},
   "source": [
    "- Multiple  time condition will be checked and block executed for multiple times"
   ]
  },
  {
   "cell_type": "markdown",
   "id": "fbbc0cfe-5475-4451-af04-3366a3be9dca",
   "metadata": {},
   "source": [
    "# Note"
   ]
  },
  {
   "cell_type": "markdown",
   "id": "3f37b519-b390-4170-9222-bd5c91bf573d",
   "metadata": {},
   "source": [
    "- If we want infinite loop we use True in While i.e.While True"
   ]
  },
  {
   "cell_type": "markdown",
   "id": "0048d246-17fc-4f91-9969-bc61c41968d5",
   "metadata": {},
   "source": [
    "- **Option**1: Click on Interrupt kernal"
   ]
  },
  {
   "cell_type": "markdown",
   "id": "14dfe808-3b60-4ee4-b38e-685c8a76097c",
   "metadata": {},
   "source": [
    "- **Option**2:We can use break"
   ]
  },
  {
   "cell_type": "code",
   "execution_count": 1,
   "id": "bfe9cfd0-b408-48e3-a4ea-33fe262c0ec7",
   "metadata": {},
   "outputs": [
    {
     "name": "stdout",
     "output_type": "stream",
     "text": [
      "Arjun\n",
      "Arjun\n",
      "Arjun\n",
      "Arjun\n",
      "Arjun\n"
     ]
    }
   ],
   "source": [
    "#ex: printing my name 5times\n",
    "i = 0\n",
    "while i<5:\n",
    "    print('Arjun')\n",
    "    i=i+1"
   ]
  },
  {
   "cell_type": "code",
   "execution_count": 2,
   "id": "6fbad02b-cd6d-475e-bb39-dce68c54eb4b",
   "metadata": {},
   "outputs": [
    {
     "name": "stdout",
     "output_type": "stream",
     "text": [
      "age\n",
      "1\n",
      "age\n",
      "2\n",
      "age\n",
      "3\n",
      "age\n",
      "4\n",
      "age\n",
      "5\n",
      "age\n",
      "6\n",
      "age\n",
      "7\n",
      "age\n",
      "8\n",
      "age\n",
      "9\n",
      "age\n",
      "10\n",
      "age\n",
      "11\n",
      "age\n",
      "12\n",
      "age\n",
      "13\n",
      "age\n",
      "14\n",
      "age\n",
      "15\n",
      "age\n",
      "16\n",
      "age\n",
      "17\n",
      "age\n",
      "18\n",
      "age\n",
      "19\n",
      "age\n",
      "20\n",
      "age\n",
      "21\n"
     ]
    }
   ],
   "source": [
    "#ex: printing my age.\n",
    "i = 0\n",
    "while i<21:\n",
    "    print('age')\n",
    "    i=i+1\n",
    "    print(i)"
   ]
  },
  {
   "cell_type": "code",
   "execution_count": 3,
   "id": "19e93af9-bc47-4895-9b88-d083cbc14aeb",
   "metadata": {},
   "outputs": [
    {
     "name": "stdout",
     "output_type": "stream",
     "text": [
      "Arjun\n",
      "surya Bhai\n",
      "1\n",
      "surya Bhai\n",
      "2\n",
      "surya Bhai\n",
      "3\n",
      "surya Bhai\n",
      "4\n",
      "surya Bhai\n",
      "5\n",
      "surya Bhai\n",
      "6\n"
     ]
    }
   ],
   "source": [
    "if 1<5:\n",
    "    print(\"Arjun\")\n",
    "    i=0\n",
    "    while i<=5:\n",
    "        print(\"surya Bhai\")\n",
    "        i=i+1\n",
    "        print(i)"
   ]
  },
  {
   "cell_type": "code",
   "execution_count": 4,
   "id": "3fab6780-a60a-4c8c-9f7c-fc1e905ac861",
   "metadata": {},
   "outputs": [
    {
     "name": "stdout",
     "output_type": "stream",
     "text": [
      "N\n",
      "20\n"
     ]
    }
   ],
   "source": [
    "i=0\n",
    "while i<10:\n",
    "    print('N')\n",
    "    i=i+20\n",
    "    print(i)\n",
    "    "
   ]
  },
  {
   "cell_type": "code",
   "execution_count": 1,
   "id": "461364e6-8c93-4aab-99f0-90b2f1ed0d12",
   "metadata": {},
   "outputs": [
    {
     "name": "stdout",
     "output_type": "stream",
     "text": [
      "n\n"
     ]
    }
   ],
   "source": [
    "i=1\n",
    "while True:\n",
    "    print('n')\n",
    "    i=i+1\n",
    "    if i<10:\n",
    "       break"
   ]
  },
  {
   "cell_type": "code",
   "execution_count": 6,
   "id": "d4830048-4cbd-47c3-99ef-ec5ccdb1f55a",
   "metadata": {},
   "outputs": [
    {
     "name": "stdout",
     "output_type": "stream",
     "text": [
      "N\n",
      "2\n",
      "N\n",
      "3\n",
      "N\n",
      "4\n",
      "N\n",
      "5\n",
      "N\n",
      "6\n",
      "N\n",
      "7\n",
      "N\n",
      "8\n",
      "N\n",
      "9\n",
      "N\n",
      "10\n",
      "N\n",
      "11\n"
     ]
    }
   ],
   "source": [
    "i=1\n",
    "while i<=10:\n",
    "    print('N')\n",
    "    i=i+1\n",
    "    print(i)\n",
    "    "
   ]
  },
  {
   "cell_type": "code",
   "execution_count": 9,
   "id": "c86e93a4-f61d-4af6-b0f3-56aebbced885",
   "metadata": {},
   "outputs": [
    {
     "name": "stdout",
     "output_type": "stream",
     "text": [
      "sur\n",
      "3\n",
      "sur\n",
      "5\n",
      "sur\n",
      "7\n",
      "sur\n",
      "9\n",
      "sur\n",
      "11\n"
     ]
    }
   ],
   "source": [
    "i=1\n",
    "while i<=10:\n",
    "    print(\"sur\")\n",
    "    i=i+2\n",
    "    print(i)"
   ]
  },
  {
   "cell_type": "code",
   "execution_count": 11,
   "id": "e9052d0b-fe98-4b7e-a46c-f61ffe1b02da",
   "metadata": {},
   "outputs": [
    {
     "name": "stdout",
     "output_type": "stream",
     "text": [
      "data\n",
      "data\n",
      "data\n"
     ]
    }
   ],
   "source": [
    "i=100\n",
    "while i>10:\n",
    "    print('data')\n",
    "    i=i-20\n",
    "    if i==40:\n",
    "        break"
   ]
  },
  {
   "cell_type": "code",
   "execution_count": 2,
   "id": "de510134-df92-46ba-b767-c160266dc5cf",
   "metadata": {},
   "outputs": [
    {
     "name": "stdout",
     "output_type": "stream",
     "text": [
      "n\n",
      "D\n",
      "D\n"
     ]
    }
   ],
   "source": [
    "if 1<5:\n",
    "    print(\"n\")\n",
    "    i=5\n",
    "    while i<=10:\n",
    "        print('D')\n",
    "        i=i+5\n",
    "    "
   ]
  },
  {
   "cell_type": "code",
   "execution_count": 5,
   "id": "bb98ebf1-986f-46d8-affb-58febdf5b4cf",
   "metadata": {},
   "outputs": [
    {
     "name": "stdin",
     "output_type": "stream",
     "text": [
      "enter the number: 20\n",
      "enter the number: 20\n",
      "enter the number: 40\n",
      "enter the number: 50\n",
      "enter the number: 100\n"
     ]
    },
    {
     "name": "stdout",
     "output_type": "stream",
     "text": [
      "230\n"
     ]
    }
   ],
   "source": [
    "i=0\n",
    "t=0\n",
    "while i<5:\n",
    "    n=eval(input(\"enter the number:\"))\n",
    "    t=t+n\n",
    "    i=i+1\n",
    "print(t)\n"
   ]
  },
  {
   "cell_type": "code",
   "execution_count": 9,
   "id": "2ef1875a-047b-4006-9508-36be7c5c3303",
   "metadata": {},
   "outputs": [
    {
     "name": "stdout",
     "output_type": "stream",
     "text": [
      "data\n",
      "naga\n",
      "10\n"
     ]
    }
   ],
   "source": [
    " if 1<5:\n",
    "     print(\"data\")\n",
    "     i=5\n",
    "     while i<+10:\n",
    "         print(\"naga\")\n",
    "         i=i+5\n",
    "         print(i)"
   ]
  },
  {
   "cell_type": "code",
   "execution_count": 6,
   "id": "94858051-2d34-4b85-a095-9a9ed2535253",
   "metadata": {},
   "outputs": [
    {
     "name": "stdin",
     "output_type": "stream",
     "text": [
      "enter a number: 1\n",
      "enter a number: 2\n",
      "enter a number: 3\n",
      "enter a number: 4\n",
      "enter a number: 1\n",
      "enter a number: 2\n"
     ]
    }
   ],
   "source": [
    "i=0\n",
    "while i<=5:\n",
    "    n=eval(input(\"enter a number:\"))\n",
    "    i=i+1"
   ]
  },
  {
   "cell_type": "code",
   "execution_count": 17,
   "id": "eb8396fb-3814-48a3-a9fc-d87763af61fe",
   "metadata": {},
   "outputs": [
    {
     "name": "stdin",
     "output_type": "stream",
     "text": [
      "enter the number: 8\n",
      "enter the number: 9\n",
      "enter the number: 56\n",
      "enter the number: 33\n",
      "enter the number: 23\n",
      "enter the number: 56\n",
      "enter the number: #\n"
     ]
    },
    {
     "name": "stdout",
     "output_type": "stream",
     "text": [
      "sum of values: 185\n"
     ]
    }
   ],
   "source": [
    "s=0\n",
    "while True:\n",
    "    n=input(\"enter the number:\")\n",
    "    if n==\"#\":\n",
    "        break\n",
    "    s=s+eval(n)\n",
    "print(\"sum of values:\",s)"
   ]
  },
  {
   "cell_type": "code",
   "execution_count": 20,
   "id": "751e0bba-74ef-4a2a-b7ba-cf069c65c429",
   "metadata": {},
   "outputs": [
    {
     "name": "stdout",
     "output_type": "stream",
     "text": [
      "2\n",
      "4\n",
      "today class is clear\n"
     ]
    }
   ],
   "source": [
    "i=2\n",
    "while i<=5:\n",
    "    print(i)\n",
    "    i=i+2\n",
    "    if i==7:\n",
    "        break\n",
    "else:\n",
    "    print(\"today class is clear\")"
   ]
  },
  {
   "cell_type": "code",
   "execution_count": 22,
   "id": "48204902-b85e-4498-88b3-9d1848745e94",
   "metadata": {},
   "outputs": [
    {
     "name": "stdout",
     "output_type": "stream",
     "text": [
      "1\n",
      "3\n",
      "5\n",
      "today class is clear\n"
     ]
    }
   ],
   "source": [
    "i=1\n",
    "while i<=5:\n",
    "    print(i)\n",
    "    i=i+2\n",
    "    if i>=10:\n",
    "        break\n",
    "else:\n",
    "    print(\"today class is clear\")"
   ]
  },
  {
   "cell_type": "code",
   "execution_count": 8,
   "id": "9cd5c19c-de9d-484a-8955-b5ed4ed637a3",
   "metadata": {},
   "outputs": [
    {
     "name": "stdout",
     "output_type": "stream",
     "text": [
      "6\n"
     ]
    }
   ],
   "source": [
    "x=0\n",
    "while x<5:\n",
    "    x=x+3\n",
    "print(x)"
   ]
  },
  {
   "cell_type": "code",
   "execution_count": 13,
   "id": "c10fec21-9c00-4d5b-ab6f-431e095466e8",
   "metadata": {},
   "outputs": [
    {
     "name": "stdout",
     "output_type": "stream",
     "text": [
      "0/1/2/3/4/5/6/7/8/9/10/11/12/13/14/15/16/17/18/19/20/21/22/23/24/25/26/27/28/29/30/31/32/33/34/35/36/37/38/39/40/41/42/43/44/45/46/47/48/49/50/51/52/53/54/55/56/57/58/59/60/61/62/63/64/65/66/67/68/69/70/71/72/73/74/75/76/77/78/79/80/81/82/83/84/85/86/87/88/89/90/91/92/93/94/95/96/97/98/99/100/"
     ]
    }
   ],
   "source": [
    "i=0\n",
    "while i<=100:\n",
    "    print(i,end='/')\n",
    "    i=i+1"
   ]
  },
  {
   "cell_type": "code",
   "execution_count": 18,
   "id": "3457d798-8112-4287-9505-9f6fbcd4cda9",
   "metadata": {},
   "outputs": [
    {
     "name": "stdout",
     "output_type": "stream",
     "text": [
      "[0, 1, 2, 3, 4, 5, 6, 7, 8, 9, 10, 11, 12, 13, 14, 15, 16, 17, 18, 19, 20, 21, 22, 23, 24, 25, 26, 27, 28, 29, 30, 31, 32, 33, 34, 35, 36, 37, 38, 39, 40, 41, 42, 43, 44, 45, 46, 47, 48, 49, 50, 51, 52, 53, 54, 55, 56, 57, 58, 59, 60, 61, 62, 63, 64, 65, 66, 67, 68, 69, 70, 71, 72, 73, 74, 75, 76, 77, 78, 79, 80, 81, 82, 83, 84, 85, 86, 87, 88, 89, 90, 91, 92, 93, 94, 95, 96, 97, 98, 99, 100]\n"
     ]
    }
   ],
   "source": [
    "i=0\n",
    "l=[]\n",
    "while i<=100:\n",
    "    l.append(i)\n",
    "    i=i+1\n",
    "\n",
    "print(l)"
   ]
  },
  {
   "cell_type": "markdown",
   "id": "124bde5e-d8c3-4a6c-a77b-6cd274ac6289",
   "metadata": {},
   "source": [
    "**Ask the user to enter any 3 values & save the into a list**"
   ]
  },
  {
   "cell_type": "code",
   "execution_count": 20,
   "id": "e990fcb4-cd80-4f91-993a-d6cb7a6e0b27",
   "metadata": {},
   "outputs": [
    {
     "name": "stdin",
     "output_type": "stream",
     "text": [
      "enter the number: 34\n",
      "enter the number: 24\n",
      "enter the number: 56\n"
     ]
    },
    {
     "name": "stdout",
     "output_type": "stream",
     "text": [
      "[34, 24, 56]\n"
     ]
    }
   ],
   "source": [
    "i=1\n",
    "l=[]\n",
    "while i<=3:\n",
    "    n=int(input('enter the number:'))\n",
    "    l.append(n)\n",
    "    i=i+1\n",
    "print(l)"
   ]
  },
  {
   "cell_type": "markdown",
   "id": "c73293ee-1d55-4ca9-a0d2-a9dd90d89736",
   "metadata": {},
   "source": [
    "**Ask the user to enter  any 5 values & identify the largest number**"
   ]
  },
  {
   "cell_type": "code",
   "execution_count": 26,
   "id": "c43ebbbc-3f20-4973-895a-87fa7a3f8f12",
   "metadata": {},
   "outputs": [
    {
     "name": "stdin",
     "output_type": "stream",
     "text": [
      "enter the values: 1\n",
      "enter the values: 2\n",
      "enter the values: 3.4\n",
      "enter the values: 4\n",
      "enter the values: 5\n",
      "enter the values: 6\n"
     ]
    },
    {
     "name": "stdout",
     "output_type": "stream",
     "text": [
      "the largest value is: 6\n"
     ]
    }
   ],
   "source": [
    "i=0\n",
    "l=[]\n",
    "while i<=5:\n",
    "    n=eval(input('enter the values:'))\n",
    "    l.append(n)\n",
    "    i=i+1\n",
    "l.sort()\n",
    "print(\"the largest value is:\",l[-1])\n"
   ]
  },
  {
   "cell_type": "markdown",
   "id": "b9746bfd-93d9-4480-9878-985d1acba0ef",
   "metadata": {},
   "source": [
    "**Ask the user to enter any 5 values & do sum of it**"
   ]
  },
  {
   "cell_type": "code",
   "execution_count": 31,
   "id": "d74190fb-2167-493e-83da-1a6e67495f33",
   "metadata": {},
   "outputs": [
    {
     "name": "stdin",
     "output_type": "stream",
     "text": [
      "enter the number: 11\n"
     ]
    },
    {
     "name": "stdout",
     "output_type": "stream",
     "text": [
      "the sum is: 11\n"
     ]
    },
    {
     "name": "stdin",
     "output_type": "stream",
     "text": [
      "enter the number: 22\n"
     ]
    },
    {
     "name": "stdout",
     "output_type": "stream",
     "text": [
      "the sum is: 33\n"
     ]
    },
    {
     "name": "stdin",
     "output_type": "stream",
     "text": [
      "enter the number: 33\n"
     ]
    },
    {
     "name": "stdout",
     "output_type": "stream",
     "text": [
      "the sum is: 66\n"
     ]
    },
    {
     "name": "stdin",
     "output_type": "stream",
     "text": [
      "enter the number: 44\n"
     ]
    },
    {
     "name": "stdout",
     "output_type": "stream",
     "text": [
      "the sum is: 110\n"
     ]
    },
    {
     "name": "stdin",
     "output_type": "stream",
     "text": [
      "enter the number: 55\n"
     ]
    },
    {
     "name": "stdout",
     "output_type": "stream",
     "text": [
      "the sum is: 165\n"
     ]
    }
   ],
   "source": [
    "x=1\n",
    "s=0\n",
    "while x<=5:\n",
    "    i=int(input(\"enter the number:\"))\n",
    "    s=s+i\n",
    "    x=x+1\n",
    "print(\"the sum is:\",s)"
   ]
  },
  {
   "cell_type": "markdown",
   "id": "021ffd76-9e46-43b2-8cdc-f56e4149f7e4",
   "metadata": {},
   "source": [
    "**Ask the user to enter any 5 values  & do product of it**"
   ]
  },
  {
   "cell_type": "code",
   "execution_count": 32,
   "id": "05bbcd65-4bd3-4143-8f53-281305b17c07",
   "metadata": {},
   "outputs": [
    {
     "name": "stdin",
     "output_type": "stream",
     "text": [
      "enter the number: 1\n",
      "enter the number: 2\n",
      "enter the number: 3\n",
      "enter the number: 5\n",
      "enter the number: 7\n"
     ]
    },
    {
     "name": "stdout",
     "output_type": "stream",
     "text": [
      "the product is 210\n"
     ]
    }
   ],
   "source": [
    "x=1\n",
    "p=1\n",
    "while x<=5:\n",
    "    i=int(input(\"enter the number:\"))\n",
    "    p=p*i\n",
    "    x=x+1\n",
    "print('the product is',p)"
   ]
  },
  {
   "cell_type": "markdown",
   "id": "64f16763-0622-4e9d-99fc-50919f04c78c",
   "metadata": {},
   "source": [
    "# infinite Loop"
   ]
  },
  {
   "cell_type": "code",
   "execution_count": null,
   "id": "a1f741fd-2c62-4d92-9cdd-546523b2e0d3",
   "metadata": {},
   "outputs": [],
   "source": [
    "x=1\n",
    "while x<=5:\n",
    "    print(x)"
   ]
  },
  {
   "cell_type": "markdown",
   "id": "b5d4a426-0137-459a-915d-1b3ea0140fc9",
   "metadata": {},
   "source": [
    "**Infinite loop with break**"
   ]
  },
  {
   "cell_type": "code",
   "execution_count": 2,
   "id": "73d30e05-6a05-4314-ac4d-27ece29ee580",
   "metadata": {},
   "outputs": [
    {
     "name": "stdout",
     "output_type": "stream",
     "text": [
      "1 ds\n",
      "2 ds\n",
      "3 ds\n",
      "4 ds\n",
      "5 ds\n"
     ]
    }
   ],
   "source": [
    "x=1\n",
    "while True:\n",
    "    print(x,\"ds\")\n",
    "    if x>=5:\n",
    "        break\n",
    "    x=x+1"
   ]
  },
  {
   "cell_type": "code",
   "execution_count": null,
   "id": "f3a34ee7-8804-4cfa-b9f0-29a7d05941ab",
   "metadata": {},
   "outputs": [],
   "source": []
  },
  {
   "cell_type": "code",
   "execution_count": null,
   "id": "6125139b-f886-4d5b-8eab-388435619920",
   "metadata": {},
   "outputs": [],
   "source": []
  },
  {
   "cell_type": "code",
   "execution_count": null,
   "id": "fcc01b81-4fc3-4775-acdb-4917eedf8424",
   "metadata": {},
   "outputs": [],
   "source": []
  },
  {
   "cell_type": "code",
   "execution_count": null,
   "id": "7773f92f-2ffb-46a9-a134-73e636c74825",
   "metadata": {},
   "outputs": [],
   "source": []
  },
  {
   "cell_type": "code",
   "execution_count": null,
   "id": "a85a0ca0-0100-4583-958c-c6ab39c59c07",
   "metadata": {},
   "outputs": [],
   "source": []
  },
  {
   "cell_type": "code",
   "execution_count": null,
   "id": "fb310253-317a-4e2d-b1b8-832549f87f27",
   "metadata": {},
   "outputs": [],
   "source": []
  },
  {
   "cell_type": "code",
   "execution_count": null,
   "id": "36bf30fc-caa9-418d-82c7-313cda7a42a6",
   "metadata": {},
   "outputs": [],
   "source": []
  },
  {
   "cell_type": "code",
   "execution_count": null,
   "id": "eb305a95-1abd-44e3-9fcf-aa78c5a81dda",
   "metadata": {},
   "outputs": [],
   "source": []
  }
 ],
 "metadata": {
  "kernelspec": {
   "display_name": "Python 3 (ipykernel)",
   "language": "python",
   "name": "python3"
  },
  "language_info": {
   "codemirror_mode": {
    "name": "ipython",
    "version": 3
   },
   "file_extension": ".py",
   "mimetype": "text/x-python",
   "name": "python",
   "nbconvert_exporter": "python",
   "pygments_lexer": "ipython3",
   "version": "3.12.4"
  }
 },
 "nbformat": 4,
 "nbformat_minor": 5
}
