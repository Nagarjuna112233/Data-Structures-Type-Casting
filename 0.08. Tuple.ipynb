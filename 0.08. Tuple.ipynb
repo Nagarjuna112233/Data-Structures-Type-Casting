{
 "cells": [
  {
   "cell_type": "markdown",
   "id": "83814449-4ea4-47da-be0d-63c8d7793455",
   "metadata": {},
   "source": [
    "# Tuple"
   ]
  },
  {
   "cell_type": "code",
   "execution_count": 24,
   "id": "88921396-b03f-462d-8b01-405e2ac6c498",
   "metadata": {},
   "outputs": [
    {
     "name": "stdout",
     "output_type": "stream",
     "text": [
      "()\n"
     ]
    }
   ],
   "source": [
    "t=()                                         #Empyt tuple \n",
    "print(t)"
   ]
  },
  {
   "cell_type": "code",
   "execution_count": 25,
   "id": "be3bfe67-89ec-4a2c-8516-521022421481",
   "metadata": {},
   "outputs": [
    {
     "data": {
      "text/plain": [
       "tuple"
      ]
     },
     "execution_count": 25,
     "metadata": {},
     "output_type": "execute_result"
    }
   ],
   "source": [
    "type(t)"
   ]
  },
  {
   "cell_type": "code",
   "execution_count": 26,
   "id": "ed658a43-fffc-4a2d-8667-ec27d63862ee",
   "metadata": {},
   "outputs": [
    {
     "name": "stdout",
     "output_type": "stream",
     "text": [
      "(1, 2, 3, 4, 5.6, 'ajay', [25, 26])\n"
     ]
    },
    {
     "data": {
      "text/plain": [
       "tuple"
      ]
     },
     "execution_count": 26,
     "metadata": {},
     "output_type": "execute_result"
    }
   ],
   "source": [
    "t=(1,2,3,4,5.6,\"ajay\",[25,26])                        \n",
    "print(t)\n",
    "type(t)\n"
   ]
  },
  {
   "cell_type": "code",
   "execution_count": 27,
   "id": "8832d589-f789-4e75-8a3b-7ac860d2b37d",
   "metadata": {},
   "outputs": [
    {
     "data": {
      "text/plain": [
       "7"
      ]
     },
     "execution_count": 27,
     "metadata": {},
     "output_type": "execute_result"
    }
   ],
   "source": [
    "len (t)"
   ]
  },
  {
   "cell_type": "code",
   "execution_count": 28,
   "id": "600c0a2c-ff71-4e9a-b64c-1b4cc55f7e5a",
   "metadata": {},
   "outputs": [
    {
     "name": "stdout",
     "output_type": "stream",
     "text": [
      "(1, 2, 58, 8.5, [12, 25], 'surya')\n"
     ]
    },
    {
     "data": {
      "text/plain": [
       "6"
      ]
     },
     "execution_count": 28,
     "metadata": {},
     "output_type": "execute_result"
    }
   ],
   "source": [
    "t=(1,2,58,8.5,[12,25],\"surya\") \n",
    "print(t)\n",
    "len (t)"
   ]
  },
  {
   "cell_type": "markdown",
   "id": "0693d4a7-0eb4-42d2-ba1d-35354f01bd43",
   "metadata": {},
   "source": [
    "# tuple indexing"
   ]
  },
  {
   "cell_type": "code",
   "execution_count": 29,
   "id": "e5ca28b7-796f-4dfc-97af-bb1aae10eb99",
   "metadata": {},
   "outputs": [
    {
     "data": {
      "text/plain": [
       "'Arjun'"
      ]
     },
     "execution_count": 29,
     "metadata": {},
     "output_type": "execute_result"
    }
   ],
   "source": [
    "tup=(['Arjun',\"naga\",'vivek'],\"ajay\",\"surya\",25,25.2,[22,54,54,20])\n",
    "tup[0][0]"
   ]
  },
  {
   "cell_type": "code",
   "execution_count": 30,
   "id": "a5269f4b-86a4-4bff-86c6-d47fa1e43e04",
   "metadata": {},
   "outputs": [
    {
     "data": {
      "text/plain": [
       "'vivek'"
      ]
     },
     "execution_count": 30,
     "metadata": {},
     "output_type": "execute_result"
    }
   ],
   "source": [
    "tup=(['Arjun',\"naga\",'vivek'],\"ajay\",\"surya\",25,25.2,[22,54,54,20])\n",
    "tup[0][2]"
   ]
  },
  {
   "cell_type": "code",
   "execution_count": 31,
   "id": "338aa71a-2918-4d60-822d-defe72c52d42",
   "metadata": {},
   "outputs": [
    {
     "data": {
      "text/plain": [
       "25"
      ]
     },
     "execution_count": 31,
     "metadata": {},
     "output_type": "execute_result"
    }
   ],
   "source": [
    "tup=(\"naga\",\"ajay\",\"surya\",25,25.2,[22,54,54,20])\n",
    "tup[3]"
   ]
  },
  {
   "cell_type": "code",
   "execution_count": 32,
   "id": "f635ab15-ee71-4ee8-8718-436870253648",
   "metadata": {},
   "outputs": [
    {
     "data": {
      "text/plain": [
       "54"
      ]
     },
     "execution_count": 32,
     "metadata": {},
     "output_type": "execute_result"
    }
   ],
   "source": [
    "tup=(\"naga\",\"ajay\",\"surya\",25,25.2,[22,54,54,20])\n",
    "tup[5][2]"
   ]
  },
  {
   "cell_type": "code",
   "execution_count": 33,
   "id": "56411788-2638-4814-a58b-9a7068837706",
   "metadata": {},
   "outputs": [
    {
     "data": {
      "text/plain": [
       "20"
      ]
     },
     "execution_count": 33,
     "metadata": {},
     "output_type": "execute_result"
    }
   ],
   "source": [
    "tup=(\"naga\",\"ajay\",\"surya\",25,25.2,[22,54,[1,2,54,20]])\n",
    "tup[5][2][3]"
   ]
  },
  {
   "cell_type": "code",
   "execution_count": 34,
   "id": "dffff743-8fe0-4ddf-8a2c-e4dc74321120",
   "metadata": {},
   "outputs": [
    {
     "data": {
      "text/plain": [
       "'naga'"
      ]
     },
     "execution_count": 34,
     "metadata": {},
     "output_type": "execute_result"
    }
   ],
   "source": [
    "tup=(\"naga\",\"ajay\",\"surya\",25,25.2,[22,54,[1,2,54,20]])\n",
    "tup[0]"
   ]
  },
  {
   "cell_type": "code",
   "execution_count": 99,
   "id": "2fda6774-a269-4cc6-a40e-86d4f868314f",
   "metadata": {},
   "outputs": [
    {
     "data": {
      "text/plain": [
       "25"
      ]
     },
     "execution_count": 99,
     "metadata": {},
     "output_type": "execute_result"
    }
   ],
   "source": [
    "t=(1,25,[54,14,25,14,288,7],52,[14,47,5,487,7,74],14)\n",
    "t[2][2]"
   ]
  },
  {
   "cell_type": "code",
   "execution_count": 100,
   "id": "9767148e-6631-43a4-98f2-9425a3afb7ac",
   "metadata": {},
   "outputs": [
    {
     "data": {
      "text/plain": [
       "487"
      ]
     },
     "execution_count": 100,
     "metadata": {},
     "output_type": "execute_result"
    }
   ],
   "source": [
    "t=(1,25,[54,14,25,14,288,7],52,[14,47,5,487,7,74],14)\n",
    "t[4][3]"
   ]
  },
  {
   "cell_type": "code",
   "execution_count": 101,
   "id": "7ab9d1b8-3a90-4102-a968-c86a585caa21",
   "metadata": {},
   "outputs": [
    {
     "data": {
      "text/plain": [
       "487"
      ]
     },
     "execution_count": 101,
     "metadata": {},
     "output_type": "execute_result"
    }
   ],
   "source": [
    "t=(1,25,[54,14,25,14,288,7],52,[14,47,5,487,7,74],14)\n",
    "t[4][3]"
   ]
  },
  {
   "cell_type": "code",
   "execution_count": 123,
   "id": "47d55132-ddc2-4db1-9036-1c2c372e8fbe",
   "metadata": {},
   "outputs": [
    {
     "data": {
      "text/plain": [
       "8"
      ]
     },
     "execution_count": 123,
     "metadata": {},
     "output_type": "execute_result"
    }
   ],
   "source": [
    "t=[1,2,[8,7,8],5,5,4]                               #Indexing\n",
    "t[2][2]"
   ]
  },
  {
   "cell_type": "code",
   "execution_count": 127,
   "id": "aab9d79a-a7fa-42d3-bbf8-b5290a4e300d",
   "metadata": {},
   "outputs": [
    {
     "data": {
      "text/plain": [
       "9"
      ]
     },
     "execution_count": 127,
     "metadata": {},
     "output_type": "execute_result"
    }
   ],
   "source": [
    "a=[5,8,[7,7,2,5,9,4],4,5,]\n",
    "a[2][4]"
   ]
  },
  {
   "cell_type": "markdown",
   "id": "16493440-93ab-4bf9-9789-2aaabab2a403",
   "metadata": {},
   "source": [
    "# tuple slicing"
   ]
  },
  {
   "cell_type": "code",
   "execution_count": 35,
   "id": "57745439-7c64-42c9-a1c9-b630e6f27ddb",
   "metadata": {},
   "outputs": [
    {
     "data": {
      "text/plain": [
       "(1, 2, 5)"
      ]
     },
     "execution_count": 35,
     "metadata": {},
     "output_type": "execute_result"
    }
   ],
   "source": [
    "t=(1,2,5,8,7,9)                                   #Tuple slicing\n",
    "t[:3]"
   ]
  },
  {
   "cell_type": "code",
   "execution_count": 36,
   "id": "261c2df0-dd67-4cd1-a633-ade2d0d0df5c",
   "metadata": {},
   "outputs": [
    {
     "data": {
      "text/plain": [
       "(1, 2, 5, 8, 7)"
      ]
     },
     "execution_count": 36,
     "metadata": {},
     "output_type": "execute_result"
    }
   ],
   "source": [
    "t=(1,2,5,8,7,9)                                   \n",
    "t[:5]"
   ]
  },
  {
   "cell_type": "code",
   "execution_count": 37,
   "id": "40eac4d5-f0fc-4b09-a50a-e29c97652bdf",
   "metadata": {},
   "outputs": [
    {
     "data": {
      "text/plain": [
       "(1, 2, 5, 8, 7)"
      ]
     },
     "execution_count": 37,
     "metadata": {},
     "output_type": "execute_result"
    }
   ],
   "source": [
    "t=(1,2,5,8,7,9)                                   \n",
    "t[:5]"
   ]
  },
  {
   "cell_type": "code",
   "execution_count": 38,
   "id": "a8ceb919-bf3c-4c2b-9f91-49f49d332fe0",
   "metadata": {},
   "outputs": [
    {
     "data": {
      "text/plain": [
       "[1, 47, 12, 7.5, 8, 5, 1]"
      ]
     },
     "execution_count": 38,
     "metadata": {},
     "output_type": "execute_result"
    }
   ],
   "source": [
    "t=[1,5,8,7.5,12,47,1]\n",
    "t[::-1]"
   ]
  },
  {
   "cell_type": "code",
   "execution_count": 39,
   "id": "0ddfccc4-aa2f-422b-9ba0-64f59bd06c62",
   "metadata": {},
   "outputs": [
    {
     "data": {
      "text/plain": [
       "[5, 1]"
      ]
     },
     "execution_count": 39,
     "metadata": {},
     "output_type": "execute_result"
    }
   ],
   "source": [
    "t=[1,5,8,7.5,12,47,1]\n",
    "t[1::5]"
   ]
  },
  {
   "cell_type": "code",
   "execution_count": 104,
   "id": "6a88ceb3-d8c3-4c4f-974a-3aef94afd12a",
   "metadata": {},
   "outputs": [
    {
     "data": {
      "text/plain": [
       "[1, 47]"
      ]
     },
     "execution_count": 104,
     "metadata": {},
     "output_type": "execute_result"
    }
   ],
   "source": [
    "t=[1,5,8,7,12,47,1]\n",
    "t[::5]"
   ]
  },
  {
   "cell_type": "code",
   "execution_count": 107,
   "id": "1d19237d-63d9-4c62-9192-12f5ddd9df66",
   "metadata": {},
   "outputs": [
    {
     "data": {
      "text/plain": [
       "[5, 12]"
      ]
     },
     "execution_count": 107,
     "metadata": {},
     "output_type": "execute_result"
    }
   ],
   "source": [
    "t=[1,5,8,7,12,47,1]\n",
    "t[1::3]"
   ]
  },
  {
   "cell_type": "markdown",
   "id": "55cbbfb0-4a24-4158-8659-4346b6f420f9",
   "metadata": {},
   "source": [
    "# Tuple concatination"
   ]
  },
  {
   "cell_type": "code",
   "execution_count": 108,
   "id": "8152ba39-1bef-4e5e-b2c1-7db2a2955ff2",
   "metadata": {},
   "outputs": [
    {
     "data": {
      "text/plain": [
       "[1, 2, 47, 8, 5, 7, 1, 23, 5, 4, 15, 74]"
      ]
     },
     "execution_count": 108,
     "metadata": {},
     "output_type": "execute_result"
    }
   ],
   "source": [
    "t=[1,2,47,8,5,7,1]                                #Tuple concatination\n",
    "t1=[23,5,4,15,74]\n",
    "t+t1"
   ]
  },
  {
   "cell_type": "code",
   "execution_count": 43,
   "id": "0c891ff0-2f2d-4972-bfc6-2a44e7b020f5",
   "metadata": {},
   "outputs": [
    {
     "data": {
      "text/plain": [
       "[1, 25, 45, 75, 44, 8, 26, 5, 258, 47, 87, 8]"
      ]
     },
     "execution_count": 43,
     "metadata": {},
     "output_type": "execute_result"
    }
   ],
   "source": [
    "t=[1,25,45,75,44,8,26,5]\n",
    "t1=[258,47,87,8,]\n",
    "t+t1"
   ]
  },
  {
   "cell_type": "code",
   "execution_count": 44,
   "id": "33b5ce5a-340b-4d00-b0c9-31d73442f313",
   "metadata": {},
   "outputs": [
    {
     "data": {
      "text/plain": [
       "[1, 2, 5, 7, 7, 4, 5, 7, 8, 9, 4, 5]"
      ]
     },
     "execution_count": 44,
     "metadata": {},
     "output_type": "execute_result"
    }
   ],
   "source": [
    "a=[1,2,5,7,7]\n",
    "b=[4,5,7,8,9,4,5]\n",
    "a+b"
   ]
  },
  {
   "cell_type": "code",
   "execution_count": 45,
   "id": "2dceb903-1601-4c01-b28a-bc2056a6aa0b",
   "metadata": {},
   "outputs": [
    {
     "data": {
      "text/plain": [
       "[3, 4, 5, 6, 5, 3, 6, 5, 5, 8, 7, 7, 7, 7]"
      ]
     },
     "execution_count": 45,
     "metadata": {},
     "output_type": "execute_result"
    }
   ],
   "source": [
    "a=[3,4,5,6,5,3]\n",
    "b=[6,5,5,8,7,7,7,7]\n",
    "a+b"
   ]
  },
  {
   "cell_type": "code",
   "execution_count": 46,
   "id": "634829a9-6a01-4c08-936c-c5e1f08d7eac",
   "metadata": {},
   "outputs": [
    {
     "data": {
      "text/plain": [
       "[1, 4, 8.7, 8, 4, 1, 5, 7, 5, 8, 2]"
      ]
     },
     "execution_count": 46,
     "metadata": {},
     "output_type": "execute_result"
    }
   ],
   "source": [
    "b=[1,5,7,5,8,2]\n",
    "a=[1,4,8.7,8,4]\n",
    "a+b"
   ]
  },
  {
   "cell_type": "markdown",
   "id": "0a1293ca-3a7d-4260-be0e-d59141367405",
   "metadata": {},
   "source": [
    "# replace"
   ]
  },
  {
   "cell_type": "code",
   "execution_count": 47,
   "id": "30fdeb06-3c07-41f4-8963-49bfc2272558",
   "metadata": {},
   "outputs": [
    {
     "name": "stdout",
     "output_type": "stream",
     "text": [
      "<class 'list'>\n",
      "[1, 20, 3, 4, 5, 6]\n"
     ]
    }
   ],
   "source": [
    "t=[1,2,3,4,5,6]                                     #replace\n",
    "print(type(t))\n",
    "t[1]=20\n",
    "print(t)"
   ]
  },
  {
   "cell_type": "code",
   "execution_count": 109,
   "id": "b6e7cb93-bb3b-4c18-86f6-bd85efdf5380",
   "metadata": {},
   "outputs": [
    {
     "name": "stdout",
     "output_type": "stream",
     "text": [
      "<class 'list'>\n",
      "[21, 3, 4, 6, 7, 8]\n"
     ]
    }
   ],
   "source": [
    "n=[1,3,4,6,7,8]\n",
    "print(type(n))\n",
    "n[0]=21\n",
    "print(n)"
   ]
  },
  {
   "cell_type": "markdown",
   "id": "15f80e68-a0c5-4bda-aa39-0b90fe366912",
   "metadata": {},
   "source": [
    "# Convert the tuple to list "
   ]
  },
  {
   "cell_type": "code",
   "execution_count": 121,
   "id": "a9ef517f-13fa-45a1-96e7-d482a8771592",
   "metadata": {},
   "outputs": [
    {
     "name": "stdout",
     "output_type": "stream",
     "text": [
      "(1, 20, 4, 5, 7)\n"
     ]
    }
   ],
   "source": [
    "t=[1,2,4,5,7]                                       #Convert the tuple to list \n",
    "l=list(t)\n",
    "t[1]=20\n",
    "t=tuple(t)\n",
    "print(t)"
   ]
  },
  {
   "cell_type": "code",
   "execution_count": 122,
   "id": "037c8f08-56d9-4e1b-837a-e0e7187aea63",
   "metadata": {},
   "outputs": [
    {
     "name": "stdout",
     "output_type": "stream",
     "text": [
      "(1, 5, 8, 30)\n"
     ]
    }
   ],
   "source": [
    "a=[1,5,8,7]\n",
    "l=list(a)\n",
    "a[3]=30\n",
    "a=tuple(a)\n",
    "print(a)"
   ]
  },
  {
   "cell_type": "code",
   "execution_count": 118,
   "id": "80e5cda8-2fe6-4475-aa4d-670db1ea982a",
   "metadata": {},
   "outputs": [
    {
     "name": "stdout",
     "output_type": "stream",
     "text": [
      "(1, 5, 25, 7, 8)\n"
     ]
    }
   ],
   "source": [
    "a1=[1,5,4,7,8]\n",
    "l=list(a1)\n",
    "a1[2]=25\n",
    "a1=tuple(a1)\n",
    "print(a1)"
   ]
  },
  {
   "cell_type": "code",
   "execution_count": 117,
   "id": "f650bf85-140e-422c-a6d8-3ae39911a394",
   "metadata": {},
   "outputs": [
    {
     "name": "stdout",
     "output_type": "stream",
     "text": [
      "(1, 25, 8, 7, 8, 855, 8, 8, 5, 4, 9, 7, 8)\n"
     ]
    }
   ],
   "source": [
    "t=[1,25,8,7,8,8,8,8,5,4,9,7,8]\n",
    "l=list(t)\n",
    "t[5]=855\n",
    "t=tuple(t)\n",
    "print(t)"
   ]
  },
  {
   "cell_type": "code",
   "execution_count": 116,
   "id": "e922cb1d-4b3b-48f0-8fb4-9f3f1bc1009f",
   "metadata": {},
   "outputs": [
    {
     "name": "stdout",
     "output_type": "stream",
     "text": [
      "(1, 8, 7, 5, 5, 515)\n"
     ]
    }
   ],
   "source": [
    "t=[1,8,7,5,5,9]\n",
    "l=list(t)\n",
    "l[5]=515\n",
    "t=tuple(l)\n",
    "print(t)"
   ]
  },
  {
   "cell_type": "code",
   "execution_count": 128,
   "id": "f7aeb375-4185-423e-a47e-33faf624a460",
   "metadata": {},
   "outputs": [
    {
     "data": {
      "text/plain": [
       "2"
      ]
     },
     "execution_count": 128,
     "metadata": {},
     "output_type": "execute_result"
    }
   ],
   "source": [
    "t=(1,2,1,2,4,4,5,8,7,5)\n",
    "t.count(1)"
   ]
  },
  {
   "cell_type": "code",
   "execution_count": 132,
   "id": "331dcfd5-8f38-4112-b5a1-02ae156af29a",
   "metadata": {},
   "outputs": [
    {
     "data": {
      "text/plain": [
       "3"
      ]
     },
     "execution_count": 132,
     "metadata": {},
     "output_type": "execute_result"
    }
   ],
   "source": [
    "t=(8,5,4,8,7,1,8,7)\n",
    "t.count(8)"
   ]
  },
  {
   "cell_type": "code",
   "execution_count": 131,
   "id": "9a72268e-dda6-4c8e-bdb2-bfc42db60fd5",
   "metadata": {},
   "outputs": [
    {
     "data": {
      "text/plain": [
       "2"
      ]
     },
     "execution_count": 131,
     "metadata": {},
     "output_type": "execute_result"
    }
   ],
   "source": [
    "a=(1,2,5,2,9,1)\n",
    "a.count(1)"
   ]
  },
  {
   "cell_type": "code",
   "execution_count": 133,
   "id": "d6907ccb-ade0-41be-9f58-feb03a947ace",
   "metadata": {},
   "outputs": [
    {
     "name": "stdout",
     "output_type": "stream",
     "text": [
      "[1, 4, 5, 5, 5, 7, 7]\n"
     ]
    }
   ],
   "source": [
    "t=(1,5,4,7,5,5,7)\n",
    "t=(sorted(t))\n",
    "print(t)"
   ]
  },
  {
   "cell_type": "code",
   "execution_count": 137,
   "id": "275aa17a-97f3-4ddc-aa0a-97c55f946e50",
   "metadata": {},
   "outputs": [
    {
     "name": "stdout",
     "output_type": "stream",
     "text": [
      "[1, 4, 5, 5, 6, 7, 8]\n"
     ]
    }
   ],
   "source": [
    "t=(1,5,4,6,8,5,7)\n",
    "t=(sorted(t))\n",
    "print(t)"
   ]
  },
  {
   "cell_type": "code",
   "execution_count": 83,
   "id": "a967f583-e549-45ac-97ab-3c70573c65c1",
   "metadata": {},
   "outputs": [
    {
     "name": "stdout",
     "output_type": "stream",
     "text": [
      "[1, 4, 5, 5, 7, 7, 8]\n"
     ]
    }
   ],
   "source": [
    "t=(1,5,4,7,8,5,7)\n",
    "t=(sorted(t))\n",
    "print(t)"
   ]
  },
  {
   "cell_type": "code",
   "execution_count": 84,
   "id": "804609a4-d7d9-4a3d-9772-f6be04e41ebf",
   "metadata": {},
   "outputs": [],
   "source": [
    "t=[1,5,8,8,7,7]\n",
    "del t"
   ]
  },
  {
   "cell_type": "code",
   "execution_count": 85,
   "id": "d7397734-8e96-439a-b591-a4040fe416c3",
   "metadata": {},
   "outputs": [],
   "source": [
    "a=[1,2,1]\n",
    "del a"
   ]
  },
  {
   "cell_type": "markdown",
   "id": "a60a0099-4459-4a30-9ead-b4ede93f8bfc",
   "metadata": {},
   "source": [
    "**# Interview question**\n",
    "\n",
    "           - can we add a value in a list within tuple?"
   ]
  },
  {
   "cell_type": "code",
   "execution_count": 143,
   "id": "44b9c702-d8ae-4029-81ca-c1da219db480",
   "metadata": {},
   "outputs": [
    {
     "name": "stdout",
     "output_type": "stream",
     "text": [
      "(1, 2, 4, 5, ['naga', 9, 'surya'], 2)\n"
     ]
    }
   ],
   "source": [
    "a=(1,2,4,5,[\"naga\",\"ajay\",\"surya\"],2)\n",
    "a\n",
    "a[4][1]=9\n",
    "print(a)"
   ]
  },
  {
   "cell_type": "code",
   "execution_count": 145,
   "id": "4773c28a-6a7f-42b2-9f96-79e2715e258d",
   "metadata": {},
   "outputs": [
    {
     "name": "stdout",
     "output_type": "stream",
     "text": [
      "(1, 2, 4, 5, ['vivek', 'Arjun'], 2)\n"
     ]
    }
   ],
   "source": [
    "a=(1,2,4,5,[\"naga\",\"Arjun\"],2)\n",
    "a\n",
    "a[4][0]=\"vivek\"\n",
    "print(a)"
   ]
  },
  {
   "cell_type": "code",
   "execution_count": 146,
   "id": "235b6c3c-d60d-4760-bc65-aa703c6f5939",
   "metadata": {},
   "outputs": [
    {
     "data": {
      "text/plain": [
       "'Arjun'"
      ]
     },
     "execution_count": 146,
     "metadata": {},
     "output_type": "execute_result"
    }
   ],
   "source": [
    "a[4][1]"
   ]
  },
  {
   "cell_type": "code",
   "execution_count": 152,
   "id": "8bf34fc4-2064-4fa7-9330-c6327f7ff636",
   "metadata": {},
   "outputs": [
    {
     "data": {
      "text/plain": [
       "(1, 2, 4, 5, ['vivek', 'Arjun', 1, 1, 1, 14, 14], 2)"
      ]
     },
     "execution_count": 152,
     "metadata": {},
     "output_type": "execute_result"
    }
   ],
   "source": [
    "a[4].append(14)\n",
    "a"
   ]
  },
  {
   "cell_type": "code",
   "execution_count": 154,
   "id": "1fbec054-c015-4f41-93b3-db133dd5147f",
   "metadata": {},
   "outputs": [
    {
     "data": {
      "text/plain": [
       "(1, 2, 4, 5, ['vivek', 'Arjun', 1, 14, 14], 2)"
      ]
     },
     "execution_count": 154,
     "metadata": {},
     "output_type": "execute_result"
    }
   ],
   "source": [
    "a[4].remove(1)\n",
    "a"
   ]
  },
  {
   "cell_type": "code",
   "execution_count": 160,
   "id": "e5ae71eb-0867-4649-8957-b78d974f7b0f",
   "metadata": {},
   "outputs": [
    {
     "data": {
      "text/plain": [
       "(1, 2, 4, 5, ['vivek', 'Arjun'], 2)"
      ]
     },
     "execution_count": 160,
     "metadata": {},
     "output_type": "execute_result"
    }
   ],
   "source": [
    "a[4].remove(14)\n",
    "a"
   ]
  },
  {
   "cell_type": "code",
   "execution_count": 164,
   "id": "9bde1297-82a0-4377-9809-17096fb211a9",
   "metadata": {},
   "outputs": [
    {
     "data": {
      "text/plain": [
       "(1, 2, 4, 5, ['vivek', 'Arjun'], 2)"
      ]
     },
     "execution_count": 164,
     "metadata": {},
     "output_type": "execute_result"
    }
   ],
   "source": [
    "a"
   ]
  },
  {
   "cell_type": "code",
   "execution_count": 184,
   "id": "9c5ed58b-230b-4e06-85a9-c3f070de333c",
   "metadata": {},
   "outputs": [
    {
     "data": {
      "text/plain": [
       "[1, 5, 8, 8, 7, 7]"
      ]
     },
     "execution_count": 184,
     "metadata": {},
     "output_type": "execute_result"
    }
   ],
   "source": [
    "t=[1,5,8,8,7,7]\n",
    "t"
   ]
  },
  {
   "cell_type": "markdown",
   "id": "01eafaf0-52a9-4915-9d1f-7ddd1613227a",
   "metadata": {},
   "source": [
    "- can we remove a value in a list within a tuple?"
   ]
  },
  {
   "cell_type": "code",
   "execution_count": 200,
   "id": "47341134-6cba-4370-8c9c-aa909e9ccf41",
   "metadata": {},
   "outputs": [
    {
     "data": {
      "text/plain": [
       "(1, 2, [4, 5, 45, 5], 1, 8)"
      ]
     },
     "execution_count": 200,
     "metadata": {},
     "output_type": "execute_result"
    }
   ],
   "source": [
    "t=(1,2,[4,5,45,5],1,8)\n",
    "t"
   ]
  },
  {
   "cell_type": "code",
   "execution_count": 190,
   "id": "f86ebc0f-926e-4f69-9304-ecd13d1cc52f",
   "metadata": {},
   "outputs": [
    {
     "name": "stdout",
     "output_type": "stream",
     "text": [
      "(1, 2, 5, [('naga', 'surya', 'ajay'), 41], [8, 9, 6], 5, 2, 1, 4)\n"
     ]
    }
   ],
   "source": [
    "t2=(1,2,5,[\"naga\",41],[8,9,6],5,2,1,4)\n",
    "t2\n",
    "t2[3]\n",
    "t2[3][0]=\"naga\",\"surya\",\"ajay\"\n",
    "print(t2)"
   ]
  },
  {
   "cell_type": "code",
   "execution_count": 191,
   "id": "f1eb0ec1-e164-486b-92dd-7a4b34c36219",
   "metadata": {},
   "outputs": [
    {
     "data": {
      "text/plain": [
       "(1, 2, 5, [('naga', 'surya', 'ajay'), 41], [9, 6], 5, 2, 1, 4)"
      ]
     },
     "execution_count": 191,
     "metadata": {},
     "output_type": "execute_result"
    }
   ],
   "source": [
    "t2[4].remove(8)\n",
    "t2"
   ]
  },
  {
   "cell_type": "code",
   "execution_count": 212,
   "id": "3956731a-cb7b-4806-a42b-351556232fc5",
   "metadata": {},
   "outputs": [
    {
     "data": {
      "text/plain": [
       "(1, 2, 5, [('naga', 'surya', 'ajay'), 34, 34, 34, 25, 25], [9, 6], 5, 2, 1, 4)"
      ]
     },
     "execution_count": 212,
     "metadata": {},
     "output_type": "execute_result"
    }
   ],
   "source": [
    "t2[3].append(25)\n",
    "t2"
   ]
  },
  {
   "cell_type": "code",
   "execution_count": 215,
   "id": "9eadb2c8-be22-4631-860d-905929552f7d",
   "metadata": {},
   "outputs": [
    {
     "data": {
      "text/plain": [
       "(1, 2, 5, [('naga', 'surya', 'ajay'), 25, 25], [9, 6], 5, 2, 1, 4)"
      ]
     },
     "execution_count": 215,
     "metadata": {},
     "output_type": "execute_result"
    }
   ],
   "source": [
    "t2[3].remove(34)\n",
    "t2"
   ]
  },
  {
   "cell_type": "code",
   "execution_count": 218,
   "id": "04da7e5f-7383-48b0-a3ad-0daebcfad209",
   "metadata": {},
   "outputs": [
    {
     "data": {
      "text/plain": [
       "(1, 2, 5, [('naga', 'surya', 'ajay')], [9, 6], 5, 2, 1, 4)"
      ]
     },
     "execution_count": 218,
     "metadata": {},
     "output_type": "execute_result"
    }
   ],
   "source": [
    "t2[3].remove(25)\n",
    "t2"
   ]
  },
  {
   "cell_type": "code",
   "execution_count": 230,
   "id": "5010c45b-1f88-40c3-87f8-f148e514b6ff",
   "metadata": {},
   "outputs": [
    {
     "data": {
      "text/plain": [
       "(1, 2, 5, [('naga', 'surya', 'ajay')], [], 5, 2, 1, 4)"
      ]
     },
     "execution_count": 230,
     "metadata": {},
     "output_type": "execute_result"
    }
   ],
   "source": [
    "t2"
   ]
  },
  {
   "cell_type": "code",
   "execution_count": 217,
   "id": "2c6aed55-ff9d-4864-b824-cf8703903474",
   "metadata": {},
   "outputs": [
    {
     "name": "stdout",
     "output_type": "stream",
     "text": [
      "(1, 2, 3, 5)\n"
     ]
    }
   ],
   "source": [
    "a=(1,2,3,5)\n",
    "print(a)"
   ]
  },
  {
   "cell_type": "code",
   "execution_count": null,
   "id": "633c6c68-4f46-4661-8f89-ba38528c5289",
   "metadata": {},
   "outputs": [],
   "source": []
  }
 ],
 "metadata": {
  "kernelspec": {
   "display_name": "Python 3 (ipykernel)",
   "language": "python",
   "name": "python3"
  },
  "language_info": {
   "codemirror_mode": {
    "name": "ipython",
    "version": 3
   },
   "file_extension": ".py",
   "mimetype": "text/x-python",
   "name": "python",
   "nbconvert_exporter": "python",
   "pygments_lexer": "ipython3",
   "version": "3.12.4"
  }
 },
 "nbformat": 4,
 "nbformat_minor": 5
}
