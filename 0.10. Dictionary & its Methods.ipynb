{
 "cells": [
  {
   "cell_type": "markdown",
   "id": "031c8c63-6496-4514-b7b2-aeb394947ad9",
   "metadata": {},
   "source": [
    "# Dictionaries\n",
    "\n",
    "- Dictionary is an unordered collection."
   ]
  },
  {
   "cell_type": "markdown",
   "id": "2a8e6d1a-78ce-461f-b04d-9d1c3e0e8f61",
   "metadata": {},
   "source": [
    "**Empty dictionary**"
   ]
  },
  {
   "cell_type": "code",
   "execution_count": 29,
   "id": "fee32c5b-db2f-4d45-9edd-49591bea964c",
   "metadata": {},
   "outputs": [
    {
     "name": "stdout",
     "output_type": "stream",
     "text": [
      "{}\n",
      "{}\n"
     ]
    }
   ],
   "source": [
    "empty_dict_1={}\n",
    "print(empty_dict_1)\n",
    "empty_dict_2={}\n",
    "print(empty_dict_2)"
   ]
  },
  {
   "cell_type": "markdown",
   "id": "42361232-e6f3-432e-b25f-182bce418d59",
   "metadata": {},
   "source": [
    "- In python, dictionaries are defined within braces{} with each item being **key:value**\n",
    "- **keys can be of fundamental data type**- Generally, the keys are int or str\n",
    "- **values can be of any data type**"
   ]
  },
  {
   "cell_type": "markdown",
   "id": "2a7ce080-a7f5-4ed9-8df6-ebe7dcf95fc6",
   "metadata": {},
   "source": [
    "**Dictionary with 2 items**"
   ]
  },
  {
   "cell_type": "code",
   "execution_count": 30,
   "id": "70bf2f75-2acf-4f98-b7cf-e0396a3f2131",
   "metadata": {},
   "outputs": [
    {
     "name": "stdout",
     "output_type": "stream",
     "text": [
      "{1: 6, 2: 5}\n"
     ]
    }
   ],
   "source": [
    "d1={1:6,2:5}\n",
    "print(d1)\n"
   ]
  },
  {
   "cell_type": "code",
   "execution_count": 31,
   "id": "e579b797-4ab7-4c9f-967c-8f96ddc90fb8",
   "metadata": {},
   "outputs": [
    {
     "name": "stdout",
     "output_type": "stream",
     "text": [
      "{1: 6}\n",
      "{3: 8}\n"
     ]
    }
   ],
   "source": [
    "d1={1:6}\n",
    "print(d1)\n",
    "d2={3:8}\n",
    "print(d2)"
   ]
  },
  {
   "cell_type": "code",
   "execution_count": 32,
   "id": "ad1240f0-e8d2-4d6a-915b-ecbe1bacc089",
   "metadata": {},
   "outputs": [
    {
     "name": "stdout",
     "output_type": "stream",
     "text": [
      "{1: 2, 3: 5}\n"
     ]
    }
   ],
   "source": [
    "d3={1:2,3:5}\n",
    "print(d3)"
   ]
  },
  {
   "cell_type": "code",
   "execution_count": 33,
   "id": "8cf9debe-1870-45a8-b567-14fa93b3297b",
   "metadata": {},
   "outputs": [
    {
     "name": "stdout",
     "output_type": "stream",
     "text": [
      "{'a': 234, 'b': 345}\n"
     ]
    }
   ],
   "source": [
    "d4={\"a\":234,\"b\":345}\n",
    "print(d4)"
   ]
  },
  {
   "cell_type": "markdown",
   "id": "3ef53c85-d538-421b-89d9-f1ca55cdff4e",
   "metadata": {},
   "source": [
    "**Dictionary with multiple items**"
   ]
  },
  {
   "cell_type": "code",
   "execution_count": 34,
   "id": "7e757f82-9e2a-4b28-8979-dcfeae547ad8",
   "metadata": {},
   "outputs": [
    {
     "name": "stdout",
     "output_type": "stream",
     "text": [
      "{1: 23, 10.34: [2, 3, 4], 'b': 244, 'C': 2526, 3: 234, 4: {3, 4, 5}}\n"
     ]
    }
   ],
   "source": [
    "d5={1:23,10.34:[2,3,4], \"b\":244, \"C\":(2526),3:234, 4:{3,4,5}}\n",
    "print(d5)"
   ]
  },
  {
   "cell_type": "code",
   "execution_count": 35,
   "id": "f7905eba-5395-4a4a-8516-3aec2880d8f6",
   "metadata": {},
   "outputs": [
    {
     "name": "stdout",
     "output_type": "stream",
     "text": [
      "{9: 3, 3: (5, 5)}\n"
     ]
    }
   ],
   "source": [
    "d6={9:(3),3:(5,5)}\n",
    "print(d6)\n",
    "    "
   ]
  },
  {
   "cell_type": "markdown",
   "id": "82dfe4f6-eada-4924-b8e1-94c4a4e33dcd",
   "metadata": {},
   "source": [
    "**Convert a list of tuples into a dictionary**"
   ]
  },
  {
   "cell_type": "code",
   "execution_count": 36,
   "id": "b22f92ea-27e5-47f8-af26-10bbfe931a15",
   "metadata": {},
   "outputs": [
    {
     "name": "stdout",
     "output_type": "stream",
     "text": [
      "{'my neme is', 'nagarjuna'}\n"
     ]
    }
   ],
   "source": [
    "d7={(\"my neme is\"),(\"nagarjuna\")}\n",
    "print(d7)"
   ]
  },
  {
   "cell_type": "markdown",
   "id": "dad75692-82a1-4204-8160-5095e325e5cb",
   "metadata": {},
   "source": [
    "**Nested Dictionary**\n",
    "\n",
    "  - if atleast oe value is dict, then it is called as nesed dictionary"
   ]
  },
  {
   "cell_type": "code",
   "execution_count": 37,
   "id": "91cb8fb4-7df5-4cf4-b346-43cc0c1b7442",
   "metadata": {},
   "outputs": [
    {
     "name": "stdout",
     "output_type": "stream",
     "text": [
      "{'naga': 20, 'surya': 20, 'ajay': {19}, 'pranay': [20]}\n"
     ]
    }
   ],
   "source": [
    "name={\"naga\":20,\"surya\":(20),\"ajay\":{19},\"pranay\":[20]}\n",
    "print(name)"
   ]
  },
  {
   "cell_type": "markdown",
   "id": "4f69ade9-2ef0-4f05-bae9-7e0c5889bd37",
   "metadata": {},
   "source": [
    "**indexing in dictionaries**\n",
    "\n",
    "- **Syntax** : dict[key name]"
   ]
  },
  {
   "cell_type": "code",
   "execution_count": 38,
   "id": "f4baa344-b7f4-481c-bac7-a64b8eab5f8d",
   "metadata": {},
   "outputs": [
    {
     "data": {
      "text/plain": [
       "20"
      ]
     },
     "execution_count": 38,
     "metadata": {},
     "output_type": "execute_result"
    }
   ],
   "source": [
    "name[\"naga\"]"
   ]
  },
  {
   "cell_type": "code",
   "execution_count": 39,
   "id": "858ffe3f-3233-453f-9fad-55b3ee2b5379",
   "metadata": {},
   "outputs": [
    {
     "data": {
      "text/plain": [
       "20"
      ]
     },
     "execution_count": 39,
     "metadata": {},
     "output_type": "execute_result"
    }
   ],
   "source": [
    "name[\"surya\"]"
   ]
  },
  {
   "cell_type": "code",
   "execution_count": 40,
   "id": "2bef2d8a-b2fd-4b03-bf13-dc0a2bf8ff77",
   "metadata": {},
   "outputs": [
    {
     "data": {
      "text/plain": [
       "{19}"
      ]
     },
     "execution_count": 40,
     "metadata": {},
     "output_type": "execute_result"
    }
   ],
   "source": [
    "name[\"ajay\"]"
   ]
  },
  {
   "cell_type": "markdown",
   "id": "cb95bf76-ba54-4f94-804a-a61fac1116a1",
   "metadata": {},
   "source": [
    "**Dictionary Methods**"
   ]
  },
  {
   "cell_type": "code",
   "execution_count": 41,
   "id": "e2815806-1323-424c-a744-52dcd05e28e5",
   "metadata": {},
   "outputs": [
    {
     "name": "stdout",
     "output_type": "stream",
     "text": [
      "{'telugu': 47, 'hindi': 39, 'english': 84}\n"
     ]
    }
   ],
   "source": [
    "marks={\"telugu\":47,\"hindi\":39,\"english\":84}\n",
    "print(marks)"
   ]
  },
  {
   "cell_type": "markdown",
   "id": "cf6881ca-4091-435e-9e50-ef6555e9636c",
   "metadata": {},
   "source": [
    "**dict.keys()**\n",
    "\n",
    "- **keys()** method returns a list of keys in the dictionary"
   ]
  },
  {
   "cell_type": "code",
   "execution_count": 42,
   "id": "969bedc1-3526-45ef-8c7e-ca23ebe37c75",
   "metadata": {},
   "outputs": [
    {
     "data": {
      "text/plain": [
       "dict_keys(['telugu', 'hindi', 'english'])"
      ]
     },
     "execution_count": 42,
     "metadata": {},
     "output_type": "execute_result"
    }
   ],
   "source": [
    "marks.keys()"
   ]
  },
  {
   "cell_type": "markdown",
   "id": "899efc6c-be51-47fb-a8e2-f38800529bc9",
   "metadata": {},
   "source": [
    "**dict.values()**\n",
    "\n",
    "- **values()** method returns a list of values pairs in the dictionary"
   ]
  },
  {
   "cell_type": "code",
   "execution_count": 43,
   "id": "3e249e63-2d23-4eba-8a7f-4954844ddcd4",
   "metadata": {},
   "outputs": [
    {
     "data": {
      "text/plain": [
       "dict_values([47, 39, 84])"
      ]
     },
     "execution_count": 43,
     "metadata": {},
     "output_type": "execute_result"
    }
   ],
   "source": [
    "marks.values()"
   ]
  },
  {
   "cell_type": "markdown",
   "id": "2343d4d2-c7b5-406f-9d5d-7da8b434d790",
   "metadata": {},
   "source": [
    "**dict.items()**\n",
    "\n",
    "- **items()** method returns a list of key-value pairs in the dictionary"
   ]
  },
  {
   "cell_type": "code",
   "execution_count": 44,
   "id": "6a107745-d68a-4d0f-b138-1fe5c67c022f",
   "metadata": {},
   "outputs": [
    {
     "data": {
      "text/plain": [
       "dict_items([('telugu', 47), ('hindi', 39), ('english', 84)])"
      ]
     },
     "execution_count": 44,
     "metadata": {},
     "output_type": "execute_result"
    }
   ],
   "source": [
    "marks.items()"
   ]
  },
  {
   "cell_type": "markdown",
   "id": "0caacdd4-46e4-4cd3-8118-7b632f5fb7a9",
   "metadata": {},
   "source": [
    "**to add a single item into a dictionary**\n",
    "\n",
    "- option 1"
   ]
  },
  {
   "cell_type": "code",
   "execution_count": 45,
   "id": "41b3718d-e2da-4926-bd38-48c5c6514f9d",
   "metadata": {},
   "outputs": [
    {
     "name": "stdout",
     "output_type": "stream",
     "text": [
      "{'telugu': 47, 'hindi': 39, 'english': 84, 'science': 74}\n"
     ]
    }
   ],
   "source": [
    "marks={\"telugu\":47,\"hindi\":39,\"english\":84}\n",
    "marks[\"science\"]=74\n",
    "print(marks)"
   ]
  },
  {
   "cell_type": "markdown",
   "id": "98170eac-fb2b-4aa4-b220-a647a84a4b16",
   "metadata": {},
   "source": [
    "- Option 2"
   ]
  },
  {
   "cell_type": "code",
   "execution_count": 47,
   "id": "d6f68780-7eb6-4cd8-bdd9-88bc372cfbf5",
   "metadata": {},
   "outputs": [
    {
     "name": "stdout",
     "output_type": "stream",
     "text": [
      "{'telugu': 47, 'hindi': 39, 'english': 84, 'maths': 48}\n"
     ]
    }
   ],
   "source": [
    "marks={\"telugu\":47,\"hindi\":39,\"english\":84}\n",
    "marks.update({\"maths\":48,})\n",
    "print(marks)"
   ]
  },
  {
   "cell_type": "markdown",
   "id": "5ac5b42c-d12a-427f-9637-806dede5822a",
   "metadata": {},
   "source": [
    "**to add single or multiple items into a dictionary**"
   ]
  },
  {
   "cell_type": "code",
   "execution_count": 49,
   "id": "3d1b6262-d0b6-4327-a52e-bfa95e73b6a1",
   "metadata": {},
   "outputs": [
    {
     "name": "stdout",
     "output_type": "stream",
     "text": [
      "{'telugu': 47, 'english': 84, 'maths': 48, 'chemistry': 65}\n"
     ]
    }
   ],
   "source": [
    "marks.update({\"maths\":48,'chemistry':65})\n",
    "print(marks)"
   ]
  },
  {
   "cell_type": "markdown",
   "id": "49734e7e-9492-4448-9fda-ab7058f795f5",
   "metadata": {},
   "source": [
    "**to delete item in dictionary**\n",
    "\n",
    "- option 1 : del dict[key]"
   ]
  },
  {
   "cell_type": "code",
   "execution_count": 48,
   "id": "61b076cc-5321-4306-86c1-0cc747a5ac9d",
   "metadata": {},
   "outputs": [
    {
     "name": "stdout",
     "output_type": "stream",
     "text": [
      "{'telugu': 47, 'english': 84}\n"
     ]
    }
   ],
   "source": [
    "marks={\"telugu\":47,\"hindi\":39,\"english\":84}\n",
    "del marks[\"hindi\"]\n",
    "print(marks)"
   ]
  },
  {
   "cell_type": "markdown",
   "id": "edd72833-fdd0-43c0-86ae-75ac642d1d89",
   "metadata": {},
   "source": [
    "- option 2: **dict.pop(key)\n",
    "\n",
    "- **pop**()method removes and return the value of the specified key.\n",
    "\n",
    "- if the key does not exist, it raises a keyError"
   ]
  },
  {
   "cell_type": "code",
   "execution_count": 46,
   "id": "02fc7d9a-80c2-45ce-806d-bfb24bf93c54",
   "metadata": {},
   "outputs": [
    {
     "data": {
      "text/plain": [
       "{'telugu': 47, 'hindi': 39}"
      ]
     },
     "execution_count": 46,
     "metadata": {},
     "output_type": "execute_result"
    }
   ],
   "source": [
    "marks={\"telugu\":47,\"hindi\":39,\"english\":84}\n",
    "marks.pop(\"english\")\n",
    "marks"
   ]
  },
  {
   "cell_type": "markdown",
   "id": "2a74d583-cd7c-4fd8-9e67-4789d17ad771",
   "metadata": {},
   "source": [
    "**dict.clear()**\n",
    "\n",
    " - clear() method removes all items from the dictionary"
   ]
  },
  {
   "cell_type": "code",
   "execution_count": 45,
   "id": "3268d791-69a0-441a-ab0b-b14e0ea7d0ef",
   "metadata": {},
   "outputs": [
    {
     "name": "stdout",
     "output_type": "stream",
     "text": [
      "{}\n"
     ]
    }
   ],
   "source": [
    "marks={\"telugu\":47,\"hindi\":39,\"english\":84}\n",
    "marks.clear()\n",
    "print(marks)"
   ]
  },
  {
   "cell_type": "markdown",
   "id": "881d0a3b-af96-49f9-a5a5-430462dd7faa",
   "metadata": {},
   "source": [
    "**dict.copy()**\n",
    "\n",
    "- copy() method returns a shallow copy of the dictionary\n",
    "- changes to the copy of the dictionary not affect the original dictionary"
   ]
  },
  {
   "cell_type": "code",
   "execution_count": 48,
   "id": "f7b36a7a-b2c3-4de0-b6d6-558e6a9bbeea",
   "metadata": {},
   "outputs": [
    {
     "name": "stdout",
     "output_type": "stream",
     "text": [
      "{'telugu': 47, 'hindi': 39, 'english': 84}\n",
      "{'telugu': 47, 'hindi': 39}\n"
     ]
    }
   ],
   "source": [
    "a={\"telugu\":47,\"hindi\":39}\n",
    "b=a.copy()\n",
    "a.update({\"english\":84})\n",
    "print(a)\n",
    "print(b)"
   ]
  },
  {
   "cell_type": "code",
   "execution_count": 56,
   "id": "627358b2-bb24-480e-9137-c12b540ab694",
   "metadata": {},
   "outputs": [
    {
     "name": "stdout",
     "output_type": "stream",
     "text": [
      "{'telugu': 47, 'hindi': 39}\n"
     ]
    },
    {
     "data": {
      "text/plain": [
       "{'telugu': 47, 'hindi': 39, 'math': 64}"
      ]
     },
     "execution_count": 56,
     "metadata": {},
     "output_type": "execute_result"
    }
   ],
   "source": [
    "a={\"telugu\":47,\"hindi\":39}\n",
    "b=a.copy()\n",
    "b.update({\"math\":64})\n",
    "print(a)\n",
    "b"
   ]
  },
  {
   "cell_type": "code",
   "execution_count": 58,
   "id": "f8dc9a90-cf13-45a2-a916-28a6cdf56b8e",
   "metadata": {},
   "outputs": [
    {
     "data": {
      "text/plain": [
       "{'telugu': 47, 'hindi': 63}"
      ]
     },
     "execution_count": 58,
     "metadata": {},
     "output_type": "execute_result"
    }
   ],
   "source": [
    "a={\"telugu\":47,\"hindi\":39}\n",
    "a[\"hindi\"]=63\n",
    "a"
   ]
  },
  {
   "cell_type": "code",
   "execution_count": 60,
   "id": "e197339e-4c4f-43ba-bd15-ee4d4c343a3b",
   "metadata": {},
   "outputs": [
    {
     "data": {
      "text/plain": [
       "{'hindi': 39, 'social': 47}"
      ]
     },
     "execution_count": 60,
     "metadata": {},
     "output_type": "execute_result"
    }
   ],
   "source": [
    "a={\"telugu\":47,\"hindi\":39}\n",
    "a[\"social\"]=a.pop(\"telugu\")\n",
    "a"
   ]
  },
  {
   "cell_type": "markdown",
   "id": "fa85890f-971b-4706-9e07-e6bf8c822c3d",
   "metadata": {},
   "source": [
    "**dict.get()**\n",
    "\n",
    "- **get()** method returs the value of the specified key.\n",
    "- if the key is not present in the dictionary it will return \"None\"\n",
    "- we can get the value by using another way also **dict_name[key]"
   ]
  },
  {
   "cell_type": "code",
   "execution_count": 50,
   "id": "c5f13756-5337-40db-8200-23c1f36dfcbb",
   "metadata": {},
   "outputs": [
    {
     "data": {
      "text/plain": [
       "47"
      ]
     },
     "execution_count": 50,
     "metadata": {},
     "output_type": "execute_result"
    }
   ],
   "source": [
    "marks= {\"telugu\":47,\"hindi\":39}\n",
    "marks.get('telugu')"
   ]
  },
  {
   "cell_type": "markdown",
   "id": "ece4b172-b527-4221-84a4-82aadc7a7ddf",
   "metadata": {},
   "source": [
    "**to replace key in dictionary**"
   ]
  },
  {
   "cell_type": "code",
   "execution_count": 51,
   "id": "2de626fc-3014-41f9-a22c-e7ccc279878b",
   "metadata": {},
   "outputs": [
    {
     "data": {
      "text/plain": [
       "{'telugu': 78, 'hindi': 39}"
      ]
     },
     "execution_count": 51,
     "metadata": {},
     "output_type": "execute_result"
    }
   ],
   "source": [
    "marks= {\"telugu\":47,\"hindi\":39}\n",
    "marks['telugu']=78\n",
    "marks"
   ]
  },
  {
   "cell_type": "markdown",
   "id": "8df49c64-4309-412f-a55b-9b5086392116",
   "metadata": {},
   "source": [
    "**to replace key in dictionary**"
   ]
  },
  {
   "cell_type": "code",
   "execution_count": 52,
   "id": "07b556ca-fdda-4992-b3dc-fe69410545ff",
   "metadata": {},
   "outputs": [
    {
     "data": {
      "text/plain": [
       "{'telugu': 47, 'math': 39}"
      ]
     },
     "execution_count": 52,
     "metadata": {},
     "output_type": "execute_result"
    }
   ],
   "source": [
    "marks= {\"telugu\":47,\"hindi\":39}\n",
    "marks['math']=marks.pop('hindi')\n",
    "marks"
   ]
  },
  {
   "cell_type": "code",
   "execution_count": null,
   "id": "fdfca3d3-4216-42d1-b50d-65fa92208f88",
   "metadata": {},
   "outputs": [],
   "source": []
  }
 ],
 "metadata": {
  "kernelspec": {
   "display_name": "Python 3 (ipykernel)",
   "language": "python",
   "name": "python3"
  },
  "language_info": {
   "codemirror_mode": {
    "name": "ipython",
    "version": 3
   },
   "file_extension": ".py",
   "mimetype": "text/x-python",
   "name": "python",
   "nbconvert_exporter": "python",
   "pygments_lexer": "ipython3",
   "version": "3.12.4"
  }
 },
 "nbformat": 4,
 "nbformat_minor": 5
}
